{
 "cells": [
  {
   "cell_type": "markdown",
   "id": "2032b74f",
   "metadata": {},
   "source": [
    "**<span style=\"color: gray;\">In The Name of God</span>**\n",
    "\n",
    "---\n",
    "\n",
    "# **Bonus**"
   ]
  },
  {
   "cell_type": "markdown",
   "id": "ddb8b6d7",
   "metadata": {},
   "source": [
    "# **<span style=\"color: #99004C;\">Task#1 Bonus</span>**"
   ]
  },
  {
   "cell_type": "markdown",
   "id": "8f84a76c",
   "metadata": {},
   "source": [
    "##  When Does an MLP Become Equivalent to Logistic Regression?\n",
    "\n",
    "An **MLP (Multi-Layer Perceptron)** becomes equivalent to **logistic regression** under the following condition:\n",
    "\n",
    "1. **The network has only one linear layer** (**no hidden layers** )\n",
    "2. **Activation function is either:**\n",
    "   - sigmoid\n",
    "   - softmax\n",
    "3. **No Dropout or BatchNorm or complex components**\n",
    "   - Dropout adds random noise to the network (makes the model stochastic) and Logistic regression is a deterministic model.\n",
    "   - BatchNorm introduces a non-linear, dynamic transformation to the data.Logistic regression just applies a fixed linear transformation, no learned normalization0.Also, BatchNorm depends on the other data points in the batch — logistic regression doesn't.\n",
    "\n",
    "4. **No Non-linearities (ReLU, Tanh, etc.)**\n"
   ]
  },
  {
   "cell_type": "markdown",
   "id": "aa84563c",
   "metadata": {
    "vscode": {
     "languageId": "plaintext"
    }
   },
   "source": [
    "# **<span style=\"color: #99004C;\">Task#2 Bonus</span>**"
   ]
  },
  {
   "cell_type": "markdown",
   "id": "8b76db59",
   "metadata": {},
   "source": [
    "# **<span style=\"color: #99004C;\">Task#3 Bonus</span>**"
   ]
  }
 ],
 "metadata": {
  "language_info": {
   "name": "python"
  }
 },
 "nbformat": 4,
 "nbformat_minor": 5
}
