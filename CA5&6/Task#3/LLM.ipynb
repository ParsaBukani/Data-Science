{
 "cells": [
  {
   "cell_type": "markdown",
   "id": "a3b23faf",
   "metadata": {},
   "source": [
    "<span style=\"color: rgb(112, 112, 112);\">in the name of God</sapn>\n",
    "\n",
    "---\n",
    "\n",
    "# <span style=\"color: rgb(112, 112, 112);\">**Task 3: LLM for MCQs**</sapn>"
   ]
  },
  {
   "cell_type": "markdown",
   "id": "a110b051",
   "metadata": {},
   "source": [
    "# <span style=\"color: rgb(85, 186, 226);\">**Hugging face access token**</sapn>"
   ]
  },
  {
   "cell_type": "code",
   "execution_count": null,
   "id": "2131206e",
   "metadata": {},
   "outputs": [],
   "source": [
    "from huggingface_hub import login\n",
    "\n",
    "login(token=\"Enter\")"
   ]
  },
  {
   "cell_type": "markdown",
   "id": "c9eb49a7",
   "metadata": {},
   "source": [
    "# <span style=\"color: rgb(85, 186, 226);\">**Loading the dataset**</sapn>"
   ]
  },
  {
   "cell_type": "code",
   "execution_count": 7,
   "id": "1430c82e",
   "metadata": {},
   "outputs": [],
   "source": [
    "from datasets import load_dataset\n",
    "import pandas as pd\n",
    "\n",
    "swag_dataset = load_dataset('swag')"
   ]
  },
  {
   "cell_type": "markdown",
   "id": "52f968d7",
   "metadata": {},
   "source": [
    "# <span style=\"color: rgb(85, 186, 226);\">**Analyse the dataset**</sapn>"
   ]
  },
  {
   "cell_type": "code",
   "execution_count": 27,
   "id": "f940f300",
   "metadata": {},
   "outputs": [],
   "source": [
    "train_df = swag_dataset.get('train').to_pandas()\n",
    "valid_df = swag_dataset.get('validation').to_pandas()\n",
    "test_df = swag_dataset.get('test').to_pandas()\n",
    "df = pd.concat([train_df, valid_df, test_df])"
   ]
  },
  {
   "cell_type": "code",
   "execution_count": 28,
   "id": "c33c58e7",
   "metadata": {},
   "outputs": [
    {
     "name": "stdout",
     "output_type": "stream",
     "text": [
      "train set size: 73.546k\n",
      "validation set size: 20.006k\n",
      "test set size: 20.005k\n"
     ]
    }
   ],
   "source": [
    "print(f\"train set size: {len(train_df)/1000}k\")\n",
    "print(f\"validation set size: {len(valid_df)/1000}k\")\n",
    "print(f\"test set size: {len(test_df)/1000}k\")"
   ]
  },
  {
   "cell_type": "code",
   "execution_count": 60,
   "id": "c700640c",
   "metadata": {},
   "outputs": [
    {
     "data": {
      "text/html": [
       "<div>\n",
       "<style scoped>\n",
       "    .dataframe tbody tr th:only-of-type {\n",
       "        vertical-align: middle;\n",
       "    }\n",
       "\n",
       "    .dataframe tbody tr th {\n",
       "        vertical-align: top;\n",
       "    }\n",
       "\n",
       "    .dataframe thead th {\n",
       "        text-align: right;\n",
       "    }\n",
       "</style>\n",
       "<table border=\"1\" class=\"dataframe\">\n",
       "  <thead>\n",
       "    <tr style=\"text-align: right;\">\n",
       "      <th></th>\n",
       "      <th>video-id</th>\n",
       "      <th>fold-ind</th>\n",
       "      <th>startphrase</th>\n",
       "      <th>sent1</th>\n",
       "      <th>sent2</th>\n",
       "      <th>gold-source</th>\n",
       "      <th>ending0</th>\n",
       "      <th>ending1</th>\n",
       "      <th>ending2</th>\n",
       "      <th>ending3</th>\n",
       "      <th>label</th>\n",
       "    </tr>\n",
       "  </thead>\n",
       "  <tbody>\n",
       "    <tr>\n",
       "      <th>0</th>\n",
       "      <td>anetv_jkn6uvmqwh4</td>\n",
       "      <td>3416</td>\n",
       "      <td>Members of the procession walk down the street...</td>\n",
       "      <td>Members of the procession walk down the street...</td>\n",
       "      <td>A drum line</td>\n",
       "      <td>gold</td>\n",
       "      <td>passes by walking down the street playing thei...</td>\n",
       "      <td>has heard approaching them.</td>\n",
       "      <td>arrives and they're outside dancing and asleep.</td>\n",
       "      <td>turns the lead singer watches the performance.</td>\n",
       "      <td>0</td>\n",
       "    </tr>\n",
       "    <tr>\n",
       "      <th>1</th>\n",
       "      <td>anetv_jkn6uvmqwh4</td>\n",
       "      <td>3417</td>\n",
       "      <td>A drum line passes by walking down the street ...</td>\n",
       "      <td>A drum line passes by walking down the street ...</td>\n",
       "      <td>Members of the procession</td>\n",
       "      <td>gen</td>\n",
       "      <td>are playing ping pong and celebrating one left...</td>\n",
       "      <td>wait slowly towards the cadets.</td>\n",
       "      <td>continues to play as well along the crowd alon...</td>\n",
       "      <td>continue to play marching, interspersed.</td>\n",
       "      <td>3</td>\n",
       "    </tr>\n",
       "    <tr>\n",
       "      <th>2</th>\n",
       "      <td>anetv_jkn6uvmqwh4</td>\n",
       "      <td>3415</td>\n",
       "      <td>A group of members in green uniforms walks wav...</td>\n",
       "      <td>A group of members in green uniforms walks wav...</td>\n",
       "      <td>Members of the procession</td>\n",
       "      <td>gold</td>\n",
       "      <td>pay the other coaches to cheer as people this ...</td>\n",
       "      <td>walk down the street holding small horn brass ...</td>\n",
       "      <td>is seen in the background.</td>\n",
       "      <td>are talking a couple of people playing a game ...</td>\n",
       "      <td>1</td>\n",
       "    </tr>\n",
       "    <tr>\n",
       "      <th>3</th>\n",
       "      <td>anetv_jkn6uvmqwh4</td>\n",
       "      <td>3417</td>\n",
       "      <td>A drum line passes by walking down the street ...</td>\n",
       "      <td>A drum line passes by walking down the street ...</td>\n",
       "      <td>Members of the procession</td>\n",
       "      <td>gen</td>\n",
       "      <td>are playing ping pong and celebrating one left...</td>\n",
       "      <td>wait slowly towards the cadets.</td>\n",
       "      <td>makes a square call and ends by jumping down i...</td>\n",
       "      <td>play and go back and forth hitting the drums w...</td>\n",
       "      <td>3</td>\n",
       "    </tr>\n",
       "    <tr>\n",
       "      <th>4</th>\n",
       "      <td>anetv_Bri_myFFu4A</td>\n",
       "      <td>2408</td>\n",
       "      <td>The person plays a song on the violin. The man</td>\n",
       "      <td>The person plays a song on the violin.</td>\n",
       "      <td>The man</td>\n",
       "      <td>gold</td>\n",
       "      <td>finishes the song and lowers the instrument.</td>\n",
       "      <td>hits the saxophone and demonstrates how to pro...</td>\n",
       "      <td>finishes massage the instrument again and cont...</td>\n",
       "      <td>continues dancing while the man gore the music...</td>\n",
       "      <td>0</td>\n",
       "    </tr>\n",
       "  </tbody>\n",
       "</table>\n",
       "</div>"
      ],
      "text/plain": [
       "            video-id fold-ind  \\\n",
       "0  anetv_jkn6uvmqwh4     3416   \n",
       "1  anetv_jkn6uvmqwh4     3417   \n",
       "2  anetv_jkn6uvmqwh4     3415   \n",
       "3  anetv_jkn6uvmqwh4     3417   \n",
       "4  anetv_Bri_myFFu4A     2408   \n",
       "\n",
       "                                         startphrase  \\\n",
       "0  Members of the procession walk down the street...   \n",
       "1  A drum line passes by walking down the street ...   \n",
       "2  A group of members in green uniforms walks wav...   \n",
       "3  A drum line passes by walking down the street ...   \n",
       "4     The person plays a song on the violin. The man   \n",
       "\n",
       "                                               sent1  \\\n",
       "0  Members of the procession walk down the street...   \n",
       "1  A drum line passes by walking down the street ...   \n",
       "2  A group of members in green uniforms walks wav...   \n",
       "3  A drum line passes by walking down the street ...   \n",
       "4             The person plays a song on the violin.   \n",
       "\n",
       "                       sent2 gold-source  \\\n",
       "0                A drum line        gold   \n",
       "1  Members of the procession         gen   \n",
       "2  Members of the procession        gold   \n",
       "3  Members of the procession         gen   \n",
       "4                    The man        gold   \n",
       "\n",
       "                                             ending0  \\\n",
       "0  passes by walking down the street playing thei...   \n",
       "1  are playing ping pong and celebrating one left...   \n",
       "2  pay the other coaches to cheer as people this ...   \n",
       "3  are playing ping pong and celebrating one left...   \n",
       "4       finishes the song and lowers the instrument.   \n",
       "\n",
       "                                             ending1  \\\n",
       "0                        has heard approaching them.   \n",
       "1                    wait slowly towards the cadets.   \n",
       "2  walk down the street holding small horn brass ...   \n",
       "3                    wait slowly towards the cadets.   \n",
       "4  hits the saxophone and demonstrates how to pro...   \n",
       "\n",
       "                                             ending2  \\\n",
       "0    arrives and they're outside dancing and asleep.   \n",
       "1  continues to play as well along the crowd alon...   \n",
       "2                         is seen in the background.   \n",
       "3  makes a square call and ends by jumping down i...   \n",
       "4  finishes massage the instrument again and cont...   \n",
       "\n",
       "                                             ending3  label  \n",
       "0     turns the lead singer watches the performance.      0  \n",
       "1           continue to play marching, interspersed.      3  \n",
       "2  are talking a couple of people playing a game ...      1  \n",
       "3  play and go back and forth hitting the drums w...      3  \n",
       "4  continues dancing while the man gore the music...      0  "
      ]
     },
     "execution_count": 60,
     "metadata": {},
     "output_type": "execute_result"
    }
   ],
   "source": [
    "df.head()"
   ]
  },
  {
   "cell_type": "code",
   "execution_count": 61,
   "id": "b40e176c",
   "metadata": {},
   "outputs": [
    {
     "name": "stdout",
     "output_type": "stream",
     "text": [
      "<class 'pandas.core.frame.DataFrame'>\n",
      "Index: 113557 entries, 0 to 20004\n",
      "Data columns (total 11 columns):\n",
      " #   Column       Non-Null Count   Dtype \n",
      "---  ------       --------------   ----- \n",
      " 0   video-id     113557 non-null  object\n",
      " 1   fold-ind     113557 non-null  object\n",
      " 2   startphrase  113557 non-null  object\n",
      " 3   sent1        113557 non-null  object\n",
      " 4   sent2        113557 non-null  object\n",
      " 5   gold-source  113557 non-null  object\n",
      " 6   ending0      113557 non-null  object\n",
      " 7   ending1      113557 non-null  object\n",
      " 8   ending2      113557 non-null  object\n",
      " 9   ending3      113557 non-null  object\n",
      " 10  label        113557 non-null  int64 \n",
      "dtypes: int64(1), object(10)\n",
      "memory usage: 10.4+ MB\n"
     ]
    }
   ],
   "source": [
    "df.info()"
   ]
  },
  {
   "cell_type": "code",
   "execution_count": 62,
   "id": "acbec717",
   "metadata": {},
   "outputs": [
    {
     "data": {
      "text/plain": [
       "video-id       0\n",
       "fold-ind       0\n",
       "startphrase    0\n",
       "sent1          0\n",
       "sent2          0\n",
       "gold-source    0\n",
       "ending0        0\n",
       "ending1        0\n",
       "ending2        0\n",
       "ending3        0\n",
       "label          0\n",
       "dtype: int64"
      ]
     },
     "execution_count": 62,
     "metadata": {},
     "output_type": "execute_result"
    }
   ],
   "source": [
    "df.isnull().sum()"
   ]
  },
  {
   "cell_type": "code",
   "execution_count": 63,
   "id": "a7c5a6dc",
   "metadata": {},
   "outputs": [
    {
     "data": {
      "text/plain": [
       "0"
      ]
     },
     "execution_count": 63,
     "metadata": {},
     "output_type": "execute_result"
    }
   ],
   "source": [
    "df.duplicated().sum()"
   ]
  },
  {
   "cell_type": "code",
   "execution_count": 64,
   "id": "2d89904f",
   "metadata": {},
   "outputs": [
    {
     "data": {
      "image/png": "[encoded data removed]",
      "text/plain": [
       "<Figure size 800x550 with 1 Axes>"
      ]
     },
     "metadata": {},
     "output_type": "display_data"
    }
   ],
   "source": [
    "import matplotlib.pyplot as plt\n",
    "plt.style.use(\"seaborn-v0_8\")\n",
    "\n",
    "source_count = df['gold-source'].value_counts()\n",
    "\n",
    "source_count.plot(kind='bar', title='gold-source count', color='skyblue')\n",
    "plt.xticks(rotation=0)\n",
    "plt.show()"
   ]
  },
  {
   "cell_type": "code",
   "execution_count": 65,
   "id": "95a485fd",
   "metadata": {},
   "outputs": [],
   "source": [
    "df_v2 = df.copy()\n",
    "df_v2['len_sent1'] = df_v2['sent1'].apply(lambda x: len(x.split()))\n",
    "df_v2['len_sent2'] = df_v2['sent2'].apply(lambda x: len(x.split()))\n",
    "df_v2['len_end0'] = df_v2['ending0'].apply(lambda x: len(x.split()))\n",
    "df_v2['len_end1'] = df_v2['ending1'].apply(lambda x: len(x.split()))\n",
    "df_v2['len_end2'] = df_v2['ending2'].apply(lambda x: len(x.split()))\n",
    "df_v2['len_end3'] = df_v2['ending3'].apply(lambda x: len(x.split()))"
   ]
  },
  {
   "cell_type": "code",
   "execution_count": 66,
   "id": "6c818ff7",
   "metadata": {},
   "outputs": [
    {
     "data": {
      "image/png": "[encoded data removed]",
      "text/plain": [
       "<Figure size 1400x800 with 6 Axes>"
      ]
     },
     "metadata": {},
     "output_type": "display_data"
    }
   ],
   "source": [
    "len_columns = ['len_sent1', 'len_sent2', 'len_end0', 'len_end1', 'len_end2', 'len_end3']\n",
    "\n",
    "plt.figure(figsize=(14, 8))\n",
    "\n",
    "for i, col in enumerate(len_columns, 1):\n",
    "    plt.subplot(3, 2, i)\n",
    "    ax = df_v2[col].value_counts().plot(kind='bar', color='coral', grid=False)\n",
    "    plt.title(col.split('_')[1])\n",
    "    plt.xlabel('len')\n",
    "    plt.ylabel('count')\n",
    "\n",
    "plt.tight_layout()\n",
    "plt.show()"
   ]
  },
  {
   "cell_type": "code",
   "execution_count": null,
   "id": "b0284406",
   "metadata": {},
   "outputs": [
    {
     "data": {
      "text/html": [
       "<div>\n",
       "<style scoped>\n",
       "    .dataframe tbody tr th:only-of-type {\n",
       "        vertical-align: middle;\n",
       "    }\n",
       "\n",
       "    .dataframe tbody tr th {\n",
       "        vertical-align: top;\n",
       "    }\n",
       "\n",
       "    .dataframe thead th {\n",
       "        text-align: right;\n",
       "    }\n",
       "</style>\n",
       "<table border=\"1\" class=\"dataframe\">\n",
       "  <thead>\n",
       "    <tr style=\"text-align: right;\">\n",
       "      <th></th>\n",
       "      <th>len_sent1</th>\n",
       "      <th>len_sent2</th>\n",
       "      <th>len_end0</th>\n",
       "      <th>len_end1</th>\n",
       "      <th>len_end2</th>\n",
       "      <th>len_end3</th>\n",
       "    </tr>\n",
       "  </thead>\n",
       "  <tbody>\n",
       "    <tr>\n",
       "      <th>count</th>\n",
       "      <td>113557.000000</td>\n",
       "      <td>113557.000000</td>\n",
       "      <td>113557.000000</td>\n",
       "      <td>113557.000000</td>\n",
       "      <td>113557.000000</td>\n",
       "      <td>113557.000000</td>\n",
       "    </tr>\n",
       "    <tr>\n",
       "      <th>mean</th>\n",
       "      <td>11.538082</td>\n",
       "      <td>2.700617</td>\n",
       "      <td>8.667119</td>\n",
       "      <td>8.690068</td>\n",
       "      <td>8.660320</td>\n",
       "      <td>8.651461</td>\n",
       "    </tr>\n",
       "    <tr>\n",
       "      <th>std</th>\n",
       "      <td>5.382825</td>\n",
       "      <td>3.147949</td>\n",
       "      <td>4.009486</td>\n",
       "      <td>4.021567</td>\n",
       "      <td>4.018033</td>\n",
       "      <td>4.018416</td>\n",
       "    </tr>\n",
       "    <tr>\n",
       "      <th>min</th>\n",
       "      <td>3.000000</td>\n",
       "      <td>1.000000</td>\n",
       "      <td>1.000000</td>\n",
       "      <td>1.000000</td>\n",
       "      <td>1.000000</td>\n",
       "      <td>1.000000</td>\n",
       "    </tr>\n",
       "    <tr>\n",
       "      <th>25%</th>\n",
       "      <td>8.000000</td>\n",
       "      <td>1.000000</td>\n",
       "      <td>6.000000</td>\n",
       "      <td>6.000000</td>\n",
       "      <td>6.000000</td>\n",
       "      <td>6.000000</td>\n",
       "    </tr>\n",
       "    <tr>\n",
       "      <th>50%</th>\n",
       "      <td>10.000000</td>\n",
       "      <td>2.000000</td>\n",
       "      <td>8.000000</td>\n",
       "      <td>8.000000</td>\n",
       "      <td>8.000000</td>\n",
       "      <td>8.000000</td>\n",
       "    </tr>\n",
       "    <tr>\n",
       "      <th>75%</th>\n",
       "      <td>14.000000</td>\n",
       "      <td>3.000000</td>\n",
       "      <td>11.000000</td>\n",
       "      <td>11.000000</td>\n",
       "      <td>11.000000</td>\n",
       "      <td>11.000000</td>\n",
       "    </tr>\n",
       "    <tr>\n",
       "      <th>max</th>\n",
       "      <td>74.000000</td>\n",
       "      <td>76.000000</td>\n",
       "      <td>25.000000</td>\n",
       "      <td>25.000000</td>\n",
       "      <td>25.000000</td>\n",
       "      <td>25.000000</td>\n",
       "    </tr>\n",
       "  </tbody>\n",
       "</table>\n",
       "</div>"
      ],
      "text/plain": [
       "           len_sent1      len_sent2       len_end0       len_end1  \\\n",
       "count  113557.000000  113557.000000  113557.000000  113557.000000   \n",
       "mean       11.538082       2.700617       8.667119       8.690068   \n",
       "std         5.382825       3.147949       4.009486       4.021567   \n",
       "min         3.000000       1.000000       1.000000       1.000000   \n",
       "25%         8.000000       1.000000       6.000000       6.000000   \n",
       "50%        10.000000       2.000000       8.000000       8.000000   \n",
       "75%        14.000000       3.000000      11.000000      11.000000   \n",
       "max        74.000000      76.000000      25.000000      25.000000   \n",
       "\n",
       "            len_end2       len_end3  \n",
       "count  113557.000000  113557.000000  \n",
       "mean        8.660320       8.651461  \n",
       "std         4.018033       4.018416  \n",
       "min         1.000000       1.000000  \n",
       "25%         6.000000       6.000000  \n",
       "50%         8.000000       8.000000  \n",
       "75%        11.000000      11.000000  \n",
       "max        25.000000      25.000000  "
      ]
     },
     "execution_count": 68,
     "metadata": {},
     "output_type": "execute_result"
    }
   ],
   "source": [
    "df_v2[len_columns].describe()"
   ]
  },
  {
   "cell_type": "markdown",
   "id": "9b2b4cf7",
   "metadata": {},
   "source": [
    "# <span style=\"color:rgb(85, 186, 226);\">**Preprocess the dataset**</sapn>"
   ]
  },
  {
   "cell_type": "code",
   "execution_count": 22,
   "id": "6b34d0f8",
   "metadata": {},
   "outputs": [],
   "source": [
    "def preprocess(batch: dict, tokenizer):\n",
    "    batch_size = len(batch['sent1'])\n",
    "    all_candidates = []\n",
    "    for i in range(batch_size):\n",
    "        full_sentence = batch['sent1'][i] + ' ' + batch['sent2'][i]\n",
    "        for k in range(4):\n",
    "            candidate = full_sentence + ' ' + batch[f\"ending{k}\"][i]\n",
    "            all_candidates.append(candidate)\n",
    "    \n",
    "    tokenized = tokenizer(all_candidates, return_tensors=None)\n",
    "\n",
    "    def unflatten(lst):\n",
    "        return [lst[i*4: (i+1)*4] for i in range(batch_size)]\n",
    "    \n",
    "    tokenized = {k: unflatten(v) for k, v in tokenized.items()}\n",
    "\n",
    "    return tokenized"
   ]
  },
  {
   "cell_type": "markdown",
   "id": "5a5bdeaf",
   "metadata": {},
   "source": [
    "# <span style=\"color:rgb(85, 186, 226);\">**Load a tokenizer**</sapn>\n"
   ]
  },
  {
   "cell_type": "code",
   "execution_count": 11,
   "id": "99e52824",
   "metadata": {},
   "outputs": [],
   "source": [
    "from transformers import AutoTokenizer\n",
    "\n",
    "tokenizer = AutoTokenizer.from_pretrained(\"google-bert/bert-base-uncased\")"
   ]
  },
  {
   "cell_type": "markdown",
   "id": "40f81732",
   "metadata": {},
   "source": [
    "# <span style=\"color:rgb(85, 186, 226);\">**Apply the preprocessing function**</sapn>"
   ]
  },
  {
   "cell_type": "code",
   "execution_count": 23,
   "id": "87163560",
   "metadata": {},
   "outputs": [
    {
     "data": {
      "application/vnd.jupyter.widget-view+json": {
       "model_id": "2ccebb56805b4c6fa3d162fcc5cb1a8c",
       "version_major": 2,
       "version_minor": 0
      },
      "text/plain": [
       "Map:   0%|          | 0/73546 [00:00<?, ? examples/s]"
      ]
     },
     "metadata": {},
     "output_type": "display_data"
    }
   ],
   "source": [
    "train_dataset = swag_dataset['train']\n",
    "\n",
    "preprocessed_trainset = train_dataset.map(lambda batch: preprocess(batch, tokenizer), batched=True)"
   ]
  },
  {
   "cell_type": "markdown",
   "id": "8482c817",
   "metadata": {},
   "source": [
    "# <span style=\"color:rgb(85, 186, 226);\">**Padding**</sapn>"
   ]
  },
  {
   "cell_type": "code",
   "execution_count": null,
   "id": "5e45ed97",
   "metadata": {},
   "outputs": [],
   "source": [
    "from transformers import DataCollatorForMultipleChoice\n",
    "\n",
    "data_collator = DataCollatorForMultipleChoice(tokenizer, padding=True)"
   ]
  },
  {
   "cell_type": "markdown",
   "id": "9b64744f",
   "metadata": {},
   "source": [
    "# <span style=\"color:rgb(85, 186, 226);\">**Load the model**</sapn>"
   ]
  },
  {
   "cell_type": "markdown",
   "id": "525ceb93",
   "metadata": {},
   "source": [
    "# <span style=\"color: rgb(85, 186, 226);\">**Test the model on the dataset**</sapn>"
   ]
  },
  {
   "cell_type": "markdown",
   "id": "7a5e022c",
   "metadata": {},
   "source": [
    "# <span style=\"color: rgb(85, 186, 226);\">**Use in-context learning (ICL)**</sapn>"
   ]
  },
  {
   "cell_type": "markdown",
   "id": "b4a745ec",
   "metadata": {},
   "source": [
    "# <span style=\"color: rgb(85, 186, 226);\">**Fine-tune bert**</sapn>"
   ]
  },
  {
   "cell_type": "markdown",
   "id": "0bb11769",
   "metadata": {},
   "source": [
    "# <span style=\"color:rgb(85, 186, 226);\">**In-Context Learning with the Fine-Tuned Model**</sapn>"
   ]
  },
  {
   "cell_type": "markdown",
   "id": "3a8772ec",
   "metadata": {},
   "source": [
    "# <span style=\"color:rgb(85, 186, 226);\">**Analyse the results**</sapn>"
   ]
  },
  {
   "cell_type": "markdown",
   "id": "505c1467",
   "metadata": {
    "vscode": {
     "languageId": "plaintext"
    }
   },
   "source": [
    "# <span style=\"color:rgb(238, 65, 65);\">**Questions**</sapn>"
   ]
  }
 ],
 "metadata": {
  "kernelspec": {
   "display_name": "3.10.12",
   "language": "python",
   "name": "python3"
  },
  "language_info": {
   "codemirror_mode": {
    "name": "ipython",
    "version": 3
   },
   "file_extension": ".py",
   "mimetype": "text/x-python",
   "name": "python",
   "nbconvert_exporter": "python",
   "pygments_lexer": "ipython3",
   "version": "3.10.12"
  }
 },
 "nbformat": 4,
 "nbformat_minor": 5
}
