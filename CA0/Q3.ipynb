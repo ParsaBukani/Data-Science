{
 "cells": [
  {
   "cell_type": "markdown",
   "metadata": {},
   "source": [
    "**<span style=\"color: #808080;\">In The Name of God</span>**\n",
    "\n",
    "---\n",
    "\n",
    "**<span style=\"color: #808080;\">Erfan Falahati</span>**\n",
    "\n",
    "**<span style=\"color: #808080;\">SID:</span> <span style=\"color: #808080;\">810102491</span>**\n",
    "\n",
    "# <span style=\"color: #20B2AA;\">Question #3</span>\n",
    "# <span style=\"color: #20B2AA;\">Drug Safety Test\n",
    "</span>\n",
    "\n",
    "\n"
   ]
  },
  {
   "cell_type": "markdown",
   "metadata": {},
   "source": [
    "## <span style=\"color: #808080;\">Part 1:</span>  \n",
    "<font color=\"#20B2AA\">Read the csv file</font>"
   ]
  },
  {
   "cell_type": "code",
   "execution_count": 33,
   "metadata": {},
   "outputs": [],
   "source": [
    "import pandas as pd\n",
    "import matplotlib.pyplot as plt\n",
    "\n",
    "df = pd.read_csv('content/drug_safety.csv')"
   ]
  },
  {
   "cell_type": "markdown",
   "metadata": {},
   "source": [
    "## <span style=\"color: #808080;\">Part 2:</span>  \n"
   ]
  },
  {
   "cell_type": "markdown",
   "metadata": {},
   "source": [
    "<font color=\"#20B2AA\">Check for  count of NaN datas</font>"
   ]
  },
  {
   "cell_type": "code",
   "execution_count": 34,
   "metadata": {},
   "outputs": [
    {
     "data": {
      "image/png": "[encoded data removed]",
      "text/plain": [
       "<Figure size 640x480 with 1 Axes>"
      ]
     },
     "metadata": {},
     "output_type": "display_data"
    }
   ],
   "source": [
    "info_df = pd.DataFrame({\n",
    "    \"column\": df.columns,\n",
    "    \"nan count\": df.isna().sum().values,\n",
    "    \"missing_percentage\": df.isna().mean() * 100,\n",
    "    \"data type\": df.dtypes.values\n",
    "})\n",
    "\n",
    "plt.style.use(\"classic\")\n",
    "fig, ax = plt.subplots(figsize=(8, 6))\n",
    "ax.axis('off')\n",
    "fig.patch.set_facecolor('#404040')\n",
    "\n",
    "column_labels = ['variable', 'NaN Count', 'missing percentage', 'data type']\n",
    "table = ax.table(cellText=info_df.values, colLabels=column_labels,\n",
    "            cellLoc='center', loc='center', cellColours=[[\"#20B2AA\"]*4]*8)\n",
    "\n",
    "table.set_fontsize(10)\n",
    "table.auto_set_column_width([0, 1, 2])\n",
    "\n",
    "plt.title(\"Dataset Information\", color='white')\n",
    "plt.show()\n",
    "\n"
   ]
  },
  {
   "cell_type": "markdown",
   "metadata": {},
   "source": [
    "<font color=\"#20B2AA\"> Approximately 43% of the data contains NaN values.</font>\n",
    "\n",
    "<font color=\"#20B2AA\"> However, since the data is related to the medical field, we prefer to drop rows with missing values.</font>"
   ]
  },
  {
   "cell_type": "code",
   "execution_count": 35,
   "metadata": {},
   "outputs": [
    {
     "data": {
      "text/html": [
       "<div>\n",
       "<style scoped>\n",
       "    .dataframe tbody tr th:only-of-type {\n",
       "        vertical-align: middle;\n",
       "    }\n",
       "\n",
       "    .dataframe tbody tr th {\n",
       "        vertical-align: top;\n",
       "    }\n",
       "\n",
       "    .dataframe thead th {\n",
       "        text-align: right;\n",
       "    }\n",
       "</style>\n",
       "<table border=\"1\" class=\"dataframe\">\n",
       "  <thead>\n",
       "    <tr style=\"text-align: right;\">\n",
       "      <th></th>\n",
       "      <th>age</th>\n",
       "      <th>sex</th>\n",
       "      <th>trx</th>\n",
       "      <th>week</th>\n",
       "      <th>wbc</th>\n",
       "      <th>rbc</th>\n",
       "      <th>adverse_effects</th>\n",
       "      <th>num_effects</th>\n",
       "    </tr>\n",
       "  </thead>\n",
       "  <tbody>\n",
       "    <tr>\n",
       "      <th>0</th>\n",
       "      <td>62</td>\n",
       "      <td>male</td>\n",
       "      <td>Drug</td>\n",
       "      <td>0</td>\n",
       "      <td>7.3</td>\n",
       "      <td>5.1</td>\n",
       "      <td>No</td>\n",
       "      <td>0</td>\n",
       "    </tr>\n",
       "    <tr>\n",
       "      <th>2</th>\n",
       "      <td>62</td>\n",
       "      <td>male</td>\n",
       "      <td>Drug</td>\n",
       "      <td>12</td>\n",
       "      <td>5.6</td>\n",
       "      <td>5.0</td>\n",
       "      <td>No</td>\n",
       "      <td>0</td>\n",
       "    </tr>\n",
       "    <tr>\n",
       "      <th>4</th>\n",
       "      <td>62</td>\n",
       "      <td>male</td>\n",
       "      <td>Drug</td>\n",
       "      <td>2</td>\n",
       "      <td>6.6</td>\n",
       "      <td>5.1</td>\n",
       "      <td>No</td>\n",
       "      <td>0</td>\n",
       "    </tr>\n",
       "    <tr>\n",
       "      <th>6</th>\n",
       "      <td>62</td>\n",
       "      <td>male</td>\n",
       "      <td>Drug</td>\n",
       "      <td>4</td>\n",
       "      <td>6.9</td>\n",
       "      <td>5.2</td>\n",
       "      <td>Yes</td>\n",
       "      <td>1</td>\n",
       "    </tr>\n",
       "    <tr>\n",
       "      <th>7</th>\n",
       "      <td>62</td>\n",
       "      <td>male</td>\n",
       "      <td>Drug</td>\n",
       "      <td>8</td>\n",
       "      <td>7.1</td>\n",
       "      <td>5.0</td>\n",
       "      <td>Yes</td>\n",
       "      <td>1</td>\n",
       "    </tr>\n",
       "    <tr>\n",
       "      <th>...</th>\n",
       "      <td>...</td>\n",
       "      <td>...</td>\n",
       "      <td>...</td>\n",
       "      <td>...</td>\n",
       "      <td>...</td>\n",
       "      <td>...</td>\n",
       "      <td>...</td>\n",
       "      <td>...</td>\n",
       "    </tr>\n",
       "    <tr>\n",
       "      <th>16095</th>\n",
       "      <td>78</td>\n",
       "      <td>male</td>\n",
       "      <td>Placebo</td>\n",
       "      <td>0</td>\n",
       "      <td>7.2</td>\n",
       "      <td>5.0</td>\n",
       "      <td>No</td>\n",
       "      <td>0</td>\n",
       "    </tr>\n",
       "    <tr>\n",
       "      <th>16097</th>\n",
       "      <td>78</td>\n",
       "      <td>male</td>\n",
       "      <td>Placebo</td>\n",
       "      <td>12</td>\n",
       "      <td>6.5</td>\n",
       "      <td>4.9</td>\n",
       "      <td>No</td>\n",
       "      <td>0</td>\n",
       "    </tr>\n",
       "    <tr>\n",
       "      <th>16099</th>\n",
       "      <td>78</td>\n",
       "      <td>male</td>\n",
       "      <td>Placebo</td>\n",
       "      <td>2</td>\n",
       "      <td>7.5</td>\n",
       "      <td>4.9</td>\n",
       "      <td>No</td>\n",
       "      <td>0</td>\n",
       "    </tr>\n",
       "    <tr>\n",
       "      <th>16101</th>\n",
       "      <td>78</td>\n",
       "      <td>male</td>\n",
       "      <td>Placebo</td>\n",
       "      <td>4</td>\n",
       "      <td>6.4</td>\n",
       "      <td>4.8</td>\n",
       "      <td>No</td>\n",
       "      <td>0</td>\n",
       "    </tr>\n",
       "    <tr>\n",
       "      <th>16102</th>\n",
       "      <td>78</td>\n",
       "      <td>male</td>\n",
       "      <td>Placebo</td>\n",
       "      <td>8</td>\n",
       "      <td>7.8</td>\n",
       "      <td>4.8</td>\n",
       "      <td>No</td>\n",
       "      <td>0</td>\n",
       "    </tr>\n",
       "  </tbody>\n",
       "</table>\n",
       "<p>9127 rows × 8 columns</p>\n",
       "</div>"
      ],
      "text/plain": [
       "       age   sex      trx  week  wbc  rbc adverse_effects  num_effects\n",
       "0       62  male     Drug     0  7.3  5.1              No            0\n",
       "2       62  male     Drug    12  5.6  5.0              No            0\n",
       "4       62  male     Drug     2  6.6  5.1              No            0\n",
       "6       62  male     Drug     4  6.9  5.2             Yes            1\n",
       "7       62  male     Drug     8  7.1  5.0             Yes            1\n",
       "...    ...   ...      ...   ...  ...  ...             ...          ...\n",
       "16095   78  male  Placebo     0  7.2  5.0              No            0\n",
       "16097   78  male  Placebo    12  6.5  4.9              No            0\n",
       "16099   78  male  Placebo     2  7.5  4.9              No            0\n",
       "16101   78  male  Placebo     4  6.4  4.8              No            0\n",
       "16102   78  male  Placebo     8  7.8  4.8              No            0\n",
       "\n",
       "[9127 rows x 8 columns]"
      ]
     },
     "execution_count": 35,
     "metadata": {},
     "output_type": "execute_result"
    }
   ],
   "source": [
    "df.dropna()"
   ]
  },
  {
   "cell_type": "markdown",
   "metadata": {},
   "source": [
    "## <span style=\"color: #808080;\">Part 3:</span>  \n",
    "<font color=\"#20B2AA\">Display Basic Statistic</font>\n",
    "\n"
   ]
  },
  {
   "cell_type": "code",
   "execution_count": 36,
   "metadata": {},
   "outputs": [
    {
     "data": {
      "image/png": "[encoded data removed]",
      "text/plain": [
       "<Figure size 640x480 with 1 Axes>"
      ]
     },
     "metadata": {},
     "output_type": "display_data"
    }
   ],
   "source": [
    "desc_df = df.describe().map(lambda x: f\"{x:.2f}\")\n",
    "\n",
    "dropped_desc_df = desc_df.drop(['25%', '50%', '75%'])\n",
    "\n",
    "plt.style.use(\"classic\")\n",
    "fig, ax = plt.subplots(figsize=(8, 6))\n",
    "ax.axis('off')\n",
    "fig.patch.set_facecolor('#404040')\n",
    "\n",
    "column_labels = dropped_desc_df.columns.values\n",
    "raw_labels = dropped_desc_df.index.values\n",
    "table = ax.table(cellText=dropped_desc_df.values, colLabels=column_labels, rowLabels=raw_labels,\n",
    "            cellLoc='center', loc='center', cellColours=[[\"#20B2AA\"]*5]*5)\n",
    "\n",
    "table.set_fontsize(10)\n",
    "table.auto_set_column_width([0,1,2])\n",
    "\n",
    "plt.title(\"Basic Statstics\", color='white')\n",
    "plt.show()"
   ]
  },
  {
   "cell_type": "markdown",
   "metadata": {},
   "source": [
    "## <span style=\"color: #808080;\">Part 4:</span>  \n",
    "<font color=\"#20B2AA\">Goup the Dataset by trx </font>"
   ]
  },
  {
   "cell_type": "code",
   "execution_count": 37,
   "metadata": {},
   "outputs": [],
   "source": [
    "drug_group = df[df[\"trx\"] == \"Drug\"].copy()\n",
    "placebo_group = df[df[\"trx\"] == \"Placebo\"].copy()"
   ]
  },
  {
   "cell_type": "markdown",
   "metadata": {},
   "source": [
    "<font color=\"#20B2AA\">Summarize key statistic for wbc, rbc and num_effects</font></font>"
   ]
  },
  {
   "cell_type": "code",
   "execution_count": 38,
   "metadata": {},
   "outputs": [
    {
     "data": {
      "image/png": "[encoded data removed]",
      "text/plain": [
       "<Figure size 640x480 with 2 Axes>"
      ]
     },
     "metadata": {},
     "output_type": "display_data"
    }
   ],
   "source": [
    "drug_stats = drug_group[['wbc', 'rbc', 'num_effects']].agg([\"mean\", \"std\", \"min\", \"max\", \"count\"]).map(lambda x: f\"{x:.2f}\")\n",
    "placebo_stats = placebo_group[['wbc', 'rbc', 'num_effects']].agg([\"mean\", \"std\", \"min\", \"max\", \"count\"]).map(lambda x: f\"{x:.2f}\")\n",
    "\n",
    "plt.style.use(\"classic\")\n",
    "fig, (ax1, ax2) = plt.subplots(figsize=(8, 6), ncols=2)\n",
    "\n",
    "ax1.axis('off')\n",
    "fig.patch.set_facecolor('#404040')\n",
    "column_labels = drug_stats.columns.values\n",
    "raw_labels = drug_stats.index.values\n",
    "table1 = ax1.table(cellText=drug_stats.values, colLabels=column_labels, rowLabels=raw_labels,\n",
    "                  cellLoc='center', loc='center', \n",
    "                  cellColours=[[\"#A2A0A0\", \"#C34949\", \"#20B2AA\"]]*5)\n",
    "\n",
    "table1.set_fontsize(10)\n",
    "table1.auto_set_column_width([0, 1, 2])\n",
    "ax1.set_title(\"Drug Group Key Statistics\", color='white')\n",
    "\n",
    "ax2.axis('off')\n",
    "column_labels = placebo_stats.columns.values\n",
    "raw_labels = placebo_stats.index.values\n",
    "table2 = ax2.table(cellText=placebo_stats.values, colLabels=column_labels, rowLabels=raw_labels,\n",
    "                  cellLoc='center', loc='center', \n",
    "                  cellColours=[[\"#A2A0A0\", \"#C34949\", \"#20B2AA\"]]*5)\n",
    "\n",
    "table2.set_fontsize(10)\n",
    "table2.auto_set_column_width([0, 1, 2])\n",
    "ax2.set_title(\"Placebo Group Key Statistics\", color='white')\n",
    "\n",
    "plt.tight_layout()\n",
    "plt.show()"
   ]
  },
  {
   "cell_type": "markdown",
   "metadata": {},
   "source": [
    "## <span style=\"color: #808080;\">Part 5:</span>  \n",
    "\n",
    "<font color=\"#20B2AA\">Since adverse_effects is a yes/no variable, we need to convert it into a numeric format before calculating the mean:</font>  \n",
    "\n",
    "<font color=\"#20B2AA\">Yes → 1</font>  \n",
    "<font color=\"#20B2AA\">No → 0</font>  \n"
   ]
  },
  {
   "cell_type": "code",
   "execution_count": 39,
   "metadata": {},
   "outputs": [
    {
     "name": "stdout",
     "output_type": "stream",
     "text": [
      "adverse_effects mean for drug group: 0.09546005406917125\n",
      "adverse_effects mean for placebo group: 0.09523809523809523\n"
     ]
    }
   ],
   "source": [
    "drug_group['adverse_effects'] = drug_group['adverse_effects'].map({'Yes': 1, 'No': 0}).astype('int64')\n",
    "placebo_group['adverse_effects'] = placebo_group['adverse_effects'].map({'Yes': 1, 'No': 0}).astype('int64')\n",
    "\n",
    "print('adverse_effects mean for drug group:', drug_group['adverse_effects'].mean())\n",
    "print('adverse_effects mean for placebo group:', placebo_group['adverse_effects'].mean())"
   ]
  },
  {
   "cell_type": "markdown",
   "metadata": {},
   "source": [
    "## <span style=\"color: #808080;\">Part 6:</span>  \n",
    "\n",
    "**<span style=\"color:#20B2AA;\">alternative argument:</span>** \n",
    "It tests if the means of the two groups are different (two-tailed test)\n",
    "\n",
    "**Since we are checking for any significant difference , we use a `two-sided` test.**\n",
    "\n",
    "options : `two-sided`, `greater`, `less`\n",
    "\n",
    "**<span style=\"color:#20B2AA;\">equal-var argument:</span>** \n",
    "The equal_var argument controls whether we assume equal variances between the two groups (Drug and Placebo).\n",
    "\n",
    "To ensure the use of `equal_var` for each metric, we run **Levene’s test**.\n",
    "\n",
    "options : `True`, `False` "
   ]
  },
  {
   "cell_type": "markdown",
   "metadata": {},
   "source": [
    "**<font color=\"#20B2AA\">Performing Levene’s test</font>**"
   ]
  },
  {
   "cell_type": "code",
   "execution_count": 40,
   "metadata": {},
   "outputs": [
    {
     "name": "stdout",
     "output_type": "stream",
     "text": [
      "Levene’s test for mean wbc\n",
      "Levene’s test p-value: nan\n",
      "Variances are different → Use equal_var=False\n",
      "************************************************************\n",
      "Levene’s test for mean rbc\n",
      "Levene’s test p-value: nan\n",
      "Variances are different → Use equal_var=False\n",
      "************************************************************\n",
      "Levene’s test for mean num_effects\n",
      "Levene’s test p-value: 0.71047\n",
      "Variances are equal → Use equal_var=True\n",
      "************************************************************\n",
      "Levene’s test for mean adverse_effects\n",
      "Levene’s test p-value: 0.96394\n",
      "Variances are equal → Use equal_var=True\n",
      "************************************************************\n"
     ]
    }
   ],
   "source": [
    "import scipy.stats as stats\n",
    "\n",
    "metrics = ['wbc', 'rbc', 'num_effects', 'adverse_effects']\n",
    "\n",
    "for metric in metrics:\n",
    "    stat, p_value = stats.levene(drug_group[metric], placebo_group[metric])\n",
    "\n",
    "    print(f\"Levene’s test for mean {metric}\")\n",
    "    print(f\"Levene’s test p-value: {p_value:.5f}\")\n",
    "\n",
    "    if p_value > 0.05:\n",
    "        print(\"Variances are equal → Use equal_var=True\")\n",
    "    else:\n",
    "        print(\"Variances are different → Use equal_var=False\")\n",
    "        \n",
    "    print(\"*\"*60)\n"
   ]
  },
  {
   "cell_type": "markdown",
   "metadata": {},
   "source": [
    "**<font color=\"#20B2AA\">Performing t-test</font>**\n",
    "\n",
    "- **<span style=\"color:#20B2AA;\">Null Hypothesis (H₀):</span>** There is no significant difference between the Drug and Placebo groups.  \n",
    "- **<span style=\"color:#20B2AA;\">Alternative Hypothesis (H₁):</span>** There is a significant difference between the Drug and Placebo groups.\n",
    "\n",
    "### <font color=\"#20B2AA\"> What does this significance level mean?</font>\n",
    "\n",
    "#### <font color=\"#20B2AA\">α = 0.05 (common threshold):</font>\n",
    "- 5% chance of rejecting the null hypothesis when it is actually true (Type I error).\n",
    "- 95% confidence that the observed results are not due to random chance.\n",
    "\n",
    "#### <font color=\"#20B2AA\">α = 0.1:</font>\n",
    "- allowing a 10% chance of rejecting the null hypothesis when it is true.\n",
    "- It provides **weaker evidence** for rejecting the null hypothesis compared to 0.05.\n"
   ]
  },
  {
   "cell_type": "code",
   "execution_count": 41,
   "metadata": {},
   "outputs": [
    {
     "name": "stdout",
     "output_type": "stream",
     "text": [
      "t-test for mean wbc:\n",
      "p-value = nan\n",
      "Fail to reject H₀ (No significant difference)\n",
      "************************************************************\n",
      "t-test for mean rbc:\n",
      "p-value = nan\n",
      "Fail to reject H₀ (No significant difference)\n",
      "************************************************************\n",
      "t-test for mean num_effects:\n",
      "p-value = 0.71047\n",
      "Fail to reject H₀ (No significant difference)\n",
      "************************************************************\n",
      "t-test for mean adverse_effects:\n",
      "p-value = 0.96394\n",
      "Fail to reject H₀ (No significant difference)\n",
      "************************************************************\n"
     ]
    }
   ],
   "source": [
    "alterantive_arg = 'two-sided'\n",
    "\n",
    "for metric, equal_var_arg in zip(metrics, [True, False, True, True]):\n",
    "    _, p_value = stats.ttest_ind(placebo_group[metric], drug_group[metric], equal_var=equal_var_arg, alternative=alterantive_arg)\n",
    "    print(f\"t-test for mean {metric}:\")\n",
    "    print(f\"p-value = {p_value:.5f}\")\n",
    "\n",
    "    if p_value < 0.05:\n",
    "        print(\"Reject H₀ at α = 0.05\")\n",
    "    elif p_value < 0.1:\n",
    "        print(\"Reject H₀ at α = 0.1 \")\n",
    "    else:\n",
    "        print(\"Fail to reject H₀ (No significant difference)\")\n",
    "\n",
    "    print(\"*\"*60)\n"
   ]
  }
 ],
 "metadata": {
  "kernelspec": {
   "display_name": "Python 3",
   "language": "python",
   "name": "python3"
  },
  "language_info": {
   "codemirror_mode": {
    "name": "ipython",
    "version": 3
   },
   "file_extension": ".py",
   "mimetype": "text/x-python",
   "name": "python",
   "nbconvert_exporter": "python",
   "pygments_lexer": "ipython3",
   "version": "3.12.3"
  }
 },
 "nbformat": 4,
 "nbformat_minor": 2
}
