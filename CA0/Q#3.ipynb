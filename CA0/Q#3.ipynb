{
 "cells": [
  {
   "cell_type": "markdown",
   "metadata": {},
   "source": [
    "## loading modules"
   ]
  },
  {
   "cell_type": "code",
   "execution_count": 2,
   "metadata": {},
   "outputs": [],
   "source": [
    "import pandas as pd\n",
    "import numpy as np\n",
    "from scipy.stats import bernoulli\n",
    "import matplotlib.pyplot as plt"
   ]
  },
  {
   "cell_type": "markdown",
   "metadata": {},
   "source": [
    "## loading data and removing NaN values"
   ]
  },
  {
   "cell_type": "code",
   "execution_count": 3,
   "metadata": {},
   "outputs": [],
   "source": [
    "df = pd.read_csv('content/2016-general-election-trump-vs-clinton.csv')\n",
    "df = df.dropna(subset=['Number of Observations'])"
   ]
  },
  {
   "cell_type": "markdown",
   "metadata": {},
   "source": [
    "## Question 1:\n",
    "$$\n",
    "\\hat{p} = \\frac{1}{N} \\sum_{i=1}^{N} X_i\n",
    "$$\n",
    "\n",
    "we need to calculatte p hat and SE to find the confidence interval\n",
    "\n",
    "$$\n",
    "SE = \\sqrt{\\frac{p(1-p)}{N}}\n",
    "$$\n",
    "\n",
    "Since p is unknown, we use p hat to estimate it:\n",
    "\n",
    "$$\n",
    "SE \\approx \\sqrt{\\frac{\\hat{p}(1-\\hat{p})}{N}}\n",
    "$$\n",
    "\n",
    "\n",
    "A 95% confidence interval for p is constructed as:\n",
    "\n",
    "$$\n",
    "\\text{CI} = \\hat{p} \\pm z \\times SE\n",
    "$$\n",
    "\n",
    "\n",
    " where z is the standarlized normal value. for 95% interval z=1.96<br>\n",
    " and the formula for CI is:\n",
    "$$\n",
    "\\text{CI} = \\hat{p} \\pm 1.96 \\times \\sqrt{\\frac{\\hat{p}(1-\\hat{p})}{N}}\n",
    "$$\n",
    "\n",
    "\n",
    "\n"
   ]
  },
  {
   "cell_type": "code",
   "execution_count": null,
   "metadata": {},
   "outputs": [],
   "source": []
  },
  {
   "cell_type": "markdown",
   "metadata": {},
   "source": [
    "## Question 2:"
   ]
  },
  {
   "cell_type": "code",
   "execution_count": null,
   "metadata": {},
   "outputs": [
    {
     "name": "stdout",
     "output_type": "stream",
     "text": [
      "0.93174\n"
     ]
    }
   ],
   "source": [
    "p=0.47\n",
    "N= 30\n",
    "iters=10**5\n",
    "\n",
    "confidence_interval=0\n",
    "\n",
    "for _ in range(iters):\n",
    "    sample = bernoulli.rvs(p, size=N)\n",
    "    p_hat=sum(sample)/30\n",
    "    SE = 1.96*np.sqrt(p_hat*(1-p_hat)/N)\n",
    "    CI = (p_hat-SE,p_hat+SE)\n",
    "    if CI[0]<=p<=CI[1]:\n",
    "        confidence_interval+=1\n",
    "\n",
    "\n",
    "\n",
    "print(confidence_interval/iters)\n",
    "\n",
    "    "
   ]
  },
  {
   "cell_type": "markdown",
   "metadata": {},
   "source": [
    "## Question 3:"
   ]
  },
  {
   "cell_type": "code",
   "execution_count": null,
   "metadata": {},
   "outputs": [
    {
     "name": "stdout",
     "output_type": "stream",
     "text": [
      "      Trump  Clinton          Pollster  Start Date  Number of Observations  \\\n",
      "0      41.0     45.0     Insights West  2016-11-04                   940.0   \n",
      "4      43.0     41.0          IBD/TIPP  2016-11-04                  1107.0   \n",
      "5      41.0     45.0  YouGov/Economist  2016-11-04                  3669.0   \n",
      "6       6.0     90.0  YouGov/Economist  2016-11-04                  1392.0   \n",
      "7      84.0      4.0  YouGov/Economist  2016-11-04                  1110.0   \n",
      "...     ...      ...               ...         ...                     ...   \n",
      "1516   65.0     12.0  YouGov/Economist  2015-06-20                   235.0   \n",
      "1517   34.0     45.0  YouGov/Economist  2015-06-20                   266.0   \n",
      "1518   32.0     50.0        Quinnipiac  2015-05-19                  1711.0   \n",
      "1519    5.0     89.0        Quinnipiac  2015-05-19                   748.0   \n",
      "1520   68.0      9.0        Quinnipiac  2015-05-19                   679.0   \n",
      "\n",
      "            Mode  \n",
      "0       Internet  \n",
      "4     Live Phone  \n",
      "5       Internet  \n",
      "6       Internet  \n",
      "7       Internet  \n",
      "...          ...  \n",
      "1516    Internet  \n",
      "1517    Internet  \n",
      "1518  Live Phone  \n",
      "1519  Live Phone  \n",
      "1520  Live Phone  \n",
      "\n",
      "[1013 rows x 6 columns]\n"
     ]
    }
   ],
   "source": [
    "\n",
    "df_cleaned =df[['Trump', 'Clinton', 'Pollster', 'Start Date', \n",
    "'Number of Observations','Mode']]\n",
    "\n",
    "print(df_cleaned)"
   ]
  }
 ],
 "metadata": {
  "kernelspec": {
   "display_name": "Python 3",
   "language": "python",
   "name": "python3"
  },
  "language_info": {
   "codemirror_mode": {
    "name": "ipython",
    "version": 3
   },
   "file_extension": ".py",
   "mimetype": "text/x-python",
   "name": "python",
   "nbconvert_exporter": "python",
   "pygments_lexer": "ipython3",
   "version": "3.11.5"
  }
 },
 "nbformat": 4,
 "nbformat_minor": 2
}
