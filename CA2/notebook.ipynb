{
 "cells": [
  {
   "cell_type": "markdown",
   "metadata": {},
   "source": [
    "**<span style=\"color: #808080;\">In The Name of God</span>**\n",
    "\n",
    "---\n",
    "\n",
    "# <span style=\"color: #20B2AA;\">Assignment 2</span>\n",
    "\n",
    "\n"
   ]
  },
  {
   "cell_type": "code",
   "execution_count": 43,
   "metadata": {},
   "outputs": [
    {
     "data": {
      "text/html": [
       "<style>pre { white-space: pre !important; }</style>"
      ],
      "text/plain": [
       "<IPython.core.display.HTML object>"
      ]
     },
     "metadata": {},
     "output_type": "display_data"
    }
   ],
   "source": [
    "from IPython.display import display, HTML\n",
    "display(HTML('<style>pre { white-space: pre !important; }</style>'))"
   ]
  },
  {
   "cell_type": "markdown",
   "metadata": {},
   "source": [
    "## Data Ingestion Layer"
   ]
  },
  {
   "cell_type": "markdown",
   "metadata": {},
   "source": [
    "***run the kafka.py***"
   ]
  },
  {
   "cell_type": "markdown",
   "metadata": {},
   "source": [
    "## Batch Processing Layer"
   ]
  },
  {
   "cell_type": "markdown",
   "metadata": {},
   "source": [
    "read the transaction data as json"
   ]
  },
  {
   "cell_type": "code",
   "execution_count": 44,
   "metadata": {},
   "outputs": [
    {
     "name": "stderr",
     "output_type": "stream",
     "text": [
      "25/04/27 10:20:46 WARN SparkSession: Using an existing Spark session; only runtime SQL configurations will take effect.\n"
     ]
    },
    {
     "name": "stdout",
     "output_type": "stream",
     "text": [
      "+-------+-----------------+---------------+-----------+-------------+--------------------+--------------+------------------+------------------+-----------------+-----------+--------------+----------+--------+--------------------+------------+--------------------+----------+\n",
      "| amount|commission_amount|commission_type|customer_id|customer_type|         device_info|failure_reason|               lat|               lng|merchant_category|merchant_id|payment_method|risk_level|  status|           timestamp|total_amount|      transaction_id|vat_amount|\n",
      "+-------+-----------------+---------------+-----------+-------------+--------------------+--------------+------------------+------------------+-----------------+-----------+--------------+----------+--------+--------------------+------------+--------------------+----------+\n",
      "|1100758|            22015|           flat|   cust_548|  CIfunctionP|  {NULL, NULL, NULL}|     cancelled|35.687032407925614|  51.3104264455149|     food_service|   merch_15|           pos|         3|declined|2025-04-19T01:30:...|     1221841|96729427-0895-4ac...|     99068|\n",
      "| 980116|            19602|    progressive|   cust_811|     business|{2.4.1, Samsung G...|          None| 35.70512334985226|   51.304288146155|           retail|   merch_16|        mobile|         1|approved|2025-04-19T08:08:...|     1087928|3bbca18b-9bf4-4e0...|     88210|\n",
      "|1961906|            39238|    progressive|    cust_93|   individual|{2.4.1, Samsung G...|          None| 35.70305329772879|51.326817640204844|       government|   merch_16|        online|         1|approved|2025-04-19T05:07:...|     2177715|227f8d34-6b86-422...|    176571|\n",
      "|1457390|            29147|           flat|    cust_26|     business|  {NULL, NULL, NULL}|          None| 35.74434551811731|51.311069184838786|   transportation|   merch_29|           pos|         3|approved|2025-04-19T00:15:...|     1617702|12d90814-85fd-457...|    131165|\n",
      "|1987540|            39750|           flat|   cust_166|  CIfunctionP|{2.4.1, Samsung G...|     cancelled| 35.72621542755073|51.357403430855896|    entertainment|   merch_49|        online|         2|declined|2025-04-19T11:47:...|     2206168|6eea33cf-3cc2-422...|    178878|\n",
      "|1516698|            30333|    progressive|   cust_220|  CIfunctionP|  {NULL, NULL, NULL}|          None| 35.68934434071706| 51.33442938815577|    entertainment|    merch_3|           pos|         3|approved|2025-04-19T02:27:...|     1683533|e638304c-398f-44f...|    136502|\n",
      "| 103468|             2069|         tiered|   cust_554|     business|{1.9.5, Google Pi...|          None|  35.7188906748462|51.307556380463296|    entertainment|   merch_32|        online|         3|approved|2025-04-19T07:22:...|      114849|bc8e6784-6b30-48b...|      9312|\n",
      "| 961219|            19224|         tiered|   cust_842|   individual|  {NULL, NULL, NULL}|  system_error| 35.68983817917553| 51.33184863369984|     food_service|   merch_48|           nfc|         3|declined|2025-04-19T15:27:...|     1066952|1a22af35-8bad-455...|     86509|\n",
      "|1236543|            24730|    progressive|    cust_27|     business|{3.1.0, iPhone 15...|          None| 35.71332767236957| 51.33578960472985|   transportation|   merch_18|        mobile|         1|approved|2025-04-19T04:08:...|     1372561|65462ca1-1e50-42a...|    111288|\n",
      "|1254855|            25097|           flat|   cust_342|  CIfunctionP|{1.9.5, Google Pi...|          None| 35.67701699332814| 51.29645600253292|       government|    merch_9|        mobile|         1|approved|2025-04-18T22:19:...|     1392888|fb3edc9e-1bb1-45a...|    112936|\n",
      "|1258892|            25177|    progressive|   cust_635|     business|{1.9.5, Google Pi...|          None|35.684751493871794| 51.33759636026027|           retail|   merch_38|        mobile|         3|approved|2025-04-18T20:23:...|     1397369|f6599c09-8461-446...|    113300|\n",
      "| 880110|            17602|         tiered|   cust_373|     business|  {NULL, NULL, NULL}|          None|  35.7234368124184|51.357353929973826|           retail|   merch_22|           nfc|         2|approved|2025-04-19T06:17:...|      976921|1b8264ff-0a05-43d...|     79209|\n",
      "|1541143|            30822|    progressive|   cust_880|     business|  {NULL, NULL, NULL}|          None| 35.68201862701895| 51.28657908322919|    entertainment|   merch_24|           pos|         2|approved|2025-04-19T13:21:...|     1710667|3f7c8a4c-0825-4a4...|    138702|\n",
      "| 243342|             4866|    progressive|   cust_995|   individual|  {NULL, NULL, NULL}|          None| 35.71221639791112| 51.38078250812758|   transportation|    merch_3|           nfc|         3|approved|2025-04-19T18:19:...|      270108|15525af4-e0df-40f...|     21900|\n",
      "| 528891|            10577|    progressive|   cust_376|  CIfunctionP|{3.1.0, iPhone 15...|          None|35.696670840062744|51.310188653805795|           retail|    merch_4|        mobile|         3|approved|2025-04-19T14:58:...|      587068|171fcb5f-6e2e-400...|     47600|\n",
      "|1182352|            23647|         tiered|   cust_258|     business|{3.1.0, iPhone 15...|          None|  35.7581355475909|   51.331458179976|     food_service|   merch_43|        online|         3|approved|2025-04-18T22:15:...|     1312410|68156fc8-c895-4f2...|    106411|\n",
      "|1596433|            31928|           flat|   cust_240|   individual|  {NULL, NULL, NULL}|          None| 35.70203707738459| 51.30607057102977|     food_service|   merch_45|           pos|         5|approved|2025-04-19T07:03:...|     1772039|1c023940-465c-417...|    143678|\n",
      "|  62749|             1254|         tiered|   cust_783|     business|{3.1.0, iPhone 15...|          None| 35.71925062513375| 51.30192942095312|     food_service|   merch_38|        mobile|         3|approved|2025-04-19T06:31:...|       69650|d975e545-5c58-448...|      5647|\n",
      "|1095584|            21911|         tiered|   cust_701|     business|  {NULL, NULL, NULL}|          None| 35.74502894559501| 51.37887745242603|       government|   merch_34|           nfc|         3|approved|2025-04-19T12:53:...|     1216097|8f71f36c-7e4e-46d...|     98602|\n",
      "| 139525|             2790|    progressive|   cust_385|  CIfunctionP|  {NULL, NULL, NULL}|          None|35.754275381294704|51.330076992602024|       government|   merch_28|           pos|         2|approved|2025-04-18T22:05:...|      154872|1a20ef5a-cbe2-4d3...|     12557|\n",
      "+-------+-----------------+---------------+-----------+-------------+--------------------+--------------+------------------+------------------+-----------------+-----------+--------------+----------+--------+--------------------+------------+--------------------+----------+\n",
      "only showing top 20 rows\n",
      "\n"
     ]
    }
   ],
   "source": [
    "from pyspark.sql import SparkSession\n",
    "\n",
    "\n",
    "spark = SparkSession.builder.appName(\"Daroo\").getOrCreate()\n",
    "\n",
    "df = spark.read.json('content/validated_transactions.json')\n",
    "df.show()"
   ]
  },
  {
   "cell_type": "markdown",
   "metadata": {},
   "source": [
    "Commission Analysis Batch Job"
   ]
  },
  {
   "cell_type": "code",
   "execution_count": 45,
   "metadata": {},
   "outputs": [
    {
     "name": "stdout",
     "output_type": "stream",
     "text": [
      "+-----------------+----------------+------------------+-----------------+------------------------+----------+-----------------+------------+-------------------------------+\n",
      "|merchant_category|total_commission|    avg_commission|transaction_count|total_transaction_amount|flat_count|progressive_count|tiered_count|commission_to_transaction_ratio|\n",
      "+-----------------+----------------+------------------+-----------------+------------------------+----------+-----------------+------------+-------------------------------+\n",
      "|           retail|        14393166| 20358.08486562942|              707|               719675369|       215|              238|         254|            0.01999952564723665|\n",
      "|    entertainment|        13750770|20961.539634146342|              656|               687554369|       213|              216|         227|           0.019999538392868537|\n",
      "|     food_service|        14941435|20439.719562243503|              731|               747089870|       233|              246|         252|            0.01999951491779697|\n",
      "|       government|        13698861|20294.608888888888|              675|               684959707|       228|              223|         224|           0.019999513635624702|\n",
      "|   transportation|        14547901|21300.001464128844|              683|               727411794|       254|              210|         219|           0.019999539628030832|\n",
      "+-----------------+----------------+------------------+-----------------+------------------------+----------+-----------------+------------+-------------------------------+\n",
      "\n"
     ]
    }
   ],
   "source": [
    "from pyspark.sql.functions import sum, avg, count, col, when\n",
    "\n",
    "\n",
    "filtered_df = df.filter(df[\"status\"] == \"approved\")\n",
    "\n",
    "commission_analysis_df = filtered_df.select(\n",
    "    \"transaction_id\",\n",
    "    \"commission_type\",\n",
    "    \"merchant_category\",\n",
    "    \"commission_amount\",\n",
    "    \"total_amount\",\n",
    "    \"amount\"\n",
    ")\n",
    "\n",
    "\n",
    "commission_analysis_df = commission_analysis_df.groupBy(\"merchant_category\").agg(\n",
    "    sum(\"commission_amount\").alias(\"total_commission\"),\n",
    "    avg(\"commission_amount\").alias(\"avg_commission\"),\n",
    "    count(\"*\").alias(\"transaction_count\"),\n",
    "    sum(\"amount\").alias(\"total_transaction_amount\"),\n",
    "    count(when(col(\"commission_type\") == \"flat\", 1)).alias(\"flat_count\"),\n",
    "    count(when(col(\"commission_type\") == \"progressive\", 1)).alias(\"progressive_count\"),\n",
    "    count(when(col(\"commission_type\") == \"tiered\", 1)).alias(\"tiered_count\"),\n",
    ")\n",
    "\n",
    "commission_analysis_df = commission_analysis_df.withColumn(\n",
    "    \"commission_to_transaction_ratio\", \n",
    "    col(\"total_commission\") / col(\"total_transaction_amount\")\n",
    ")\n",
    "commission_analysis_df.show()"
   ]
  },
  {
   "cell_type": "code",
   "execution_count": 46,
   "metadata": {},
   "outputs": [
    {
     "data": {
      "image/png": "[encoded data removed]",
      "text/plain": [
       "<Figure size 1200x600 with 2 Axes>"
      ]
     },
     "metadata": {},
     "output_type": "display_data"
    }
   ],
   "source": [
    "import matplotlib.pyplot as plt\n",
    "import numpy as np\n",
    "plt.style.use('seaborn-v0_8')\n",
    "\n",
    "data = commission_analysis_df.select(\n",
    "    \"merchant_category\", \n",
    "    \"commission_to_transaction_ratio\", \n",
    "    \"avg_commission\"\n",
    ").collect()\n",
    "\n",
    "categories = [row[\"merchant_category\"] for row in data]\n",
    "ratios = [row[\"commission_to_transaction_ratio\"] for row in data]\n",
    "avgs = [row[\"avg_commission\"] for row in data]\n",
    "\n",
    "x = np.arange(len(categories))\n",
    "\n",
    "fig, axes = plt.subplots(1, 2, figsize=(12, 6), sharex=False)\n",
    "\n",
    "axes[0].bar(categories, ratios, color='skyblue')\n",
    "axes[0].set_title(\"Commission-to-Transaction Ratio\")\n",
    "axes[0].set_xlabel(\"Merchant Category\")\n",
    "axes[0].set_ylabel(\"Ratio\")\n",
    "axes[0].tick_params(axis='x')\n",
    "\n",
    "axes[1].bar(categories, avgs, color='salmon')\n",
    "axes[1].set_title(\"Average Commission\")\n",
    "axes[1].set_xlabel(\"Merchant Category\")\n",
    "axes[1].set_ylabel(\"Average Commission\")\n",
    "axes[1].tick_params(axis='x')\n",
    "\n",
    "plt.tight_layout()\n",
    "plt.show()\n"
   ]
  },
  {
   "cell_type": "markdown",
   "metadata": {},
   "source": [
    "# <span style=\"color: #20B2AA;\">Transaction Pattern Analysis </span>\n"
   ]
  },
  {
   "cell_type": "markdown",
   "metadata": {},
   "source": [
    "## <span style=\"color: #99CCFF;\">Part I</span>"
   ]
  },
  {
   "cell_type": "code",
   "execution_count": null,
   "metadata": {},
   "outputs": [
    {
     "ename": "PySparkTypeError",
     "evalue": "[NOT_COLUMN_OR_STR] Argument `col` should be a Column or str, got method.",
     "output_type": "error",
     "traceback": [
      "\u001b[0;31m---------------------------------------------------------------------------\u001b[0m",
      "\u001b[0;31mPySparkTypeError\u001b[0m                          Traceback (most recent call last)",
      "Cell \u001b[0;32mIn[67], line 9\u001b[0m\n\u001b[1;32m      3\u001b[0m filtered_df \u001b[38;5;241m=\u001b[39m filtered_df\u001b[38;5;241m.\u001b[39mwithColumn(\u001b[38;5;124m\"\u001b[39m\u001b[38;5;124mhour\u001b[39m\u001b[38;5;124m\"\u001b[39m, hour(col(\u001b[38;5;124m\"\u001b[39m\u001b[38;5;124mtimestamp\u001b[39m\u001b[38;5;124m\"\u001b[39m)))\n\u001b[1;32m      5\u001b[0m temporal_pattern_df \u001b[38;5;241m=\u001b[39m filtered_df\u001b[38;5;241m.\u001b[39mgroupBy(\u001b[38;5;124m\"\u001b[39m\u001b[38;5;124mhour\u001b[39m\u001b[38;5;124m\"\u001b[39m)\u001b[38;5;241m.\u001b[39magg(\n\u001b[1;32m      6\u001b[0m     count(\u001b[38;5;124m\"\u001b[39m\u001b[38;5;124m*\u001b[39m\u001b[38;5;124m\"\u001b[39m)\u001b[38;5;241m.\u001b[39malias(\u001b[38;5;124m\"\u001b[39m\u001b[38;5;124mtransaction_count\u001b[39m\u001b[38;5;124m\"\u001b[39m)\n\u001b[1;32m      7\u001b[0m )\n\u001b[0;32m----> 9\u001b[0m \u001b[43mtemporal_pattern_df\u001b[49m\u001b[38;5;241;43m.\u001b[39;49m\u001b[43msort\u001b[49m\u001b[43m(\u001b[49m\u001b[43mcol\u001b[49m\u001b[43m(\u001b[49m\u001b[38;5;124;43m\"\u001b[39;49m\u001b[38;5;124;43mtransaction_count\u001b[39;49m\u001b[38;5;124;43m\"\u001b[39;49m\u001b[43m)\u001b[49m\u001b[38;5;241;43m.\u001b[39;49m\u001b[43mdesc\u001b[49m\u001b[43m)\u001b[49m\u001b[38;5;241m.\u001b[39mshow()\n",
      "File \u001b[0;32m~/.local/lib/python3.12/site-packages/pyspark/sql/dataframe.py:2742\u001b[0m, in \u001b[0;36mDataFrame.sort\u001b[0;34m(self, *cols, **kwargs)\u001b[0m\n\u001b[1;32m   2651\u001b[0m \u001b[38;5;28;01mdef\u001b[39;00m \u001b[38;5;21msort\u001b[39m(\n\u001b[1;32m   2652\u001b[0m     \u001b[38;5;28mself\u001b[39m, \u001b[38;5;241m*\u001b[39mcols: Union[\u001b[38;5;28mstr\u001b[39m, Column, List[Union[\u001b[38;5;28mstr\u001b[39m, Column]]], \u001b[38;5;241m*\u001b[39m\u001b[38;5;241m*\u001b[39mkwargs: Any\n\u001b[1;32m   2653\u001b[0m ) \u001b[38;5;241m-\u001b[39m\u001b[38;5;241m>\u001b[39m \u001b[38;5;124m\"\u001b[39m\u001b[38;5;124mDataFrame\u001b[39m\u001b[38;5;124m\"\u001b[39m:\n\u001b[1;32m   2654\u001b[0m \u001b[38;5;250m    \u001b[39m\u001b[38;5;124;03m\"\"\"Returns a new :class:`DataFrame` sorted by the specified column(s).\u001b[39;00m\n\u001b[1;32m   2655\u001b[0m \n\u001b[1;32m   2656\u001b[0m \u001b[38;5;124;03m    .. versionadded:: 1.3.0\u001b[39;00m\n\u001b[0;32m   (...)\u001b[0m\n\u001b[1;32m   2740\u001b[0m \u001b[38;5;124;03m    +---+-----+\u001b[39;00m\n\u001b[1;32m   2741\u001b[0m \u001b[38;5;124;03m    \"\"\"\u001b[39;00m\n\u001b[0;32m-> 2742\u001b[0m     jdf \u001b[38;5;241m=\u001b[39m \u001b[38;5;28mself\u001b[39m\u001b[38;5;241m.\u001b[39m_jdf\u001b[38;5;241m.\u001b[39msort(\u001b[38;5;28;43mself\u001b[39;49m\u001b[38;5;241;43m.\u001b[39;49m\u001b[43m_sort_cols\u001b[49m\u001b[43m(\u001b[49m\u001b[43mcols\u001b[49m\u001b[43m,\u001b[49m\u001b[43m \u001b[49m\u001b[43mkwargs\u001b[49m\u001b[43m)\u001b[49m)\n\u001b[1;32m   2743\u001b[0m     \u001b[38;5;28;01mreturn\u001b[39;00m DataFrame(jdf, \u001b[38;5;28mself\u001b[39m\u001b[38;5;241m.\u001b[39msparkSession)\n",
      "File \u001b[0;32m~/.local/lib/python3.12/site-packages/pyspark/sql/dataframe.py:2779\u001b[0m, in \u001b[0;36mDataFrame._sort_cols\u001b[0;34m(self, cols, kwargs)\u001b[0m\n\u001b[1;32m   2777\u001b[0m \u001b[38;5;28;01mif\u001b[39;00m \u001b[38;5;28mlen\u001b[39m(cols) \u001b[38;5;241m==\u001b[39m \u001b[38;5;241m1\u001b[39m \u001b[38;5;129;01mand\u001b[39;00m \u001b[38;5;28misinstance\u001b[39m(cols[\u001b[38;5;241m0\u001b[39m], \u001b[38;5;28mlist\u001b[39m):\n\u001b[1;32m   2778\u001b[0m     cols \u001b[38;5;241m=\u001b[39m cols[\u001b[38;5;241m0\u001b[39m]\n\u001b[0;32m-> 2779\u001b[0m jcols \u001b[38;5;241m=\u001b[39m [\u001b[43m_to_java_column\u001b[49m\u001b[43m(\u001b[49m\u001b[43mcast\u001b[49m\u001b[43m(\u001b[49m\u001b[38;5;124;43m\"\u001b[39;49m\u001b[38;5;124;43mColumnOrName\u001b[39;49m\u001b[38;5;124;43m\"\u001b[39;49m\u001b[43m,\u001b[49m\u001b[43m \u001b[49m\u001b[43mc\u001b[49m\u001b[43m)\u001b[49m\u001b[43m)\u001b[49m \u001b[38;5;28;01mfor\u001b[39;00m c \u001b[38;5;129;01min\u001b[39;00m cols]\n\u001b[1;32m   2780\u001b[0m ascending \u001b[38;5;241m=\u001b[39m kwargs\u001b[38;5;241m.\u001b[39mget(\u001b[38;5;124m\"\u001b[39m\u001b[38;5;124mascending\u001b[39m\u001b[38;5;124m\"\u001b[39m, \u001b[38;5;28;01mTrue\u001b[39;00m)\n\u001b[1;32m   2781\u001b[0m \u001b[38;5;28;01mif\u001b[39;00m \u001b[38;5;28misinstance\u001b[39m(ascending, (\u001b[38;5;28mbool\u001b[39m, \u001b[38;5;28mint\u001b[39m)):\n",
      "File \u001b[0;32m~/.local/lib/python3.12/site-packages/pyspark/sql/column.py:65\u001b[0m, in \u001b[0;36m_to_java_column\u001b[0;34m(col)\u001b[0m\n\u001b[1;32m     63\u001b[0m     jcol \u001b[38;5;241m=\u001b[39m _create_column_from_name(col)\n\u001b[1;32m     64\u001b[0m \u001b[38;5;28;01melse\u001b[39;00m:\n\u001b[0;32m---> 65\u001b[0m     \u001b[38;5;28;01mraise\u001b[39;00m PySparkTypeError(\n\u001b[1;32m     66\u001b[0m         error_class\u001b[38;5;241m=\u001b[39m\u001b[38;5;124m\"\u001b[39m\u001b[38;5;124mNOT_COLUMN_OR_STR\u001b[39m\u001b[38;5;124m\"\u001b[39m,\n\u001b[1;32m     67\u001b[0m         message_parameters\u001b[38;5;241m=\u001b[39m{\u001b[38;5;124m\"\u001b[39m\u001b[38;5;124marg_name\u001b[39m\u001b[38;5;124m\"\u001b[39m: \u001b[38;5;124m\"\u001b[39m\u001b[38;5;124mcol\u001b[39m\u001b[38;5;124m\"\u001b[39m, \u001b[38;5;124m\"\u001b[39m\u001b[38;5;124marg_type\u001b[39m\u001b[38;5;124m\"\u001b[39m: \u001b[38;5;28mtype\u001b[39m(col)\u001b[38;5;241m.\u001b[39m\u001b[38;5;18m__name__\u001b[39m},\n\u001b[1;32m     68\u001b[0m     )\n\u001b[1;32m     69\u001b[0m \u001b[38;5;28;01mreturn\u001b[39;00m jcol\n",
      "\u001b[0;31mPySparkTypeError\u001b[0m: [NOT_COLUMN_OR_STR] Argument `col` should be a Column or str, got method."
     ]
    }
   ],
   "source": [
    "from pyspark.sql.functions import hour, count, minute\n",
    "\n",
    "filtered_df = filtered_df.withColumn(\"hour\", hour(col(\"timestamp\")))\n",
    "\n",
    "temporal_pattern_df = filtered_df.groupBy(\"hour\").agg(\n",
    "    count(\"*\").alias(\"transaction_count\")\n",
    ")\n",
    "\n",
    "temporal_pattern_df.sort(col(\"transaction_count\").desc()).show()\n"
   ]
  },
  {
   "cell_type": "markdown",
   "metadata": {},
   "source": [
    "## <span style=\"color: #99CCFF;\">Part II</span>"
   ]
  },
  {
   "cell_type": "code",
   "execution_count": 48,
   "metadata": {},
   "outputs": [
    {
     "name": "stdout",
     "output_type": "stream",
     "text": [
      "+----+-----------------+\n",
      "|hour|transaction_count|\n",
      "+----+-----------------+\n",
      "|  22|              859|\n",
      "+----+-----------------+\n",
      "only showing top 1 row\n",
      "\n"
     ]
    }
   ],
   "source": [
    "peak_time_df = temporal_pattern_df.orderBy(col(\"transaction_count\").desc())\n",
    "peak_time_df.show(1)"
   ]
  },
  {
   "cell_type": "markdown",
   "metadata": {},
   "source": [
    "## <span style=\"color: #99CCFF;\">Part III</span>"
   ]
  },
  {
   "cell_type": "code",
   "execution_count": 49,
   "metadata": {},
   "outputs": [
    {
     "name": "stdout",
     "output_type": "stream",
     "text": [
      "+-----------+-----------------+-----------+\n",
      "|customer_id|transaction_count|total_spent|\n",
      "+-----------+-----------------+-----------+\n",
      "|   cust_180|                9|   13539868|\n",
      "|   cust_285|               10|   12297314|\n",
      "|   cust_999|               11|   11900112|\n",
      "|   cust_961|                9|   11473138|\n",
      "|    cust_82|                9|   11130449|\n",
      "|   cust_627|                8|    9907902|\n",
      "|   cust_792|                6|    9854112|\n",
      "|    cust_30|                7|    9591743|\n",
      "|   cust_387|                7|    9589803|\n",
      "|   cust_332|                8|    9575757|\n",
      "|   cust_237|                7|    9550146|\n",
      "|   cust_978|                6|    9544146|\n",
      "|   cust_748|                8|    9536095|\n",
      "|   cust_880|                8|    9423083|\n",
      "|    cust_53|                6|    9421791|\n",
      "|   cust_720|                6|    9327831|\n",
      "|   cust_412|                6|    9228689|\n",
      "|   cust_606|                6|    9168621|\n",
      "|   cust_142|                8|    8978790|\n",
      "|   cust_130|                8|    8945718|\n",
      "+-----------+-----------------+-----------+\n",
      "only showing top 20 rows\n",
      "\n"
     ]
    }
   ],
   "source": [
    "customer_segment_df = filtered_df.groupBy(\"customer_id\").agg(\n",
    "    count(\"*\").alias(\"transaction_count\"),\n",
    "    sum(\"amount\").alias(\"total_spent\")\n",
    ")\n",
    "customer_segment_df.sort(col(\"total_spent\").desc()).show()"
   ]
  },
  {
   "cell_type": "markdown",
   "metadata": {},
   "source": [
    "## <span style=\"color: #99CCFF;\">Part IV</span>"
   ]
  },
  {
   "cell_type": "code",
   "execution_count": 50,
   "metadata": {},
   "outputs": [
    {
     "name": "stdout",
     "output_type": "stream",
     "text": [
      "+-----------------+-----------------+-----------+\n",
      "|merchant_category|transaction_count|total_sales|\n",
      "+-----------------+-----------------+-----------+\n",
      "|     food_service|              731|  747089870|\n",
      "|           retail|              707|  719675369|\n",
      "|   transportation|              683|  727411794|\n",
      "|       government|              675|  684959707|\n",
      "|    entertainment|              656|  687554369|\n",
      "+-----------------+-----------------+-----------+\n",
      "\n"
     ]
    }
   ],
   "source": [
    "merchant_behavior_df = filtered_df.groupBy(\"merchant_category\").agg(\n",
    "    count(\"*\").alias(\"transaction_count\"),\n",
    "    sum(\"amount\").alias(\"total_sales\")\n",
    ")\n",
    "\n",
    "merchant_behavior_df.sort(col(\"transaction_count\").desc()).show()"
   ]
  },
  {
   "cell_type": "markdown",
   "metadata": {},
   "source": [
    "## <span style=\"color: #99CCFF;\">Part V</span>"
   ]
  },
  {
   "cell_type": "code",
   "execution_count": 51,
   "metadata": {},
   "outputs": [
    {
     "name": "stdout",
     "output_type": "stream",
     "text": [
      "+-----------+-----------------+\n",
      "|time_of_day|transaction_count|\n",
      "+-----------+-----------------+\n",
      "|    Evening|             1435|\n",
      "|    Morning|              722|\n",
      "|  Afternoon|              663|\n",
      "|      Night|              632|\n",
      "+-----------+-----------------+\n",
      "\n"
     ]
    }
   ],
   "source": [
    "from pyspark.sql.functions import when\n",
    "\n",
    "filtered_df = filtered_df.withColumn(\n",
    "    \"time_of_day\",\n",
    "    when((col(\"hour\") >= 6) & (col(\"hour\") < 12), \"Morning\")\n",
    "    .when((col(\"hour\") >= 12) & (col(\"hour\") < 18), \"Afternoon\")\n",
    "    .when((col(\"hour\") >= 18) & (col(\"hour\") < 24), \"Evening\")\n",
    "    .otherwise(\"Night\")\n",
    ")\n",
    "\n",
    "time_of_day_df = filtered_df.groupBy(\"time_of_day\").agg(\n",
    "    count(\"*\").alias(\"transaction_count\")\n",
    ")\n",
    "\n",
    "time_of_day_df.show()\n"
   ]
  },
  {
   "cell_type": "markdown",
   "metadata": {},
   "source": [
    "## <span style=\"color: #99CCFF;\">Part VI</span>"
   ]
  },
  {
   "cell_type": "code",
   "execution_count": 52,
   "metadata": {},
   "outputs": [
    {
     "name": "stdout",
     "output_type": "stream",
     "text": [
      "+----+------+-----------+\n",
      "|hour|minute|total_spent|\n",
      "+----+------+-----------+\n",
      "|  22|    47|  109699571|\n",
      "|  22|    45|   93205279|\n",
      "|  22|    40|   92514833|\n",
      "|  22|    44|   91387829|\n",
      "|  22|    46|   89261477|\n",
      "|  22|    41|   85281604|\n",
      "|  22|    42|   83701446|\n",
      "|  22|    43|   75581651|\n",
      "|  22|    48|   74666009|\n",
      "|  22|     2|    9242870|\n",
      "|   7|    33|    8160004|\n",
      "|  16|    24|    7893397|\n",
      "|  10|    31|    7744145|\n",
      "|   2|    49|    7415993|\n",
      "|  13|     5|    7385463|\n",
      "|  15|    28|    7002781|\n",
      "|   1|     2|    6851591|\n",
      "|  13|    40|    6829057|\n",
      "|  21|     4|    6796691|\n",
      "|   9|    11|    6664873|\n",
      "+----+------+-----------+\n",
      "only showing top 20 rows\n",
      "\n"
     ]
    }
   ],
   "source": [
    "\n",
    "filtered_df = filtered_df.withColumn(\"hour\", hour(col(\"timestamp\")))\n",
    "filtered_df = filtered_df.withColumn(\"minute\", minute(col(\"timestamp\")))\n",
    "\n",
    "spending_trend_df = filtered_df.groupBy(\"hour\", \"minute\").agg(\n",
    "    sum(\"amount\").alias(\"total_spent\")\n",
    ").orderBy(\"hour\", \"minute\")\n",
    "\n",
    "spending_trend_df.sort(col(\"total_spent\").desc()).show()\n"
   ]
  },
  {
   "cell_type": "markdown",
   "metadata": {},
   "source": [
    "# <span style=\"color: #20B2AA;\">Data Storage Implementation</span>\n"
   ]
  },
  {
   "cell_type": "code",
   "execution_count": null,
   "metadata": {},
   "outputs": [],
   "source": [
    "from pymongo import MongoClient\n",
    "from datetime import datetime\n",
    "\n",
    "client = MongoClient(\"mongodb://localhost:27017/\")\n",
    "db = client['daroogheDB']\n",
    "transactions_collection = db['transactions']\n",
    "\n",
    "rows = df.collect()\n",
    "\n",
    "documents = []\n",
    "for row in rows:\n",
    "    transaction = {\n",
    "        \"id\": row['transaction_id'],\n",
    "        \"date\": row['timestamp'],\n",
    "        \"customer_id\": row['customer_id'],\n",
    "        \"merchant_id\": row['merchant_id'],\n",
    "        \"lat\": row['lat'],\n",
    "        \"long\": row['lng'],\n",
    "        \"merchant_category\": row['merchant_category'],\n",
    "        \"amount\": row['amount'],\n",
    "        \"vat_amount\": row['vat_amount'],\n",
    "        \"commission_type\": row[\"commission_type\"],\n",
    "        \"commission_amount\": row[\"commission_amount\"],\n",
    "        \"total_amount\": row[\"total_amount\"],\n",
    "        \"customer_type\": row[\"customer_type\"],\n",
    "        \"risk_level\": row[\"risk_level\"],\n",
    "        \"failure_reason\": row[\"failure_reason\"],\n",
    "        \"device_info\": row[\"device_info\"],\n",
    "        \"payment_method\": row[\"payment_method\"],\n",
    "        \"status\": row[\"status\"],\n",
    "        \"createdAt\": datetime.utcnow()\n",
    "    }\n",
    "    documents.append(transaction)\n",
    "\n",
    "if documents:\n",
    "    transactions_collection.insert_many(documents)\n"
   ]
  }
 ],
 "metadata": {
  "kernelspec": {
   "display_name": "Python 3",
   "language": "python",
   "name": "python3"
  },
  "language_info": {
   "codemirror_mode": {
    "name": "ipython",
    "version": 3
   },
   "file_extension": ".py",
   "mimetype": "text/x-python",
   "name": "python",
   "nbconvert_exporter": "python",
   "pygments_lexer": "ipython3",
   "version": "3.12.3"
  }
 },
 "nbformat": 4,
 "nbformat_minor": 2
}
