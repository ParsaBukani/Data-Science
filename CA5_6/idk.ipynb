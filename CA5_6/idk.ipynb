{
 "cells": [
  {
   "cell_type": "markdown",
   "id": "020cb5da",
   "metadata": {},
   "source": [
    "<style>\n",
    "  h2 { color: #0D6EFD; }\n",
    "  h1 { color: #8A2BE2; }\n",
    "  h3 { color: #00FFFF; }\n",
    "  a { color: #ff4081; }\n",
    "</style>\n",
    "\n",
    "# aa\n",
    "## aa\n",
    "### aa\n",
    "Primary Colors: Neon Blue (), Electric Purple (), and Cyber Green (#)\n",
    "\n",
    "\n",
    "### **<span style=\"color: #0D6EFD;\">Preperation</span>**\n",
    "## **<span style=\"color: #8A2BE2;\">Preperation</span>**\n",
    "#### **<span style=\"color: #00FFFF;\">Preperation</span>**\n",
    "\n",
    "\n",
    "\n",
    "\n",
    "### **<span style=\"color:rgb(124, 252, 0);\">Preperation</span>**\n",
    "## **<span style=\"color:rgb(34, 139, 34);\">Preperation</span>**\n",
    "#### **<span style=\"color:rgb(152, 255, 152);\">Preperation</span>**"
   ]
  },
  {
   "cell_type": "markdown",
   "id": "bec6d4c8",
   "metadata": {},
   "source": [
    "<style>\n",
    "  body { background-color: #121212; color: #ffffff; }\n",
    "</style>\n",
    "<style>\n",
    "  h1 { color: #00ffcc; }\n",
    "  a { color: #ff4081; }\n",
    "</style>\n"
   ]
  }
 ],
 "metadata": {
  "language_info": {
   "name": "python"
  }
 },
 "nbformat": 4,
 "nbformat_minor": 5
}
