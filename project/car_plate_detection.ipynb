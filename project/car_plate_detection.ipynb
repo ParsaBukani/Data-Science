{
 "cells": [
  {
   "cell_type": "markdown",
   "metadata": {},
   "source": [
    "* **[Phase 1 - Data Collection and Visualization](#phase1)**\n",
    "   - [Imports & Installations](#import)\n",
    "   - [Data Loading](#step01)   \n",
    "   - [Data Parsing & Cleaning](#step02)  \n",
    "   - [Data Flattening](#step03)  \n",
    "   - [Exporting Data to Excel](#step04)  \n",
    "\n",
    "* **[Phase 2 - Data Storage and Processing Pipeline](#phase2)**\n",
    "   - [Section 1: Database Implementation and Data Querying](#p2step1)\n",
    "   - [Section 2: Advanced Feature Engineering, Data Preprocessing, and Preparation for Modeling](#p2step2)\n",
    "* **[Phase 3 - Final Conclusions and Model Development](#phase3)**\n"
   ]
  },
  {
   "cell_type": "markdown",
   "metadata": {},
   "source": [
    "<a id='phase1'></a>\n",
    "## **Phase 1 - Data Collection and Visualization**"
   ]
  },
  {
   "cell_type": "markdown",
   "metadata": {},
   "source": [
    "<a id='import'></a>\n",
    "### **Imports & Installations**"
   ]
  },
  {
   "cell_type": "code",
   "execution_count": 92,
   "metadata": {},
   "outputs": [],
   "source": [
    "# !pip install kagglehub\n",
    "# !pip install openpyxl"
   ]
  },
  {
   "cell_type": "code",
   "execution_count": 93,
   "metadata": {},
   "outputs": [],
   "source": [
    "import xml.etree.ElementTree as ET\n",
    "import kagglehub\n",
    "import os\n",
    "import pandas as pd"
   ]
  },
  {
   "cell_type": "markdown",
   "metadata": {},
   "source": [
    "<a id='step01'></a>\n",
    "### **Data Loading**"
   ]
  },
  {
   "cell_type": "code",
   "execution_count": 94,
   "metadata": {},
   "outputs": [],
   "source": [
    "path_to_dataset = \"content\"\n",
    "\"\"\"\n",
    "If the dataset is not downloaded to your local machine you can use the following\n",
    "commented command:\n",
    "\"\"\"\n",
    "# path_to_dataset = kagglehub.dataset_download(\"andrewmvd/car-plate-detection\")\n",
    "\n",
    "annotation_folder = os.path.join(path_to_dataset, \"annotations\")\n",
    "image_folder = os.path.join(path_to_dataset, \"images\")"
   ]
  },
  {
   "cell_type": "markdown",
   "metadata": {},
   "source": [
    "<a id='step02'></a>\n",
    "### **Data Parsing & Cleaning**"
   ]
  },
  {
   "cell_type": "code",
   "execution_count": 95,
   "metadata": {},
   "outputs": [],
   "source": [
    "def parse_xml(xml_path):\n",
    "    tree = ET.parse(xml_path)\n",
    "    root = tree.getroot()\n",
    "    \n",
    "    size = {\n",
    "        'width': root.find('size/width').text,\n",
    "        'height': root.find('size/height').text\n",
    "    }\n",
    "        \n",
    "    objects = [{\n",
    "            'bndbox': {\n",
    "                'xmin': object.find('bndbox/xmin').text,\n",
    "                'ymin': object.find('bndbox/ymin').text,\n",
    "                'xmax': object.find('bndbox/xmax').text,\n",
    "                'ymax': object.find('bndbox/ymax').text,\n",
    "            }\n",
    "        } for object in root.findall('object')]\n",
    "           \n",
    "    extracted_info = {\n",
    "        'folder': root.find('folder').text,\n",
    "        'filename': root.find('filename').text,\n",
    "        'size': size,\n",
    "        'objects': objects\n",
    "    }\n",
    "    \n",
    "    return extracted_info \n"
   ]
  },
  {
   "cell_type": "markdown",
   "metadata": {},
   "source": [
    "<a id='step03'></a>\n",
    "### **Data Flattening**"
   ]
  },
  {
   "cell_type": "code",
   "execution_count": 96,
   "metadata": {},
   "outputs": [],
   "source": [
    "records = []\n",
    "for file in os.listdir(annotation_folder):\n",
    "    if file.endswith(\".xml\"):\n",
    "        data = parse_xml(os.path.join(annotation_folder, file))\n",
    "        for obj in data[\"objects\"]:\n",
    "            row = {\n",
    "                \"filename\": data[\"filename\"],\n",
    "                \"folder\": data[\"folder\"],\n",
    "                \"width\": int(data[\"size\"][\"width\"]),\n",
    "                \"height\": int(data[\"size\"][\"height\"]),\n",
    "                \"xmin\": int(obj[\"bndbox\"][\"xmin\"]),\n",
    "                \"ymin\": int(obj[\"bndbox\"][\"ymin\"]),\n",
    "                \"xmax\": int(obj[\"bndbox\"][\"xmax\"]),\n",
    "                \"ymax\": int(obj[\"bndbox\"][\"ymax\"])\n",
    "            }\n",
    "            records.append(row)\n"
   ]
  },
  {
   "cell_type": "markdown",
   "metadata": {},
   "source": [
    "<a id='step04'></a>\n",
    "### **Exporting Data to Excel**"
   ]
  },
  {
   "cell_type": "code",
   "execution_count": 97,
   "metadata": {},
   "outputs": [
    {
     "name": "stdout",
     "output_type": "stream",
     "text": [
      "Data exported successfully to content/car_plate_annotations.xlsx\n"
     ]
    }
   ],
   "source": [
    "df = pd.DataFrame(records)\n",
    "excel_path = \"content/car_plate_annotations.xlsx\"\n",
    "df.to_excel(excel_path, index=False)\n",
    "\n",
    "print(f\"Data exported successfully to {excel_path}\")"
   ]
  },
  {
   "cell_type": "markdown",
   "metadata": {},
   "source": [
    "<a id='phase2'></a>\n",
    "## **Phase 2 - Data Storage and Processing Pipeline**"
   ]
  },
  {
   "cell_type": "markdown",
   "metadata": {},
   "source": [
    "<a id='p2step1'></a>\n",
    "### **Section 1: Database Implementation and Data Querying**\n"
   ]
  },
  {
   "cell_type": "markdown",
   "metadata": {},
   "source": [
    "#### **creating database and importing data to database**"
   ]
  },
  {
   "cell_type": "code",
   "execution_count": 98,
   "metadata": {},
   "outputs": [],
   "source": [
    "import sqlite3\n",
    "import pandas as pd\n",
    "\n",
    "df = pd.read_excel('content/car_plate_annotations.xlsx')\n",
    "df['image_path'] = 'content/images/' + df['filename']\n",
    "\n",
    "conn = sqlite3.connect('database/dataset.db')\n",
    "\n",
    "conn.execute('''\n",
    "CREATE TABLE IF NOT EXISTS image_annotations (\n",
    "    id INTEGER PRIMARY KEY AUTOINCREMENT,  -- Auto-incremented primary key\n",
    "    filename TEXT NOT NULL,\n",
    "    folder TEXT NOT NULL,\n",
    "    width INTEGER NOT NULL,\n",
    "    height INTEGER NOT NULL,\n",
    "    xmin INTEGER NOT NULL,\n",
    "    ymin INTEGER NOT NULL,\n",
    "    xmax INTEGER NOT NULL,\n",
    "    ymax INTEGER NOT NULL,\n",
    "    image_path TEXT NOT NULL,\n",
    "    UNIQUE(filename)  -- Ensure that filename is unique\n",
    ");\n",
    "''')\n",
    "\n",
    "\n",
    "df.to_sql(\n",
    "    name='image_annotations',\n",
    "    con=conn,\n",
    "    if_exists='replace',\n",
    "    index=False,\n",
    "    dtype={\n",
    "        'filename': 'TEXT',\n",
    "        'folder': 'TEXT',\n",
    "        'width': 'INTEGER',\n",
    "        'height': 'INTEGER',\n",
    "        'xmin': 'INTEGER',\n",
    "        'ymin': 'INTEGER',\n",
    "        'xmax': 'INTEGER',\n",
    "        'ymax': 'INTEGER',\n",
    "        'image_path': 'TEXT'\n",
    "    }\n",
    ")\n",
    "conn.commit()\n",
    "conn.close()\n"
   ]
  },
  {
   "cell_type": "markdown",
   "metadata": {},
   "source": [
    "#### **Database Queries and Explorations**"
   ]
  },
  {
   "cell_type": "code",
   "execution_count": 99,
   "metadata": {},
   "outputs": [
    {
     "name": "stdout",
     "output_type": "stream",
     "text": [
      "\n",
      "=== GENERAL DATA OVERVIEW (first 20 records) ===\n",
      "('Cars339.png', 'images', 500, 300, 209, 135, 283, 169, 'content/images/Cars339.png')\n",
      "('Cars423.png', 'images', 400, 250, 162, 159, 283, 183, 'content/images/Cars423.png')\n",
      "('Cars5.png', 'images', 400, 295, 226, 218, 242, 240, 'content/images/Cars5.png')\n",
      "('Cars369.png', 'images', 500, 400, 176, 253, 325, 280, 'content/images/Cars369.png')\n",
      "('Cars119.png', 'images', 400, 247, 187, 140, 217, 153, 'content/images/Cars119.png')\n",
      "('Cars120.png', 'images', 400, 265, 159, 178, 250, 200, 'content/images/Cars120.png')\n",
      "('Cars13.png', 'images', 400, 268, 191, 147, 242, 169, 'content/images/Cars13.png')\n",
      "('Cars364.png', 'images', 400, 242, 61, 140, 115, 167, 'content/images/Cars364.png')\n",
      "('Cars400.png', 'images', 400, 267, 303, 191, 340, 217, 'content/images/Cars400.png')\n",
      "('Cars262.png', 'images', 400, 301, 243, 184, 285, 205, 'content/images/Cars262.png')\n",
      "('Cars172.png', 'images', 457, 422, 173, 209, 301, 239, 'content/images/Cars172.png')\n",
      "('Cars156.png', 'images', 400, 200, 114, 78, 230, 102, 'content/images/Cars156.png')\n",
      "('Cars411.png', 'images', 400, 268, 160, 153, 249, 197, 'content/images/Cars411.png')\n",
      "('Cars197.png', 'images', 590, 350, 222, 176, 359, 201, 'content/images/Cars197.png')\n",
      "('Cars388.png', 'images', 400, 300, 149, 130, 255, 158, 'content/images/Cars388.png')\n",
      "('Cars418.png', 'images', 400, 225, 99, 70, 303, 155, 'content/images/Cars418.png')\n",
      "('Cars348.png', 'images', 400, 225, 156, 121, 250, 204, 'content/images/Cars348.png')\n",
      "('Cars225.png', 'images', 600, 375, 189, 161, 384, 215, 'content/images/Cars225.png')\n",
      "('Cars221.png', 'images', 400, 225, 102, 122, 125, 135, 'content/images/Cars221.png')\n",
      "('Cars398.png', 'images', 400, 300, 72, 139, 196, 222, 'content/images/Cars398.png')\n",
      "\n",
      "=== TOP 15 BIGGEST PLATES BY AREA ===\n",
      "File: Cars114.png, Area: 116640 pixels\n",
      "File: Cars131.png, Area: 103248 pixels\n",
      "File: Cars50.png, Area: 84663 pixels\n",
      "File: Cars312.png, Area: 73260 pixels\n",
      "File: Cars211.png, Area: 61389 pixels\n",
      "File: Cars4.png, Area: 59337 pixels\n",
      "File: Cars76.png, Area: 55216 pixels\n",
      "File: Cars44.png, Area: 48616 pixels\n",
      "File: Cars261.png, Area: 37040 pixels\n",
      "File: Cars6.png, Area: 32625 pixels\n",
      "File: Cars266.png, Area: 31309 pixels\n",
      "File: Cars315.png, Area: 30959 pixels\n",
      "File: Cars385.png, Area: 27956 pixels\n",
      "File: Cars176.png, Area: 27848 pixels\n",
      "File: Cars33.png, Area: 23956 pixels\n",
      "\n",
      "=== TOP 10 LARGEST PICTURES (BY DIMENSIONS) ===\n",
      "File: Cars310.png, Size: 600x531 pixels\n",
      "File: Cars79.png, Size: 600x531 pixels\n",
      "File: Cars243.png, Size: 600x450 pixels\n",
      "File: Cars427.png, Size: 600x450 pixels\n",
      "File: Cars386.png, Size: 600x450 pixels\n",
      "File: Cars83.png, Size: 600x450 pixels\n",
      "File: Cars219.png, Size: 600x450 pixels\n",
      "File: Cars175.png, Size: 600x450 pixels\n",
      "File: Cars389.png, Size: 600x450 pixels\n",
      "File: Cars424.png, Size: 600x450 pixels\n",
      "\n",
      "=== PLATES WITH UNUSUAL ASPECT RATIOS (<0.5) ===\n",
      "File: Cars5.png, Aspect Ratio: 0.00\n",
      "File: Cars170.png, Aspect Ratio: 0.00\n",
      "File: Cars106.png, Aspect Ratio: 0.00\n",
      "File: Cars337.png, Aspect Ratio: 0.00\n"
     ]
    }
   ],
   "source": [
    "import sqlite3\n",
    "import pandas as pd\n",
    "\n",
    "\n",
    "conn = sqlite3.connect('database/dataset.db')\n",
    "cursor = conn.cursor()\n",
    "\n",
    "# Query 1: General data overview (first 20 records)\n",
    "print(\"\\n=== GENERAL DATA OVERVIEW (first 20 records) ===\")\n",
    "cursor.execute(\"SELECT * FROM image_annotations LIMIT 20\")\n",
    "general_data = cursor.fetchall()\n",
    "for row in general_data:\n",
    "    print(row)\n",
    "\n",
    "# Query 2: Top 15 biggest plates by area\n",
    "print(\"\\n=== TOP 15 BIGGEST PLATES BY AREA ===\")\n",
    "cursor.execute(\"\"\"\n",
    "    SELECT filename, (xmax-xmin)*(ymax-ymin) as area \n",
    "    FROM image_annotations \n",
    "    ORDER BY area DESC \n",
    "    LIMIT 15\n",
    "\"\"\")\n",
    "top_plates = cursor.fetchall()\n",
    "for plate in top_plates:\n",
    "    print(f\"File: {plate[0]}, Area: {plate[1]} pixels\")\n",
    "\n",
    "# Query 3: Top 10 largest pictures overall (by image dimensions)\n",
    "print(\"\\n=== TOP 10 LARGEST PICTURES (BY DIMENSIONS) ===\")\n",
    "cursor.execute(\"\"\"\n",
    "    SELECT filename, width, height \n",
    "    FROM image_annotations \n",
    "    ORDER BY (width * height) DESC \n",
    "    LIMIT 10\n",
    "\"\"\")\n",
    "big_pics = cursor.fetchall()\n",
    "for pic in big_pics:\n",
    "    print(f\"File: {pic[0]}, Size: {pic[1]}x{pic[2]} pixels\")\n",
    "\n",
    "\n",
    "# Query 4: Plates with small aspect ratios (potential anomalies)\n",
    "print(\"\\n=== PLATES WITH UNUSUAL ASPECT RATIOS (<0.5) ===\")\n",
    "cursor.execute(\"\"\"\n",
    "    SELECT filename, \n",
    "           (xmax-xmin)/(ymax-ymin) as aspect_ratio\n",
    "    FROM image_annotations\n",
    "    WHERE (xmax-xmin)/(ymax-ymin) < 0.5\n",
    "    ORDER BY ABS(1.0 - (xmax-xmin)/(ymax-ymin)) DESC LIMIT 10\n",
    "\"\"\")\n",
    "weird_plates = cursor.fetchall()\n",
    "for plate in weird_plates:\n",
    "    print(f\"File: {plate[0]}, Aspect Ratio: {plate[1]:.2f}\")\n",
    "\n",
    "conn.close()"
   ]
  },
  {
   "cell_type": "markdown",
   "metadata": {},
   "source": [
    "<a id='p2step2'></a>\n",
    "### **Section 2: Advanced Feature Engineering, Data Preprocessing, and Preparation for Modeling**"
   ]
  },
  {
   "cell_type": "markdown",
   "metadata": {},
   "source": [
    "#### **Review Initial Insights (EDA)**"
   ]
  },
  {
   "cell_type": "markdown",
   "metadata": {},
   "source": [
    "- **Plot 1:**  \n",
    "  Many images fall around the 400 × 400 pixel size range.\n",
    "\n",
    "- **Plot 2:**  \n",
    "  License plate lengths range from 0 to 100 pixels, and widths range from 0 to 50 pixels.\n",
    "\n",
    "- **Plot 3:**  \n",
    "  The area of most plates is around 1000 pixels² (showing an exponential-like distribution).\n",
    "\n",
    "- **Plot 4:**  \n",
    "  Most images have exactly one detected plate (about %86.6).\n"
   ]
  },
  {
   "cell_type": "code",
   "execution_count": 100,
   "metadata": {},
   "outputs": [
    {
     "data": {
      "image/png": "[encoded data removed]",
      "text/plain": [
       "<Figure size 1600x1000 with 4 Axes>"
      ]
     },
     "metadata": {},
     "output_type": "display_data"
    }
   ],
   "source": [
    "import sqlite3\n",
    "import pandas as pd\n",
    "import matplotlib.pyplot as plt\n",
    "import seaborn as sns\n",
    "plt.style.use('seaborn-v0_8')\n",
    "\n",
    "\n",
    "conn = sqlite3.connect('database/dataset.db')\n",
    "\n",
    "df = pd.read_sql_query(\"SELECT * FROM image_annotations\", conn)\n",
    "\n",
    "conn.close()\n",
    "\n",
    "df['bbox_width'] = df['xmax'] - df['xmin']\n",
    "df['bbox_height'] = df['ymax'] - df['ymin']\n",
    "df['bbox_area'] = df['bbox_width'] * df['bbox_height']\n",
    "\n",
    "plt.figure(figsize=(16, 10))\n",
    "\n",
    "plt.subplot(2, 2, 1)\n",
    "sns.scatterplot(x='width', y='height', data=df, color='darkgreen')\n",
    "plt.title(\"Image Dimensions\")\n",
    "\n",
    "plt.subplot(2, 2, 2)\n",
    "sns.scatterplot(x='bbox_width', y='bbox_height', data=df, color='coral')\n",
    "plt.title(\"Bounding Box Width vs Height\")\n",
    "\n",
    "plt.subplot(2, 2, 3)\n",
    "sns.histplot(df['bbox_area'], bins=15, kde=True)\n",
    "plt.title(\"Bounding Box Area Distribution\")\n",
    "\n",
    "plt.subplot(2, 2, 4)\n",
    "annotation_counts = df['filename'].value_counts()\n",
    "sns.histplot(annotation_counts, bins=50, color='black')\n",
    "plt.title(\"Number of Annotations per Image\")\n",
    "\n",
    "plt.tight_layout()\n",
    "plt.show()\n"
   ]
  },
  {
   "cell_type": "markdown",
   "metadata": {},
   "source": [
    "#### **Perform Advanced Feature Engineering**:\n",
    "\n"
   ]
  },
  {
   "cell_type": "markdown",
   "metadata": {},
   "source": [
    "we engineered several visual and spatial features to aid OCR-based modeling. These features help normalize input, understand plate positioning, and assess visual scale and alignment across the dataset.\n",
    "\n",
    "We created the following advanced features:\n",
    "\n",
    "- **`bbox_width` and `bbox_height`**: The pixel width and height of each annotated plate, calculated as `xmax - xmin` and `ymax - ymin`. These are important for detecting elongated or squished plates.\n",
    "\n",
    "- **`bbox_area`**: The area (in pixels) of the plate region, helping detect abnormal sizes that may affect OCR accuracy.\n",
    "\n",
    "- **`aspect_ratio`**: Computed as `bbox_width / bbox_height`, indicating the geometric proportions of the plate. This is crucial since license plates typically follow consistent formats (e.g., 4:1 width-to-height ratio).\n",
    "\n",
    "- **`area_fraction`**: The proportion of the image covered by the plate (`bbox_area / (width * height)`). Helps understand scale and whether plates are zoomed-in or distant.\n",
    "\n",
    "- **`center_x_norm` and `center_y_norm`**: The normalized center coordinates of each bounding box, giving insight into spatial distribution and plate alignment (values between 0 and 1).\n",
    "\n",
    "- **`margin_left`, `margin_right`, `margin_top`, `margin_bottom`**: Distance (in pixels) from the plate edges to the image borders. Useful for analyzing whether plates are centered or edge-aligned.\n",
    "\n",
    "These features collectively provide rich information about the visual and spatial properties of plates. They will support the **OCR preprocessing pipeline** in the next phase by enabling:\n",
    "\n",
    "- Selection of consistent plate crops for input into OCR models.\n",
    "- Filtering or augmenting images with small, poorly framed, or off-centered plates.\n",
    "- Data quality checks for outlier bounding boxes before modeling.\n",
    "\n"
   ]
  },
  {
   "cell_type": "code",
   "execution_count": 101,
   "metadata": {},
   "outputs": [],
   "source": [
    "import sqlite3\n",
    "import pandas as pd\n",
    "\n",
    "# Basic derived features\n",
    "df['bbox_width']  = df['xmax'] - df['xmin']\n",
    "df['bbox_height'] = df['ymax'] - df['ymin']\n",
    "df['bbox_area']   = df['bbox_width'] * df['bbox_height']\n",
    "\n",
    "# Aspect ratio of each bounding box\n",
    "df['aspect_ratio'] = df['bbox_width'] / df['bbox_height']\n",
    "\n",
    "# Fraction of image covered by the plate\n",
    "df['area_fraction'] = df['bbox_area'] / (df['width'] * df['height'])\n",
    "\n",
    "# Normalized center coordinates (useful for spatial models)\n",
    "df['center_x_norm'] = ((df['xmin'] + df['xmax']) / 2) / df['width']\n",
    "df['center_y_norm'] = ((df['ymin'] + df['ymax']) / 2) / df['height']\n",
    "\n",
    "# Edge margins (distance from plate to each image border)\n",
    "df['margin_left']   = df['xmin']\n",
    "df['margin_top']    = df['ymin']\n",
    "df['margin_right']  = df['width']  - df['xmax']\n",
    "df['margin_bottom'] = df['height'] - df['ymax']\n",
    "\n",
    "conn = sqlite3.connect('database/dataset.db')\n",
    "cursor = conn.cursor()\n",
    "\n",
    "conn.execute('''\n",
    "CREATE TABLE IF NOT EXISTS engineered_plate_features (\n",
    "    id INTEGER PRIMARY KEY AUTOINCREMENT,  -- Auto-incremented primary key\n",
    "    filename TEXT NOT NULL,\n",
    "    bbox_width REAL NOT NULL,\n",
    "    bbox_height REAL NOT NULL,\n",
    "    bbox_area REAL NOT NULL,\n",
    "    aspect_ratio REAL NOT NULL,\n",
    "    area_fraction REAL NOT NULL,\n",
    "    center_x_norm REAL NOT NULL,\n",
    "    center_y_norm REAL NOT NULL,\n",
    "    margin_left INTEGER NOT NULL,\n",
    "    margin_top INTEGER NOT NULL,\n",
    "    margin_right INTEGER NOT NULL,\n",
    "    margin_bottom INTEGER NOT NULL,\n",
    "    FOREIGN KEY(filename) REFERENCES image_annotations(filename)  -- Foreign key to image_annotations table\n",
    ");\n",
    "''')\n",
    "\n",
    "df[['filename', 'bbox_width', 'bbox_height', 'bbox_area', 'aspect_ratio', \n",
    "    'area_fraction', 'center_x_norm', 'center_y_norm', 'margin_left', \n",
    "    'margin_top', 'margin_right', 'margin_bottom']].to_sql(\n",
    "    name='engineered_plate_features',\n",
    "    con=conn,\n",
    "    if_exists='replace',  \n",
    "    index=False\n",
    ")\n",
    "\n",
    "conn.commit()\n",
    "conn.close()\n"
   ]
  },
  {
   "cell_type": "markdown",
   "metadata": {},
   "source": [
    "#### Image Data Preprocessing and Visual Feature Extraction\n",
    "\n",
    "To prepare the plate regions for OCR and modeling, we performed the following:\n",
    "\n",
    "- **Cropping**: Each license plate was cropped using its bounding box.\n",
    "- **Resizing**: Standardized to 128×32 pixels to ensure consistent model input.\n",
    "- **Normalization**: Pixel values scaled to the [0.0, 1.0] range.\n",
    "- **Grayscale conversion**: Reduced noise and simplified OCR feature space.\n",
    "\n",
    "These steps ensure that all plate images are uniform and suitable for OCR or classification in downstream modeling tasks."
   ]
  },
  {
   "cell_type": "code",
   "execution_count": 102,
   "metadata": {},
   "outputs": [
    {
     "name": "stdout",
     "output_type": "stream",
     "text": [
      "✅ Plates saved and names assigned.\n"
     ]
    }
   ],
   "source": [
    "import os\n",
    "import cv2\n",
    "\n",
    "# Load data from the database\n",
    "conn = sqlite3.connect('database/dataset.db')\n",
    "query = \"\"\"\n",
    "SELECT \n",
    "    p.filename, p.image_path, \n",
    "    p.xmin, p.ymin, p.xmax, p.ymax,\n",
    "    f.bbox_width, f.bbox_height\n",
    "FROM image_annotations AS p\n",
    "JOIN engineered_plate_features AS f\n",
    "  ON p.filename = f.filename\n",
    "\"\"\"\n",
    "df = pd.read_sql_query(query, conn)\n",
    "conn.close()\n",
    "\n",
    "output_folder = 'content/plates'\n",
    "os.makedirs(output_folder, exist_ok=True)\n",
    "\n",
    "mean_w = int(df['bbox_width'].mean())\n",
    "mean_h = int(df['bbox_height'].mean())\n",
    "output_size = (mean_w, mean_h)\n",
    "\n",
    "df['preprocessed_plate'] = None\n",
    "df['preprocessed_folder'] = output_folder\n",
    "\n",
    "for idx, row in df.iterrows():\n",
    "    img_path = row['image_path']\n",
    "    image = cv2.imread(img_path)\n",
    "    if image is None:\n",
    "        print(f\"⚠️ Could not read image: {img_path}\")\n",
    "        continue\n",
    "\n",
    "    # Crop and preprocess\n",
    "    x0, y0, x1, y1 = row[['xmin','ymin','xmax','ymax']]\n",
    "    cropped = image[y0:y1, x0:x1]\n",
    "    resized = cv2.resize(cropped, output_size)\n",
    "    gray = cv2.cvtColor(resized, cv2.COLOR_BGR2GRAY)\n",
    "    norm = (gray.astype('float32') / 255.0 * 255).astype('uint8')\n",
    "\n",
    "    # Save the image\n",
    "    plate_name = f'plate_{idx:04d}.png'\n",
    "    save_path = os.path.join(output_folder, plate_name)\n",
    "    cv2.imwrite(save_path, norm)\n",
    "\n",
    "    # Store file info in DataFrame\n",
    "    df.at[idx, 'preprocessed_plate'] = plate_name\n",
    "\n",
    "print(\"✅ Plates saved and names assigned.\")\n"
   ]
  },
  {
   "cell_type": "code",
   "execution_count": 103,
   "metadata": {},
   "outputs": [
    {
     "name": "stdout",
     "output_type": "stream",
     "text": [
      "✅ Database table 'engineered_plate_features' updated with new file info.\n"
     ]
    }
   ],
   "source": [
    "conn = sqlite3.connect('database/dataset.db')\n",
    "cursor = conn.cursor()\n",
    "\n",
    "try:\n",
    "    cursor.execute(\"ALTER TABLE engineered_plate_features ADD COLUMN preprocessed_plate TEXT;\")\n",
    "    cursor.execute(\"ALTER TABLE engineered_plate_features ADD COLUMN preprocessed_folder TEXT;\")\n",
    "except sqlite3.OperationalError:\n",
    "    pass\n",
    "\n",
    "conn.commit()\n",
    "\n",
    "for _, row in df.iterrows():\n",
    "    cursor.execute(\"\"\"\n",
    "        UPDATE engineered_plate_features\n",
    "        SET preprocessed_plate = ?, preprocessed_folder = ?\n",
    "        WHERE filename = ?\n",
    "    \"\"\", (row['preprocessed_plate'], row['preprocessed_folder'], row['filename']))\n",
    "\n",
    "conn.commit()\n",
    "conn.close()\n",
    "\n",
    "print(\"✅ Database table 'engineered_plate_features' updated with new file info.\")"
   ]
  },
  {
   "cell_type": "markdown",
   "metadata": {},
   "source": [
    "#### Comprehensive Data Preprocessing\n",
    "\n",
    "To ensure clean and model-ready data, we conducted the following preprocessing steps:\n",
    "\n",
    "- **Removal of No-Plate Entries**: A number of records in the dataset were found to contain no valid license plate annotations, indicated by all bounding box coordinates being zero. These entries were removed from the dataset before feature engineering and database insertion to prevent invalid computations and ensure data integrity.\n",
    "\n",
    "- **Feature Normalization**: Key numeric features (bounding box sizes, aspect ratio, spatial location) were normalized to [0, 1] using Min-Max scaling. This prevents scale dominance in distance-based models.\n",
    "\n",
    "- **Redundant Feature Removal**: Features with high pairwise correlation  were dropped after statistical analysis to avoid multicollinearity.\n",
    "\n",
    "- **Blurry Image Labeling**: All preprocessed plate images were analyzed for sharpness using Laplacian variance. Plates with low blur scores were marked as blurry (`is_blurry = 1`) and stored in the database. This allows for selective filtering of low-quality samples during OCR training or evaluation, without discarding them entirely.\n",
    "\n",
    "\n",
    "This step ensures the dataset is consistent, scaled, and relevant for downstream modeling tasks like OCR.\n"
   ]
  },
  {
   "cell_type": "markdown",
   "metadata": {},
   "source": [
    "**Removal of No-Plate Entries**"
   ]
  },
  {
   "cell_type": "code",
   "execution_count": 104,
   "metadata": {},
   "outputs": [],
   "source": [
    "conn = sqlite3.connect('database/dataset.db')\n",
    "cursor = conn.cursor()\n",
    "\n",
    "# Delete rows where there is no plate (bounding box size is zero)\n",
    "cursor.execute(\"\"\"\n",
    "    DELETE FROM image_annotations\n",
    "    WHERE xmin = 0 AND ymin = 0 AND xmax = 0 AND ymax = 0;\n",
    "\"\"\")\n",
    "\n",
    "conn.commit()\n",
    "conn.close()"
   ]
  },
  {
   "cell_type": "markdown",
   "metadata": {},
   "source": [
    "**Feature Normalization**"
   ]
  },
  {
   "cell_type": "code",
   "execution_count": 105,
   "metadata": {},
   "outputs": [],
   "source": [
    "from sklearn.preprocessing import MinMaxScaler\n",
    "\n",
    "# Load raw + feature data with a JOIN\n",
    "conn = sqlite3.connect('database/dataset.db')\n",
    "query = \"\"\"\n",
    "SELECT \n",
    "    p.filename, p.image_path, \n",
    "    p.xmin, p.ymin, p.xmax, p.ymax,\n",
    "    f.bbox_width, f.bbox_height,\n",
    "    f.bbox_area, f.aspect_ratio, f.area_fraction,\n",
    "    f.center_x_norm, f.center_y_norm\n",
    "FROM image_annotations AS p\n",
    "JOIN engineered_plate_features AS f\n",
    "  ON p.filename = f.filename\n",
    "\"\"\"\n",
    "df = pd.read_sql_query(query, conn)\n",
    "conn.close()\n",
    "\n",
    "# Scale the numeric columns\n",
    "scaler = MinMaxScaler()\n",
    "cols_to_scale = ['bbox_width', 'bbox_height', 'bbox_area', 'aspect_ratio', \n",
    "                 'area_fraction', 'center_x_norm', 'center_y_norm']\n",
    "df[cols_to_scale] = scaler.fit_transform(df[cols_to_scale])\n"
   ]
  },
  {
   "cell_type": "markdown",
   "metadata": {},
   "source": [
    "**Redundant Feature Removal**\n",
    "\n",
    "We computed the pairwise correlations among our 11 numerical features.  "
   ]
  },
  {
   "cell_type": "code",
   "execution_count": null,
   "metadata": {},
   "outputs": [
    {
     "name": "stdout",
     "output_type": "stream",
     "text": [
      "bbox_area      area_fraction    0.947417\n",
      "center_x_norm  margin_right     0.905302\n",
      "bbox_height    area_fraction    0.904572\n",
      "               bbox_area        0.897184\n",
      "center_x_norm  margin_left      0.895958\n",
      "bbox_width     bbox_area        0.834511\n",
      "               bbox_height      0.820283\n",
      "               area_fraction    0.817168\n",
      "center_y_norm  margin_bottom    0.809705\n",
      "               margin_top       0.720838\n",
      "dtype: float64\n"
     ]
    }
   ],
   "source": [
    "import numpy as np\n",
    "\n",
    "conn = sqlite3.connect('database/dataset.db')\n",
    "query = \"\"\"\n",
    "SELECT \n",
    "    p.filename, p.image_path, \n",
    "    p.xmin, p.ymin, p.xmax, p.ymax,\n",
    "    f.bbox_width, f.bbox_height,\n",
    "    f.bbox_area, f.aspect_ratio, f.area_fraction,\n",
    "    f.center_x_norm, f.center_y_norm, f.margin_top,\n",
    "    f.margin_left, margin_right, margin_bottom\n",
    "FROM image_annotations AS p\n",
    "JOIN engineered_plate_features AS f\n",
    "  ON p.filename = f.filename\n",
    "\"\"\"\n",
    "df = pd.read_sql_query(query, conn)\n",
    "conn.close()\n",
    "\n",
    "cols = ['bbox_width','bbox_height','bbox_area',\n",
    "        'aspect_ratio','area_fraction',\n",
    "        'center_x_norm','center_y_norm',\n",
    "        'margin_left','margin_top','margin_right','margin_bottom']\n",
    "\n",
    "corr = df[cols].corr().abs()\n",
    "\n",
    "corr_pairs = (\n",
    "    corr.where(np.triu(np.ones(corr.shape), k=1).astype(bool))\n",
    "        .stack()\n",
    "        .sort_values(ascending=False)\n",
    ")\n",
    "print(corr_pairs.head(10))\n"
   ]
  },
  {
   "cell_type": "markdown",
   "metadata": {},
   "source": [
    "After computing the correlation matrix, several features were identified as highly correlated (ρ > 0.90). To simplify the feature space and reduce multicollinearity:\n",
    "\n",
    "- `bbox_area` was dropped in favor of `area_fraction`, which is normalized.\n",
    "\n",
    "- `margin_left`, `margin_right`, and `margin_bottom` were removed due to strong correlation with `center_x_norm` and `center_y_norm`.\n",
    "\n",
    "- `bbox_width` and `bbox_height` were retained for interpretability despite moderate correlation with `bbox_area`.\n",
    "\n",
    "This resulted in a compact, non-redundant set of features used for modeling."
   ]
  },
  {
   "cell_type": "code",
   "execution_count": 107,
   "metadata": {},
   "outputs": [
    {
     "name": "stdout",
     "output_type": "stream",
     "text": [
      "✅ Reduced features saved to 'engineered_plate_features' in the database.\n"
     ]
    }
   ],
   "source": [
    "conn = sqlite3.connect('database/dataset.db')\n",
    "df = pd.read_sql_query(\"SELECT * FROM engineered_plate_features\", conn)\n",
    "\n",
    "to_drop = ['bbox_area', 'margin_left', 'margin_right', 'margin_bottom']\n",
    "df_reduced = df.drop(columns=to_drop, errors='ignore')\n",
    "\n",
    "df_reduced.to_sql(\n",
    "    name='engineered_plate_features',\n",
    "    con=conn,\n",
    "    if_exists='replace',\n",
    "    index=False\n",
    ")\n",
    "\n",
    "conn.commit()\n",
    "conn.close()\n",
    "\n",
    "print(\"✅ Reduced features saved to 'engineered_plate_features' in the database.\")\n"
   ]
  },
  {
   "cell_type": "markdown",
   "metadata": {},
   "source": [
    "#### Blurry Image Detection and Labeling\n",
    "To ensure image quality, each preprocessed license plate image was analyzed for blurriness using the variance of the Laplacian method — a common edge-based technique for measuring sharpness.\n",
    "\n",
    "**Detection Method**:\n",
    "- The Laplacian of each grayscale plate image was computed.\n",
    "- The variance of the Laplacian (`blur_score`) was used as a sharpness indicator.\n",
    "- A threshold of 100.0 was used:\n",
    "  - Images with a blur score below this were labeled as **blurry** (`is_blurry = 1`).\n",
    "  - Others were labeled as **clear** (`is_blurry = 0`).\n",
    "\n",
    "**Database Integration**:\n",
    "- Two new columns were added to the `engineered_plate_features` table:\n",
    "  - `blur_score` — a numeric sharpness score.\n",
    "  - `is_blurry` — a binary label for blur (0 = clear, 1 = blurry).\n",
    "- This labeling enables downstream filtering of poor-quality data, training robust models, or evaluating OCR performance under image degradation.\n"
   ]
  },
  {
   "cell_type": "code",
   "execution_count": 108,
   "metadata": {},
   "outputs": [
    {
     "name": "stdout",
     "output_type": "stream",
     "text": [
      "    preprocessed_plate  blur_score  is_blurry\n",
      "221     plate_0039.png    9.108026       True\n",
      "485     plate_0040.png    9.108026       True\n",
      "443     plate_0022.png   11.210800       True\n",
      "472     plate_0023.png   11.210800       True\n",
      "478     plate_0086.png   15.511619       True\n",
      "145     plate_0089.png   15.511619       True\n",
      "514     plate_0087.png   15.511619       True\n",
      "564     plate_0088.png   15.511619       True\n",
      "109     plate_0057.png   17.510107       True\n",
      "153     plate_0097.png   18.192420       True\n"
     ]
    }
   ],
   "source": [
    "def is_blurry(image, threshold=100.0):\n",
    "    gray = cv2.cvtColor(image, cv2.COLOR_BGR2GRAY)\n",
    "    lap = cv2.Laplacian(gray, cv2.CV_64F)\n",
    "    var_lap = lap.var()\n",
    "    return var_lap < threshold, var_lap\n",
    "\n",
    "def estimate_noise(image):\n",
    "    gray = cv2.cvtColor(image, cv2.COLOR_BGR2GRAY)\n",
    "    return np.std(gray)  # higher std = noisier image\n",
    "\n",
    "results = []\n",
    "\n",
    "plate_dir = 'content/plates'\n",
    "\n",
    "for fname in os.listdir(plate_dir):\n",
    "    path = os.path.join(plate_dir, fname)\n",
    "    img = cv2.imread(path)\n",
    "\n",
    "    blurry, score = is_blurry(img)\n",
    "    results.append({'preprocessed_plate': fname, 'blur_score': score, 'is_blurry': blurry})\n",
    "\n",
    "df_blur = pd.DataFrame(results)\n",
    "print(df_blur.sort_values(by='blur_score').head(10))"
   ]
  },
  {
   "cell_type": "code",
   "execution_count": 109,
   "metadata": {},
   "outputs": [
    {
     "name": "stdout",
     "output_type": "stream",
     "text": [
      "✅ Blurry plate status updated in database.\n"
     ]
    }
   ],
   "source": [
    "conn = sqlite3.connect('database/dataset.db')\n",
    "cursor = conn.cursor()\n",
    "\n",
    "try:\n",
    "    cursor.execute(\"ALTER TABLE engineered_plate_features ADD COLUMN is_blurry INTEGER;\")\n",
    "    cursor.execute(\"ALTER TABLE engineered_plate_features ADD COLUMN blur_score REAL;\")\n",
    "except sqlite3.OperationalError:\n",
    "    pass\n",
    "    \n",
    "for _, row in df_blur.iterrows():\n",
    "    cursor.execute(\"\"\"\n",
    "        UPDATE engineered_plate_features\n",
    "        SET is_blurry = ?, blur_score = ?\n",
    "        WHERE preprocessed_plate = ?\n",
    "    \"\"\", (row['is_blurry'], row['blur_score'], row['preprocessed_plate']))\n",
    "\n",
    "conn.commit()\n",
    "conn.close()\n",
    "\n",
    "print(\"✅ Blurry plate status updated in database.\")\n"
   ]
  },
  {
   "cell_type": "markdown",
   "metadata": {},
   "source": [
    "### 🧭 General Overview of the Database\n"
   ]
  },
  {
   "cell_type": "code",
   "execution_count": 110,
   "metadata": {},
   "outputs": [
    {
     "name": "stdout",
     "output_type": "stream",
     "text": [
      "📋 Tables in database:\n",
      "- sqlite_sequence\n",
      "- image_annotations\n",
      "- engineered_plate_features\n"
     ]
    }
   ],
   "source": [
    "conn = sqlite3.connect('database/dataset.db')\n",
    "cursor = conn.cursor()\n",
    "\n",
    "cursor.execute(\"SELECT name FROM sqlite_master WHERE type='table';\")\n",
    "tables = cursor.fetchall()\n",
    "\n",
    "print(\"📋 Tables in database:\")\n",
    "for t in tables:\n",
    "    print(\"-\", t[0])\n"
   ]
  },
  {
   "cell_type": "code",
   "execution_count": 111,
   "metadata": {},
   "outputs": [
    {
     "name": "stdout",
     "output_type": "stream",
     "text": [
      "🧱 Columns in table 'engineered_plate_features':\n",
      "  - filename (TEXT)\n",
      "  - bbox_width (INTEGER)\n",
      "  - bbox_height (INTEGER)\n",
      "  - aspect_ratio (REAL)\n",
      "  - area_fraction (REAL)\n",
      "  - center_x_norm (REAL)\n",
      "  - center_y_norm (REAL)\n",
      "  - margin_top (INTEGER)\n",
      "  - preprocessed_plate (TEXT)\n",
      "  - preprocessed_folder (TEXT)\n",
      "  - is_blurry (INTEGER)\n",
      "  - blur_score (REAL)\n"
     ]
    }
   ],
   "source": [
    "table_name = 'engineered_plate_features'\n",
    "\n",
    "cursor.execute(f\"PRAGMA table_info({table_name});\")\n",
    "columns = cursor.fetchall()\n",
    "\n",
    "print(f\"🧱 Columns in table '{table_name}':\")\n",
    "for col in columns:\n",
    "    print(f\"  - {col[1]} ({col[2]})\")\n",
    "\n"
   ]
  },
  {
   "cell_type": "code",
   "execution_count": 112,
   "metadata": {},
   "outputs": [],
   "source": [
    "df_annotations = pd.read_sql_query(\"SELECT * FROM image_annotations LIMIT 5\", conn)\n",
    "df_features = pd.read_sql_query(\"SELECT * FROM engineered_plate_features LIMIT 5\", conn)\n",
    "\n",
    "conn.close()"
   ]
  },
  {
   "cell_type": "code",
   "execution_count": 113,
   "metadata": {},
   "outputs": [
    {
     "data": {
      "text/markdown": [
       "### 📁 Sample: Plate Annotations"
      ],
      "text/plain": [
       "<IPython.core.display.Markdown object>"
      ]
     },
     "metadata": {},
     "output_type": "display_data"
    },
    {
     "data": {
      "text/html": [
       "<style type=\"text/css\">\n",
       "</style>\n",
       "<table id=\"T_b1546\" style=\"display:inline\">\n",
       "  <caption>Raw Bounding Box Info</caption>\n",
       "  <thead>\n",
       "    <tr>\n",
       "      <th class=\"blank level0\" >&nbsp;</th>\n",
       "      <th id=\"T_b1546_level0_col0\" class=\"col_heading level0 col0\" >filename</th>\n",
       "      <th id=\"T_b1546_level0_col1\" class=\"col_heading level0 col1\" >folder</th>\n",
       "      <th id=\"T_b1546_level0_col2\" class=\"col_heading level0 col2\" >width</th>\n",
       "      <th id=\"T_b1546_level0_col3\" class=\"col_heading level0 col3\" >height</th>\n",
       "      <th id=\"T_b1546_level0_col4\" class=\"col_heading level0 col4\" >xmin</th>\n",
       "      <th id=\"T_b1546_level0_col5\" class=\"col_heading level0 col5\" >ymin</th>\n",
       "      <th id=\"T_b1546_level0_col6\" class=\"col_heading level0 col6\" >xmax</th>\n",
       "      <th id=\"T_b1546_level0_col7\" class=\"col_heading level0 col7\" >ymax</th>\n",
       "      <th id=\"T_b1546_level0_col8\" class=\"col_heading level0 col8\" >image_path</th>\n",
       "    </tr>\n",
       "  </thead>\n",
       "  <tbody>\n",
       "    <tr>\n",
       "      <th id=\"T_b1546_level0_row0\" class=\"row_heading level0 row0\" >0</th>\n",
       "      <td id=\"T_b1546_row0_col0\" class=\"data row0 col0\" >Cars339.png</td>\n",
       "      <td id=\"T_b1546_row0_col1\" class=\"data row0 col1\" >images</td>\n",
       "      <td id=\"T_b1546_row0_col2\" class=\"data row0 col2\" >500</td>\n",
       "      <td id=\"T_b1546_row0_col3\" class=\"data row0 col3\" >300</td>\n",
       "      <td id=\"T_b1546_row0_col4\" class=\"data row0 col4\" >209</td>\n",
       "      <td id=\"T_b1546_row0_col5\" class=\"data row0 col5\" >135</td>\n",
       "      <td id=\"T_b1546_row0_col6\" class=\"data row0 col6\" >283</td>\n",
       "      <td id=\"T_b1546_row0_col7\" class=\"data row0 col7\" >169</td>\n",
       "      <td id=\"T_b1546_row0_col8\" class=\"data row0 col8\" >content/images/Cars339.png</td>\n",
       "    </tr>\n",
       "    <tr>\n",
       "      <th id=\"T_b1546_level0_row1\" class=\"row_heading level0 row1\" >1</th>\n",
       "      <td id=\"T_b1546_row1_col0\" class=\"data row1 col0\" >Cars423.png</td>\n",
       "      <td id=\"T_b1546_row1_col1\" class=\"data row1 col1\" >images</td>\n",
       "      <td id=\"T_b1546_row1_col2\" class=\"data row1 col2\" >400</td>\n",
       "      <td id=\"T_b1546_row1_col3\" class=\"data row1 col3\" >250</td>\n",
       "      <td id=\"T_b1546_row1_col4\" class=\"data row1 col4\" >162</td>\n",
       "      <td id=\"T_b1546_row1_col5\" class=\"data row1 col5\" >159</td>\n",
       "      <td id=\"T_b1546_row1_col6\" class=\"data row1 col6\" >283</td>\n",
       "      <td id=\"T_b1546_row1_col7\" class=\"data row1 col7\" >183</td>\n",
       "      <td id=\"T_b1546_row1_col8\" class=\"data row1 col8\" >content/images/Cars423.png</td>\n",
       "    </tr>\n",
       "    <tr>\n",
       "      <th id=\"T_b1546_level0_row2\" class=\"row_heading level0 row2\" >2</th>\n",
       "      <td id=\"T_b1546_row2_col0\" class=\"data row2 col0\" >Cars5.png</td>\n",
       "      <td id=\"T_b1546_row2_col1\" class=\"data row2 col1\" >images</td>\n",
       "      <td id=\"T_b1546_row2_col2\" class=\"data row2 col2\" >400</td>\n",
       "      <td id=\"T_b1546_row2_col3\" class=\"data row2 col3\" >295</td>\n",
       "      <td id=\"T_b1546_row2_col4\" class=\"data row2 col4\" >226</td>\n",
       "      <td id=\"T_b1546_row2_col5\" class=\"data row2 col5\" >218</td>\n",
       "      <td id=\"T_b1546_row2_col6\" class=\"data row2 col6\" >242</td>\n",
       "      <td id=\"T_b1546_row2_col7\" class=\"data row2 col7\" >240</td>\n",
       "      <td id=\"T_b1546_row2_col8\" class=\"data row2 col8\" >content/images/Cars5.png</td>\n",
       "    </tr>\n",
       "    <tr>\n",
       "      <th id=\"T_b1546_level0_row3\" class=\"row_heading level0 row3\" >3</th>\n",
       "      <td id=\"T_b1546_row3_col0\" class=\"data row3 col0\" >Cars369.png</td>\n",
       "      <td id=\"T_b1546_row3_col1\" class=\"data row3 col1\" >images</td>\n",
       "      <td id=\"T_b1546_row3_col2\" class=\"data row3 col2\" >500</td>\n",
       "      <td id=\"T_b1546_row3_col3\" class=\"data row3 col3\" >400</td>\n",
       "      <td id=\"T_b1546_row3_col4\" class=\"data row3 col4\" >176</td>\n",
       "      <td id=\"T_b1546_row3_col5\" class=\"data row3 col5\" >253</td>\n",
       "      <td id=\"T_b1546_row3_col6\" class=\"data row3 col6\" >325</td>\n",
       "      <td id=\"T_b1546_row3_col7\" class=\"data row3 col7\" >280</td>\n",
       "      <td id=\"T_b1546_row3_col8\" class=\"data row3 col8\" >content/images/Cars369.png</td>\n",
       "    </tr>\n",
       "    <tr>\n",
       "      <th id=\"T_b1546_level0_row4\" class=\"row_heading level0 row4\" >4</th>\n",
       "      <td id=\"T_b1546_row4_col0\" class=\"data row4 col0\" >Cars119.png</td>\n",
       "      <td id=\"T_b1546_row4_col1\" class=\"data row4 col1\" >images</td>\n",
       "      <td id=\"T_b1546_row4_col2\" class=\"data row4 col2\" >400</td>\n",
       "      <td id=\"T_b1546_row4_col3\" class=\"data row4 col3\" >247</td>\n",
       "      <td id=\"T_b1546_row4_col4\" class=\"data row4 col4\" >187</td>\n",
       "      <td id=\"T_b1546_row4_col5\" class=\"data row4 col5\" >140</td>\n",
       "      <td id=\"T_b1546_row4_col6\" class=\"data row4 col6\" >217</td>\n",
       "      <td id=\"T_b1546_row4_col7\" class=\"data row4 col7\" >153</td>\n",
       "      <td id=\"T_b1546_row4_col8\" class=\"data row4 col8\" >content/images/Cars119.png</td>\n",
       "    </tr>\n",
       "  </tbody>\n",
       "</table>\n"
      ],
      "text/plain": [
       "<pandas.io.formats.style.Styler at 0x7f5fde0b6150>"
      ]
     },
     "metadata": {},
     "output_type": "display_data"
    },
    {
     "data": {
      "text/markdown": [
       "### 🧠 Sample: Engineered Plate Features"
      ],
      "text/plain": [
       "<IPython.core.display.Markdown object>"
      ]
     },
     "metadata": {},
     "output_type": "display_data"
    },
    {
     "data": {
      "text/html": [
       "<style type=\"text/css\">\n",
       "</style>\n",
       "<table id=\"T_5f206\" style=\"display:inline\">\n",
       "  <caption>Computed Features (Top 5 rows)</caption>\n",
       "  <thead>\n",
       "    <tr>\n",
       "      <th class=\"blank level0\" >&nbsp;</th>\n",
       "      <th id=\"T_5f206_level0_col0\" class=\"col_heading level0 col0\" >filename</th>\n",
       "      <th id=\"T_5f206_level0_col1\" class=\"col_heading level0 col1\" >bbox_width</th>\n",
       "      <th id=\"T_5f206_level0_col2\" class=\"col_heading level0 col2\" >bbox_height</th>\n",
       "      <th id=\"T_5f206_level0_col3\" class=\"col_heading level0 col3\" >aspect_ratio</th>\n",
       "      <th id=\"T_5f206_level0_col4\" class=\"col_heading level0 col4\" >area_fraction</th>\n",
       "      <th id=\"T_5f206_level0_col5\" class=\"col_heading level0 col5\" >center_x_norm</th>\n",
       "      <th id=\"T_5f206_level0_col6\" class=\"col_heading level0 col6\" >center_y_norm</th>\n",
       "      <th id=\"T_5f206_level0_col7\" class=\"col_heading level0 col7\" >margin_top</th>\n",
       "      <th id=\"T_5f206_level0_col8\" class=\"col_heading level0 col8\" >preprocessed_plate</th>\n",
       "      <th id=\"T_5f206_level0_col9\" class=\"col_heading level0 col9\" >preprocessed_folder</th>\n",
       "      <th id=\"T_5f206_level0_col10\" class=\"col_heading level0 col10\" >is_blurry</th>\n",
       "      <th id=\"T_5f206_level0_col11\" class=\"col_heading level0 col11\" >blur_score</th>\n",
       "    </tr>\n",
       "  </thead>\n",
       "  <tbody>\n",
       "    <tr>\n",
       "      <th id=\"T_5f206_level0_row0\" class=\"row_heading level0 row0\" >0</th>\n",
       "      <td id=\"T_5f206_row0_col0\" class=\"data row0 col0\" >Cars339.png</td>\n",
       "      <td id=\"T_5f206_row0_col1\" class=\"data row0 col1\" >74</td>\n",
       "      <td id=\"T_5f206_row0_col2\" class=\"data row0 col2\" >34</td>\n",
       "      <td id=\"T_5f206_row0_col3\" class=\"data row0 col3\" >2.176471</td>\n",
       "      <td id=\"T_5f206_row0_col4\" class=\"data row0 col4\" >0.016773</td>\n",
       "      <td id=\"T_5f206_row0_col5\" class=\"data row0 col5\" >0.492000</td>\n",
       "      <td id=\"T_5f206_row0_col6\" class=\"data row0 col6\" >0.506667</td>\n",
       "      <td id=\"T_5f206_row0_col7\" class=\"data row0 col7\" >135</td>\n",
       "      <td id=\"T_5f206_row0_col8\" class=\"data row0 col8\" >plate_0000.png</td>\n",
       "      <td id=\"T_5f206_row0_col9\" class=\"data row0 col9\" >content/plates</td>\n",
       "      <td id=\"T_5f206_row0_col10\" class=\"data row0 col10\" >0</td>\n",
       "      <td id=\"T_5f206_row0_col11\" class=\"data row0 col11\" >2186.129483</td>\n",
       "    </tr>\n",
       "    <tr>\n",
       "      <th id=\"T_5f206_level0_row1\" class=\"row_heading level0 row1\" >1</th>\n",
       "      <td id=\"T_5f206_row1_col0\" class=\"data row1 col0\" >Cars423.png</td>\n",
       "      <td id=\"T_5f206_row1_col1\" class=\"data row1 col1\" >121</td>\n",
       "      <td id=\"T_5f206_row1_col2\" class=\"data row1 col2\" >24</td>\n",
       "      <td id=\"T_5f206_row1_col3\" class=\"data row1 col3\" >5.041667</td>\n",
       "      <td id=\"T_5f206_row1_col4\" class=\"data row1 col4\" >0.029040</td>\n",
       "      <td id=\"T_5f206_row1_col5\" class=\"data row1 col5\" >0.556250</td>\n",
       "      <td id=\"T_5f206_row1_col6\" class=\"data row1 col6\" >0.684000</td>\n",
       "      <td id=\"T_5f206_row1_col7\" class=\"data row1 col7\" >159</td>\n",
       "      <td id=\"T_5f206_row1_col8\" class=\"data row1 col8\" >plate_0001.png</td>\n",
       "      <td id=\"T_5f206_row1_col9\" class=\"data row1 col9\" >content/plates</td>\n",
       "      <td id=\"T_5f206_row1_col10\" class=\"data row1 col10\" >0</td>\n",
       "      <td id=\"T_5f206_row1_col11\" class=\"data row1 col11\" >488.840849</td>\n",
       "    </tr>\n",
       "    <tr>\n",
       "      <th id=\"T_5f206_level0_row2\" class=\"row_heading level0 row2\" >2</th>\n",
       "      <td id=\"T_5f206_row2_col0\" class=\"data row2 col0\" >Cars5.png</td>\n",
       "      <td id=\"T_5f206_row2_col1\" class=\"data row2 col1\" >16</td>\n",
       "      <td id=\"T_5f206_row2_col2\" class=\"data row2 col2\" >22</td>\n",
       "      <td id=\"T_5f206_row2_col3\" class=\"data row2 col3\" >0.727273</td>\n",
       "      <td id=\"T_5f206_row2_col4\" class=\"data row2 col4\" >0.002983</td>\n",
       "      <td id=\"T_5f206_row2_col5\" class=\"data row2 col5\" >0.585000</td>\n",
       "      <td id=\"T_5f206_row2_col6\" class=\"data row2 col6\" >0.776271</td>\n",
       "      <td id=\"T_5f206_row2_col7\" class=\"data row2 col7\" >218</td>\n",
       "      <td id=\"T_5f206_row2_col8\" class=\"data row2 col8\" >plate_0002.png</td>\n",
       "      <td id=\"T_5f206_row2_col9\" class=\"data row2 col9\" >content/plates</td>\n",
       "      <td id=\"T_5f206_row2_col10\" class=\"data row2 col10\" >0</td>\n",
       "      <td id=\"T_5f206_row2_col11\" class=\"data row2 col11\" >227.520734</td>\n",
       "    </tr>\n",
       "    <tr>\n",
       "      <th id=\"T_5f206_level0_row3\" class=\"row_heading level0 row3\" >3</th>\n",
       "      <td id=\"T_5f206_row3_col0\" class=\"data row3 col0\" >Cars369.png</td>\n",
       "      <td id=\"T_5f206_row3_col1\" class=\"data row3 col1\" >149</td>\n",
       "      <td id=\"T_5f206_row3_col2\" class=\"data row3 col2\" >27</td>\n",
       "      <td id=\"T_5f206_row3_col3\" class=\"data row3 col3\" >5.518519</td>\n",
       "      <td id=\"T_5f206_row3_col4\" class=\"data row3 col4\" >0.020115</td>\n",
       "      <td id=\"T_5f206_row3_col5\" class=\"data row3 col5\" >0.501000</td>\n",
       "      <td id=\"T_5f206_row3_col6\" class=\"data row3 col6\" >0.666250</td>\n",
       "      <td id=\"T_5f206_row3_col7\" class=\"data row3 col7\" >253</td>\n",
       "      <td id=\"T_5f206_row3_col8\" class=\"data row3 col8\" >plate_0003.png</td>\n",
       "      <td id=\"T_5f206_row3_col9\" class=\"data row3 col9\" >content/plates</td>\n",
       "      <td id=\"T_5f206_row3_col10\" class=\"data row3 col10\" >0</td>\n",
       "      <td id=\"T_5f206_row3_col11\" class=\"data row3 col11\" >20396.985285</td>\n",
       "    </tr>\n",
       "    <tr>\n",
       "      <th id=\"T_5f206_level0_row4\" class=\"row_heading level0 row4\" >4</th>\n",
       "      <td id=\"T_5f206_row4_col0\" class=\"data row4 col0\" >Cars119.png</td>\n",
       "      <td id=\"T_5f206_row4_col1\" class=\"data row4 col1\" >30</td>\n",
       "      <td id=\"T_5f206_row4_col2\" class=\"data row4 col2\" >13</td>\n",
       "      <td id=\"T_5f206_row4_col3\" class=\"data row4 col3\" >2.307692</td>\n",
       "      <td id=\"T_5f206_row4_col4\" class=\"data row4 col4\" >0.003947</td>\n",
       "      <td id=\"T_5f206_row4_col5\" class=\"data row4 col5\" >0.505000</td>\n",
       "      <td id=\"T_5f206_row4_col6\" class=\"data row4 col6\" >0.593117</td>\n",
       "      <td id=\"T_5f206_row4_col7\" class=\"data row4 col7\" >140</td>\n",
       "      <td id=\"T_5f206_row4_col8\" class=\"data row4 col8\" >plate_0004.png</td>\n",
       "      <td id=\"T_5f206_row4_col9\" class=\"data row4 col9\" >content/plates</td>\n",
       "      <td id=\"T_5f206_row4_col10\" class=\"data row4 col10\" >1</td>\n",
       "      <td id=\"T_5f206_row4_col11\" class=\"data row4 col11\" >56.366645</td>\n",
       "    </tr>\n",
       "  </tbody>\n",
       "</table>\n"
      ],
      "text/plain": [
       "<pandas.io.formats.style.Styler at 0x7f5fde0b6150>"
      ]
     },
     "metadata": {},
     "output_type": "display_data"
    }
   ],
   "source": [
    "from IPython.display import display, Markdown\n",
    "\n",
    "display(Markdown(\"### 📁 Sample: Plate Annotations\"))\n",
    "display(df_annotations.style.set_table_attributes('style=\"display:inline\"').set_caption(\"Raw Bounding Box Info\"))\n",
    "\n",
    "display(Markdown(\"### 🧠 Sample: Engineered Plate Features\"))\n",
    "display(df_features.style.set_table_attributes('style=\"display:inline\"').set_caption(\"Computed Features (Top 5 rows)\"))\n"
   ]
  },
  {
   "cell_type": "markdown",
   "metadata": {},
   "source": [
    "<a id='phase3'></a>\n",
    "## **Phase 3 - Final Conclusions and Model Development**"
   ]
  }
 ],
 "metadata": {
  "kernelspec": {
   "display_name": "Python 3",
   "language": "python",
   "name": "python3"
  },
  "language_info": {
   "codemirror_mode": {
    "name": "ipython",
    "version": 3
   },
   "file_extension": ".py",
   "mimetype": "text/x-python",
   "name": "python",
   "nbconvert_exporter": "python",
   "pygments_lexer": "ipython3",
   "version": "3.12.3"
  },
  "orig_nbformat": 4
 },
 "nbformat": 4,
 "nbformat_minor": 2
}
