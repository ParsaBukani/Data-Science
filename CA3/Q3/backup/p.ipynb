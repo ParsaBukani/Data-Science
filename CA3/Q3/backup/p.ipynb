{
 "cells": [
  {
   "cell_type": "markdown",
   "metadata": {},
   "source": [
    "# ***<span style=\"color: #f3ce13;\">Feature Engineering</span>***"
   ]
  },
  {
   "cell_type": "code",
   "execution_count": null,
   "metadata": {},
   "outputs": [],
   "source": [
    "# train_set = pd.read_csv(\"content/q3_dataset/train_set.csv\")\n",
    "# test_set = pd.read_csv(\"content/q3_dataset/test_set.csv\")"
   ]
  },
  {
   "cell_type": "code",
   "execution_count": null,
   "metadata": {},
   "outputs": [],
   "source": [
    "# from sklearn.preprocessing import OrdinalEncoder\n",
    "\n",
    "# def add_features(df: pd.DataFrame, trust_df: pd.DataFrame, train_reference: pd.DataFrame) -> pd.DataFrame:\n",
    "#     # Basic aggregates\n",
    "#     user_avg_rating = train_reference.groupby(\"user_id\")[\"rate\"].mean().rename(\"user_avg_rating\")\n",
    "#     user_rating_count = train_reference.groupby(\"user_id\").size().rename(\"user_rating_count\")\n",
    "#     item_avg_rating = train_reference.groupby(\"item_id\")[\"rate\"].mean().rename(\"item_avg_rating\")\n",
    "#     item_rating_count = train_reference.groupby(\"item_id\").size().rename(\"item_rating_count\")\n",
    "\n",
    "#     df = df.merge(user_avg_rating, on=\"user_id\", how=\"left\") \\\n",
    "#            .merge(user_rating_count, on=\"user_id\", how=\"left\") \\\n",
    "#            .merge(item_avg_rating, on=\"item_id\", how=\"left\") \\\n",
    "#            .merge(item_rating_count, on=\"item_id\", how=\"left\")\n",
    "\n",
    "#     # Trust-based average rating of trusted users\n",
    "#     trustee_avg_rating = trust_df.merge(\n",
    "#         train_reference[[\"user_id\", \"rate\"]],\n",
    "#         left_on=\"user_id_trustee\", right_on=\"user_id\", how=\"left\"\n",
    "#     ).groupby(\"user_id_x\")[\"rate\"].mean().rename(\"trusted_avg_rating\")\n",
    "\n",
    "#     df = df.merge(trustee_avg_rating, left_on=\"user_id\", right_index=True, how=\"left\")\n",
    "#     df[\"trusted_avg_rating\"] = df[\"trusted_avg_rating\"].fillna(df[\"user_avg_rating\"])\n",
    "\n",
    "#     # Trust ratio\n",
    "#     df[\"trust_ratio\"] = df[\"num_trusted\"] / df[\"user_rating_count\"]\n",
    "#     df[\"trust_ratio\"] = df[\"trust_ratio\"].fillna(0)\n",
    "\n",
    "#     # Deviation features\n",
    "#     df[\"user_item_dev\"] = df[\"rate\"] - df[\"item_avg_rating\"]\n",
    "#     df[\"item_user_dev\"] = df[\"rate\"] - df[\"user_avg_rating\"]\n",
    "\n",
    "#     # Interaction features\n",
    "#     df[\"user_item_interaction\"] = df[\"user_avg_rating\"] * df[\"item_avg_rating\"]\n",
    "\n",
    "#     # Encode trustee ID\n",
    "#     encoder = OrdinalEncoder(handle_unknown='use_encoded_value', unknown_value=-1)\n",
    "#     df[\"user_id_trustee_enc\"] = encoder.fit_transform(df[[\"user_id_trustee\"]])\n",
    "\n",
    "#     return df"
   ]
  },
  {
   "cell_type": "code",
   "execution_count": null,
   "metadata": {},
   "outputs": [],
   "source": [
    "# train_set = add_features(train_set, trust_dataset, train_set)\n",
    "# test_set = add_features(test_set, trust_dataset, train_set)\n",
    "\n",
    "# display(Markdown(\"### 🎥 Sample: DataFrame\"))\n",
    "# display(train_set[train_set[\"user_id\"] == 5].head().style.set_table_attributes('style=\"display:inline\"'))\n"
   ]
  }
 ],
 "metadata": {
  "language_info": {
   "name": "python"
  }
 },
 "nbformat": 4,
 "nbformat_minor": 2
}
