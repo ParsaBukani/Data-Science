{
 "cells": [
  {
   "cell_type": "markdown",
   "metadata": {},
   "source": [
    "**<span style=\"color: gray;\">In The Name of God</span>**\n",
    "\n",
    "---\n",
    "\n",
    "Erfan Falahati\n",
    "\n",
    "SID: 810102491\n"
   ]
  },
  {
   "cell_type": "code",
   "execution_count": 320,
   "metadata": {},
   "outputs": [],
   "source": [
    "import pandas as pd\n",
    "import matplotlib.pyplot as plt\n",
    "plt.style.use('seaborn-v0_8')\n",
    "\n",
    "RATING_DATASET_PATH = 'content/q3_dataset/train_data_movie_rate.csv'\n",
    "TRUST_DATASET_PATH = 'content/q3_dataset/train_data_movie_trust.csv'\n",
    "\n",
    "\n",
    "rating_dataset = pd.read_csv(RATING_DATASET_PATH)\n",
    "trust_dataset = pd.read_csv(TRUST_DATASET_PATH)"
   ]
  },
  {
   "cell_type": "markdown",
   "metadata": {},
   "source": [
    "# ***<span style=\"color: #f3ce13;\">Data Exploration</span>***"
   ]
  },
  {
   "cell_type": "markdown",
   "metadata": {},
   "source": [
    "## ***<span style=\"color: #C0C0C0;\">🎞  Movie Rating Data Exploration</span>***"
   ]
  },
  {
   "cell_type": "code",
   "execution_count": 321,
   "metadata": {},
   "outputs": [
    {
     "data": {
      "text/html": [
       "<style type=\"text/css\">\n",
       "</style>\n",
       "<table id=\"T_d5521\" style=\"display:inline\">\n",
       "  <thead>\n",
       "    <tr>\n",
       "      <th class=\"blank level0\" >&nbsp;</th>\n",
       "      <th id=\"T_d5521_level0_col0\" class=\"col_heading level0 col0\" >id</th>\n",
       "      <th id=\"T_d5521_level0_col1\" class=\"col_heading level0 col1\" >user_id</th>\n",
       "      <th id=\"T_d5521_level0_col2\" class=\"col_heading level0 col2\" >item_id</th>\n",
       "      <th id=\"T_d5521_level0_col3\" class=\"col_heading level0 col3\" >label</th>\n",
       "    </tr>\n",
       "  </thead>\n",
       "  <tbody>\n",
       "    <tr>\n",
       "      <th id=\"T_d5521_level0_row0\" class=\"row_heading level0 row0\" >0</th>\n",
       "      <td id=\"T_d5521_row0_col0\" class=\"data row0 col0\" >1</td>\n",
       "      <td id=\"T_d5521_row0_col1\" class=\"data row0 col1\" >1</td>\n",
       "      <td id=\"T_d5521_row0_col2\" class=\"data row0 col2\" >1</td>\n",
       "      <td id=\"T_d5521_row0_col3\" class=\"data row0 col3\" >2.000000</td>\n",
       "    </tr>\n",
       "    <tr>\n",
       "      <th id=\"T_d5521_level0_row1\" class=\"row_heading level0 row1\" >1</th>\n",
       "      <td id=\"T_d5521_row1_col0\" class=\"data row1 col0\" >2</td>\n",
       "      <td id=\"T_d5521_row1_col1\" class=\"data row1 col1\" >1</td>\n",
       "      <td id=\"T_d5521_row1_col2\" class=\"data row1 col2\" >2</td>\n",
       "      <td id=\"T_d5521_row1_col3\" class=\"data row1 col3\" >4.000000</td>\n",
       "    </tr>\n",
       "    <tr>\n",
       "      <th id=\"T_d5521_level0_row2\" class=\"row_heading level0 row2\" >2</th>\n",
       "      <td id=\"T_d5521_row2_col0\" class=\"data row2 col0\" >3</td>\n",
       "      <td id=\"T_d5521_row2_col1\" class=\"data row2 col1\" >1</td>\n",
       "      <td id=\"T_d5521_row2_col2\" class=\"data row2 col2\" >3</td>\n",
       "      <td id=\"T_d5521_row2_col3\" class=\"data row2 col3\" >3.500000</td>\n",
       "    </tr>\n",
       "    <tr>\n",
       "      <th id=\"T_d5521_level0_row3\" class=\"row_heading level0 row3\" >3</th>\n",
       "      <td id=\"T_d5521_row3_col0\" class=\"data row3 col0\" >4</td>\n",
       "      <td id=\"T_d5521_row3_col1\" class=\"data row3 col1\" >1</td>\n",
       "      <td id=\"T_d5521_row3_col2\" class=\"data row3 col2\" >4</td>\n",
       "      <td id=\"T_d5521_row3_col3\" class=\"data row3 col3\" >3.000000</td>\n",
       "    </tr>\n",
       "    <tr>\n",
       "      <th id=\"T_d5521_level0_row4\" class=\"row_heading level0 row4\" >4</th>\n",
       "      <td id=\"T_d5521_row4_col0\" class=\"data row4 col0\" >5</td>\n",
       "      <td id=\"T_d5521_row4_col1\" class=\"data row4 col1\" >1</td>\n",
       "      <td id=\"T_d5521_row4_col2\" class=\"data row4 col2\" >5</td>\n",
       "      <td id=\"T_d5521_row4_col3\" class=\"data row4 col3\" >4.000000</td>\n",
       "    </tr>\n",
       "  </tbody>\n",
       "</table>\n"
      ],
      "text/plain": [
       "<pandas.io.formats.style.Styler at 0x7c71cb2046e0>"
      ]
     },
     "metadata": {},
     "output_type": "display_data"
    }
   ],
   "source": [
    "from IPython.display import display, Markdown\n",
    "\n",
    "display(rating_dataset.head().style.set_table_attributes('style=\"display:inline\"'))"
   ]
  },
  {
   "cell_type": "markdown",
   "metadata": {},
   "source": [
    "### ***<span style=\"color: #0080FF;\">Data Description</span>***"
   ]
  },
  {
   "cell_type": "code",
   "execution_count": 322,
   "metadata": {},
   "outputs": [
    {
     "data": {
      "text/html": [
       "<style type=\"text/css\">\n",
       "</style>\n",
       "<table id=\"T_2e01e\" style=\"display:inline\">\n",
       "  <thead>\n",
       "    <tr>\n",
       "      <th class=\"blank level0\" >&nbsp;</th>\n",
       "      <th id=\"T_2e01e_level0_col0\" class=\"col_heading level0 col0\" >id</th>\n",
       "      <th id=\"T_2e01e_level0_col1\" class=\"col_heading level0 col1\" >user_id</th>\n",
       "      <th id=\"T_2e01e_level0_col2\" class=\"col_heading level0 col2\" >item_id</th>\n",
       "      <th id=\"T_2e01e_level0_col3\" class=\"col_heading level0 col3\" >label</th>\n",
       "    </tr>\n",
       "  </thead>\n",
       "  <tbody>\n",
       "    <tr>\n",
       "      <th id=\"T_2e01e_level0_row0\" class=\"row_heading level0 row0\" >count</th>\n",
       "      <td id=\"T_2e01e_row0_col0\" class=\"data row0 col0\" >34298.000000</td>\n",
       "      <td id=\"T_2e01e_row0_col1\" class=\"data row0 col1\" >34298.000000</td>\n",
       "      <td id=\"T_2e01e_row0_col2\" class=\"data row0 col2\" >34298.000000</td>\n",
       "      <td id=\"T_2e01e_row0_col3\" class=\"data row0 col3\" >34298.000000</td>\n",
       "    </tr>\n",
       "    <tr>\n",
       "      <th id=\"T_2e01e_level0_row1\" class=\"row_heading level0 row1\" >mean</th>\n",
       "      <td id=\"T_2e01e_row1_col0\" class=\"data row1 col0\" >17149.500000</td>\n",
       "      <td id=\"T_2e01e_row1_col1\" class=\"data row1 col1\" >764.002303</td>\n",
       "      <td id=\"T_2e01e_row1_col2\" class=\"data row1 col2\" >266.193452</td>\n",
       "      <td id=\"T_2e01e_row1_col3\" class=\"data row1 col3\" >3.006298</td>\n",
       "    </tr>\n",
       "    <tr>\n",
       "      <th id=\"T_2e01e_level0_row2\" class=\"row_heading level0 row2\" >std</th>\n",
       "      <td id=\"T_2e01e_row2_col0\" class=\"data row2 col0\" >9901.124103</td>\n",
       "      <td id=\"T_2e01e_row2_col1\" class=\"data row2 col1\" >427.022738</td>\n",
       "      <td id=\"T_2e01e_row2_col2\" class=\"data row2 col2\" >349.849377</td>\n",
       "      <td id=\"T_2e01e_row2_col3\" class=\"data row2 col3\" >0.915706</td>\n",
       "    </tr>\n",
       "    <tr>\n",
       "      <th id=\"T_2e01e_level0_row3\" class=\"row_heading level0 row3\" >min</th>\n",
       "      <td id=\"T_2e01e_row3_col0\" class=\"data row3 col0\" >1.000000</td>\n",
       "      <td id=\"T_2e01e_row3_col1\" class=\"data row3 col1\" >1.000000</td>\n",
       "      <td id=\"T_2e01e_row3_col2\" class=\"data row3 col2\" >1.000000</td>\n",
       "      <td id=\"T_2e01e_row3_col3\" class=\"data row3 col3\" >0.500000</td>\n",
       "    </tr>\n",
       "    <tr>\n",
       "      <th id=\"T_2e01e_level0_row4\" class=\"row_heading level0 row4\" >25%</th>\n",
       "      <td id=\"T_2e01e_row4_col0\" class=\"data row4 col0\" >8575.250000</td>\n",
       "      <td id=\"T_2e01e_row4_col1\" class=\"data row4 col1\" >398.000000</td>\n",
       "      <td id=\"T_2e01e_row4_col2\" class=\"data row4 col2\" >12.000000</td>\n",
       "      <td id=\"T_2e01e_row4_col3\" class=\"data row4 col3\" >2.500000</td>\n",
       "    </tr>\n",
       "    <tr>\n",
       "      <th id=\"T_2e01e_level0_row5\" class=\"row_heading level0 row5\" >50%</th>\n",
       "      <td id=\"T_2e01e_row5_col0\" class=\"data row5 col0\" >17149.500000</td>\n",
       "      <td id=\"T_2e01e_row5_col1\" class=\"data row5 col1\" >761.000000</td>\n",
       "      <td id=\"T_2e01e_row5_col2\" class=\"data row5 col2\" >216.000000</td>\n",
       "      <td id=\"T_2e01e_row5_col3\" class=\"data row5 col3\" >3.000000</td>\n",
       "    </tr>\n",
       "    <tr>\n",
       "      <th id=\"T_2e01e_level0_row6\" class=\"row_heading level0 row6\" >75%</th>\n",
       "      <td id=\"T_2e01e_row6_col0\" class=\"data row6 col0\" >25723.750000</td>\n",
       "      <td id=\"T_2e01e_row6_col1\" class=\"data row6 col1\" >1142.000000</td>\n",
       "      <td id=\"T_2e01e_row6_col2\" class=\"data row6 col2\" >251.000000</td>\n",
       "      <td id=\"T_2e01e_row6_col3\" class=\"data row6 col3\" >4.000000</td>\n",
       "    </tr>\n",
       "    <tr>\n",
       "      <th id=\"T_2e01e_level0_row7\" class=\"row_heading level0 row7\" >max</th>\n",
       "      <td id=\"T_2e01e_row7_col0\" class=\"data row7 col0\" >34298.000000</td>\n",
       "      <td id=\"T_2e01e_row7_col1\" class=\"data row7 col1\" >1508.000000</td>\n",
       "      <td id=\"T_2e01e_row7_col2\" class=\"data row7 col2\" >2071.000000</td>\n",
       "      <td id=\"T_2e01e_row7_col3\" class=\"data row7 col3\" >4.000000</td>\n",
       "    </tr>\n",
       "  </tbody>\n",
       "</table>\n"
      ],
      "text/plain": [
       "<pandas.io.formats.style.Styler at 0x7c71cc816660>"
      ]
     },
     "metadata": {},
     "output_type": "display_data"
    }
   ],
   "source": [
    "display(rating_dataset.describe().style.set_table_attributes('style=\"display:inline\"'))"
   ]
  },
  {
   "cell_type": "markdown",
   "metadata": {},
   "source": [
    "### ***<span style=\"color: #0080FF;\">Check For The NULL Values</span>***"
   ]
  },
  {
   "cell_type": "code",
   "execution_count": 323,
   "metadata": {},
   "outputs": [
    {
     "data": {
      "text/plain": [
       "id         0\n",
       "user_id    0\n",
       "item_id    0\n",
       "label      0\n",
       "dtype: int64"
      ]
     },
     "metadata": {},
     "output_type": "display_data"
    }
   ],
   "source": [
    "display(rating_dataset.isnull().sum())"
   ]
  },
  {
   "cell_type": "code",
   "execution_count": 324,
   "metadata": {},
   "outputs": [
    {
     "data": {
      "text/plain": [
       "<Axes: >"
      ]
     },
     "execution_count": 324,
     "metadata": {},
     "output_type": "execute_result"
    },
    {
     "data": {
      "image/png": "[encoded data removed]",
      "text/plain": [
       "<Figure size 1000x600 with 1 Axes>"
      ]
     },
     "metadata": {},
     "output_type": "display_data"
    }
   ],
   "source": [
    "rating_dataset['label'].hist(bins=50, figsize=(10,6), color='coral')"
   ]
  },
  {
   "cell_type": "markdown",
   "metadata": {},
   "source": [
    "## ***<span style=\"color: #C0C0C0;\">🌐 User Trust Data Exploration</span>***"
   ]
  },
  {
   "cell_type": "code",
   "execution_count": 325,
   "metadata": {},
   "outputs": [
    {
     "data": {
      "text/html": [
       "<style type=\"text/css\">\n",
       "</style>\n",
       "<table id=\"T_10bdc\" style=\"display:inline\">\n",
       "  <thead>\n",
       "    <tr>\n",
       "      <th class=\"blank level0\" >&nbsp;</th>\n",
       "      <th id=\"T_10bdc_level0_col0\" class=\"col_heading level0 col0\" >id</th>\n",
       "      <th id=\"T_10bdc_level0_col1\" class=\"col_heading level0 col1\" >user_id_trustor</th>\n",
       "      <th id=\"T_10bdc_level0_col2\" class=\"col_heading level0 col2\" >user_id_trustee</th>\n",
       "      <th id=\"T_10bdc_level0_col3\" class=\"col_heading level0 col3\" >trust_value</th>\n",
       "    </tr>\n",
       "  </thead>\n",
       "  <tbody>\n",
       "    <tr>\n",
       "      <th id=\"T_10bdc_level0_row0\" class=\"row_heading level0 row0\" >0</th>\n",
       "      <td id=\"T_10bdc_row0_col0\" class=\"data row0 col0\" >1</td>\n",
       "      <td id=\"T_10bdc_row0_col1\" class=\"data row0 col1\" >2</td>\n",
       "      <td id=\"T_10bdc_row0_col2\" class=\"data row0 col2\" >966</td>\n",
       "      <td id=\"T_10bdc_row0_col3\" class=\"data row0 col3\" >1</td>\n",
       "    </tr>\n",
       "    <tr>\n",
       "      <th id=\"T_10bdc_level0_row1\" class=\"row_heading level0 row1\" >1</th>\n",
       "      <td id=\"T_10bdc_row1_col0\" class=\"data row1 col0\" >2</td>\n",
       "      <td id=\"T_10bdc_row1_col1\" class=\"data row1 col1\" >2</td>\n",
       "      <td id=\"T_10bdc_row1_col2\" class=\"data row1 col2\" >104</td>\n",
       "      <td id=\"T_10bdc_row1_col3\" class=\"data row1 col3\" >1</td>\n",
       "    </tr>\n",
       "    <tr>\n",
       "      <th id=\"T_10bdc_level0_row2\" class=\"row_heading level0 row2\" >2</th>\n",
       "      <td id=\"T_10bdc_row2_col0\" class=\"data row2 col0\" >3</td>\n",
       "      <td id=\"T_10bdc_row2_col1\" class=\"data row2 col1\" >5</td>\n",
       "      <td id=\"T_10bdc_row2_col2\" class=\"data row2 col2\" >1509</td>\n",
       "      <td id=\"T_10bdc_row2_col3\" class=\"data row2 col3\" >1</td>\n",
       "    </tr>\n",
       "    <tr>\n",
       "      <th id=\"T_10bdc_level0_row3\" class=\"row_heading level0 row3\" >3</th>\n",
       "      <td id=\"T_10bdc_row3_col0\" class=\"data row3 col0\" >4</td>\n",
       "      <td id=\"T_10bdc_row3_col1\" class=\"data row3 col1\" >6</td>\n",
       "      <td id=\"T_10bdc_row3_col2\" class=\"data row3 col2\" >1192</td>\n",
       "      <td id=\"T_10bdc_row3_col3\" class=\"data row3 col3\" >1</td>\n",
       "    </tr>\n",
       "    <tr>\n",
       "      <th id=\"T_10bdc_level0_row4\" class=\"row_heading level0 row4\" >4</th>\n",
       "      <td id=\"T_10bdc_row4_col0\" class=\"data row4 col0\" >5</td>\n",
       "      <td id=\"T_10bdc_row4_col1\" class=\"data row4 col1\" >7</td>\n",
       "      <td id=\"T_10bdc_row4_col2\" class=\"data row4 col2\" >1510</td>\n",
       "      <td id=\"T_10bdc_row4_col3\" class=\"data row4 col3\" >1</td>\n",
       "    </tr>\n",
       "    <tr>\n",
       "      <th id=\"T_10bdc_level0_row5\" class=\"row_heading level0 row5\" >5</th>\n",
       "      <td id=\"T_10bdc_row5_col0\" class=\"data row5 col0\" >6</td>\n",
       "      <td id=\"T_10bdc_row5_col1\" class=\"data row5 col1\" >12</td>\n",
       "      <td id=\"T_10bdc_row5_col2\" class=\"data row5 col2\" >234</td>\n",
       "      <td id=\"T_10bdc_row5_col3\" class=\"data row5 col3\" >1</td>\n",
       "    </tr>\n",
       "    <tr>\n",
       "      <th id=\"T_10bdc_level0_row6\" class=\"row_heading level0 row6\" >6</th>\n",
       "      <td id=\"T_10bdc_row6_col0\" class=\"data row6 col0\" >7</td>\n",
       "      <td id=\"T_10bdc_row6_col1\" class=\"data row6 col1\" >15</td>\n",
       "      <td id=\"T_10bdc_row6_col2\" class=\"data row6 col2\" >652</td>\n",
       "      <td id=\"T_10bdc_row6_col3\" class=\"data row6 col3\" >1</td>\n",
       "    </tr>\n",
       "    <tr>\n",
       "      <th id=\"T_10bdc_level0_row7\" class=\"row_heading level0 row7\" >7</th>\n",
       "      <td id=\"T_10bdc_row7_col0\" class=\"data row7 col0\" >8</td>\n",
       "      <td id=\"T_10bdc_row7_col1\" class=\"data row7 col1\" >15</td>\n",
       "      <td id=\"T_10bdc_row7_col2\" class=\"data row7 col2\" >883</td>\n",
       "      <td id=\"T_10bdc_row7_col3\" class=\"data row7 col3\" >1</td>\n",
       "    </tr>\n",
       "    <tr>\n",
       "      <th id=\"T_10bdc_level0_row8\" class=\"row_heading level0 row8\" >8</th>\n",
       "      <td id=\"T_10bdc_row8_col0\" class=\"data row8 col0\" >9</td>\n",
       "      <td id=\"T_10bdc_row8_col1\" class=\"data row8 col1\" >15</td>\n",
       "      <td id=\"T_10bdc_row8_col2\" class=\"data row8 col2\" >1511</td>\n",
       "      <td id=\"T_10bdc_row8_col3\" class=\"data row8 col3\" >1</td>\n",
       "    </tr>\n",
       "    <tr>\n",
       "      <th id=\"T_10bdc_level0_row9\" class=\"row_heading level0 row9\" >9</th>\n",
       "      <td id=\"T_10bdc_row9_col0\" class=\"data row9 col0\" >10</td>\n",
       "      <td id=\"T_10bdc_row9_col1\" class=\"data row9 col1\" >15</td>\n",
       "      <td id=\"T_10bdc_row9_col2\" class=\"data row9 col2\" >1512</td>\n",
       "      <td id=\"T_10bdc_row9_col3\" class=\"data row9 col3\" >1</td>\n",
       "    </tr>\n",
       "  </tbody>\n",
       "</table>\n"
      ],
      "text/plain": [
       "<pandas.io.formats.style.Styler at 0x7c71cc207d70>"
      ]
     },
     "metadata": {},
     "output_type": "display_data"
    }
   ],
   "source": [
    "display(trust_dataset.head(10).style.set_table_attributes('style=\"display:inline\"'))"
   ]
  },
  {
   "cell_type": "markdown",
   "metadata": {},
   "source": [
    "### ***<span style=\"color: #0080FF;\">Data Description</span>***"
   ]
  },
  {
   "cell_type": "code",
   "execution_count": 326,
   "metadata": {},
   "outputs": [
    {
     "data": {
      "text/html": [
       "<style type=\"text/css\">\n",
       "</style>\n",
       "<table id=\"T_90a9e\" style=\"display:inline\">\n",
       "  <thead>\n",
       "    <tr>\n",
       "      <th class=\"blank level0\" >&nbsp;</th>\n",
       "      <th id=\"T_90a9e_level0_col0\" class=\"col_heading level0 col0\" >id</th>\n",
       "      <th id=\"T_90a9e_level0_col1\" class=\"col_heading level0 col1\" >user_id_trustor</th>\n",
       "      <th id=\"T_90a9e_level0_col2\" class=\"col_heading level0 col2\" >user_id_trustee</th>\n",
       "      <th id=\"T_90a9e_level0_col3\" class=\"col_heading level0 col3\" >trust_value</th>\n",
       "    </tr>\n",
       "  </thead>\n",
       "  <tbody>\n",
       "    <tr>\n",
       "      <th id=\"T_90a9e_level0_row0\" class=\"row_heading level0 row0\" >count</th>\n",
       "      <td id=\"T_90a9e_row0_col0\" class=\"data row0 col0\" >1853.000000</td>\n",
       "      <td id=\"T_90a9e_row0_col1\" class=\"data row0 col1\" >1853.000000</td>\n",
       "      <td id=\"T_90a9e_row0_col2\" class=\"data row0 col2\" >1853.000000</td>\n",
       "      <td id=\"T_90a9e_row0_col3\" class=\"data row0 col3\" >1853.000000</td>\n",
       "    </tr>\n",
       "    <tr>\n",
       "      <th id=\"T_90a9e_level0_row1\" class=\"row_heading level0 row1\" >mean</th>\n",
       "      <td id=\"T_90a9e_row1_col0\" class=\"data row1 col0\" >927.000000</td>\n",
       "      <td id=\"T_90a9e_row1_col1\" class=\"data row1 col1\" >775.437669</td>\n",
       "      <td id=\"T_90a9e_row1_col2\" class=\"data row1 col2\" >782.192121</td>\n",
       "      <td id=\"T_90a9e_row1_col3\" class=\"data row1 col3\" >1.000000</td>\n",
       "    </tr>\n",
       "    <tr>\n",
       "      <th id=\"T_90a9e_level0_row2\" class=\"row_heading level0 row2\" >std</th>\n",
       "      <td id=\"T_90a9e_row2_col0\" class=\"data row2 col0\" >535.059343</td>\n",
       "      <td id=\"T_90a9e_row2_col1\" class=\"data row2 col1\" >447.736536</td>\n",
       "      <td id=\"T_90a9e_row2_col2\" class=\"data row2 col2\" >471.614626</td>\n",
       "      <td id=\"T_90a9e_row2_col3\" class=\"data row2 col3\" >0.000000</td>\n",
       "    </tr>\n",
       "    <tr>\n",
       "      <th id=\"T_90a9e_level0_row3\" class=\"row_heading level0 row3\" >min</th>\n",
       "      <td id=\"T_90a9e_row3_col0\" class=\"data row3 col0\" >1.000000</td>\n",
       "      <td id=\"T_90a9e_row3_col1\" class=\"data row3 col1\" >2.000000</td>\n",
       "      <td id=\"T_90a9e_row3_col2\" class=\"data row3 col2\" >2.000000</td>\n",
       "      <td id=\"T_90a9e_row3_col3\" class=\"data row3 col3\" >1.000000</td>\n",
       "    </tr>\n",
       "    <tr>\n",
       "      <th id=\"T_90a9e_level0_row4\" class=\"row_heading level0 row4\" >25%</th>\n",
       "      <td id=\"T_90a9e_row4_col0\" class=\"data row4 col0\" >464.000000</td>\n",
       "      <td id=\"T_90a9e_row4_col1\" class=\"data row4 col1\" >410.000000</td>\n",
       "      <td id=\"T_90a9e_row4_col2\" class=\"data row4 col2\" >395.000000</td>\n",
       "      <td id=\"T_90a9e_row4_col3\" class=\"data row4 col3\" >1.000000</td>\n",
       "    </tr>\n",
       "    <tr>\n",
       "      <th id=\"T_90a9e_level0_row5\" class=\"row_heading level0 row5\" >50%</th>\n",
       "      <td id=\"T_90a9e_row5_col0\" class=\"data row5 col0\" >927.000000</td>\n",
       "      <td id=\"T_90a9e_row5_col1\" class=\"data row5 col1\" >752.000000</td>\n",
       "      <td id=\"T_90a9e_row5_col2\" class=\"data row5 col2\" >716.000000</td>\n",
       "      <td id=\"T_90a9e_row5_col3\" class=\"data row5 col3\" >1.000000</td>\n",
       "    </tr>\n",
       "    <tr>\n",
       "      <th id=\"T_90a9e_level0_row6\" class=\"row_heading level0 row6\" >75%</th>\n",
       "      <td id=\"T_90a9e_row6_col0\" class=\"data row6 col0\" >1390.000000</td>\n",
       "      <td id=\"T_90a9e_row6_col1\" class=\"data row6 col1\" >1160.000000</td>\n",
       "      <td id=\"T_90a9e_row6_col2\" class=\"data row6 col2\" >1187.000000</td>\n",
       "      <td id=\"T_90a9e_row6_col3\" class=\"data row6 col3\" >1.000000</td>\n",
       "    </tr>\n",
       "    <tr>\n",
       "      <th id=\"T_90a9e_level0_row7\" class=\"row_heading level0 row7\" >max</th>\n",
       "      <td id=\"T_90a9e_row7_col0\" class=\"data row7 col0\" >1853.000000</td>\n",
       "      <td id=\"T_90a9e_row7_col1\" class=\"data row7 col1\" >1641.000000</td>\n",
       "      <td id=\"T_90a9e_row7_col2\" class=\"data row7 col2\" >1642.000000</td>\n",
       "      <td id=\"T_90a9e_row7_col3\" class=\"data row7 col3\" >1.000000</td>\n",
       "    </tr>\n",
       "  </tbody>\n",
       "</table>\n"
      ],
      "text/plain": [
       "<pandas.io.formats.style.Styler at 0x7c71cd066660>"
      ]
     },
     "metadata": {},
     "output_type": "display_data"
    }
   ],
   "source": [
    "display(trust_dataset.describe().style.set_table_attributes('style=\"display:inline\"'))"
   ]
  },
  {
   "cell_type": "markdown",
   "metadata": {},
   "source": [
    "### ***<span style=\"color: #0080FF;\">Check Fo The NULL Values</span>***"
   ]
  },
  {
   "cell_type": "code",
   "execution_count": 327,
   "metadata": {},
   "outputs": [
    {
     "data": {
      "text/plain": [
       "id                 0\n",
       "user_id_trustor    0\n",
       "user_id_trustee    0\n",
       "trust_value        0\n",
       "dtype: int64"
      ]
     },
     "metadata": {},
     "output_type": "display_data"
    }
   ],
   "source": [
    "display(trust_dataset.isnull().sum())"
   ]
  },
  {
   "cell_type": "code",
   "execution_count": 328,
   "metadata": {},
   "outputs": [
    {
     "data": {
      "image/png": "[encoded data removed]",
      "text/plain": [
       "<Figure size 800x550 with 1 Axes>"
      ]
     },
     "metadata": {},
     "output_type": "display_data"
    }
   ],
   "source": [
    "trustor_counts = trust_dataset.groupby(\"user_id_trustor\").size()\n",
    "trustee_counts = trust_dataset.groupby(\"user_id_trustee\").size()\n",
    "\n",
    "user_trust_counts = pd.DataFrame({\n",
    "    \"trusts_others\": trustor_counts,\n",
    "    \"trusted_by_others\": trustee_counts\n",
    "}).fillna(0)  \n",
    "\n",
    "plt.scatter(user_trust_counts[\"trusts_others\"], user_trust_counts[\"trusted_by_others\"], color='coral')\n",
    "plt.xlabel(\"Number of Users Trusted (Trustor Count)\")\n",
    "plt.ylabel(\"Number of Users Trusting (Trustee Count)\")\n",
    "plt.title(\"Trustor vs Trustee Counts per User\")\n",
    "plt.grid(True)\n",
    "plt.show()\n"
   ]
  },
  {
   "cell_type": "code",
   "execution_count": 329,
   "metadata": {},
   "outputs": [
    {
     "data": {
      "image/png": "[encoded data removed]",
      "text/plain": [
       "<Figure size 800x550 with 1 Axes>"
      ]
     },
     "metadata": {},
     "output_type": "display_data"
    }
   ],
   "source": [
    "import matplotlib.pyplot as plt\n",
    "\n",
    "trusts_per_trustor = trust_dataset.groupby(\"user_id_trustor\").size()\n",
    "\n",
    "plt.hist(trusts_per_trustor, bins=30, edgecolor='black', color='#345a00')\n",
    "plt.xlabel(\"Number of Trustees per Trustor\")\n",
    "plt.ylabel(\"Number of Trustors\")\n",
    "plt.title(\"Distribution of Trustees per Trustor\")\n",
    "plt.grid(True)\n",
    "plt.show()\n"
   ]
  },
  {
   "cell_type": "markdown",
   "metadata": {},
   "source": [
    "# ***<span style=\"color: #f3ce13;\">Preprocess</span>***\n",
    "\n",
    "\n"
   ]
  },
  {
   "cell_type": "markdown",
   "metadata": {},
   "source": [
    "## ***<span style=\"color: #0080FF;\">It has been done in the [core.py](core.py) file.</span>***"
   ]
  },
  {
   "cell_type": "markdown",
   "metadata": {},
   "source": [
    "# ***<span style=\"color: #f3ce13;\">Model</span>***"
   ]
  },
  {
   "cell_type": "code",
   "execution_count": 330,
   "metadata": {},
   "outputs": [],
   "source": [
    "RATING_DATA_PATH = 'content/q3_dataset/train_data_movie_rate.csv'\n",
    "TRUST_DATA_PATH = 'content/q3_dataset/train_data_movie_trust.csv'\n",
    "TEST_DATA_PATH = 'content/q3_dataset/test_data.csv'\n",
    "MODEL_CONFIG_PATH = 'content/q3_dataset/config.json'\n",
    "SUBMISSION_PATH = 'content/q3_dataset/submission.csv'\n",
    "\n",
    "epoch_count = 12"
   ]
  },
  {
   "cell_type": "markdown",
   "metadata": {},
   "source": [
    "## ***<span style=\"color: #0080FF;\">Step 1: Load and preprocess data</span>***"
   ]
  },
  {
   "cell_type": "code",
   "execution_count": 331,
   "metadata": {},
   "outputs": [
    {
     "name": "stdout",
     "output_type": "stream",
     "text": [
      "# Users: 1642, # Items: 2071\n"
     ]
    }
   ],
   "source": [
    "from core import GlotMF, GlotMFPreprocessor\n",
    "\n",
    "prep = GlotMFPreprocessor(RATING_DATA_PATH, TRUST_DATA_PATH)\n",
    "ratings_df, trust_df = prep.load_data()\n",
    "reputation_weights = prep.compute_pagerank()\n",
    "trust_neighbors = prep.build_trust_neighbors()\n",
    "trust_neighbors = {u: vs for u, vs in trust_neighbors.items() if len(vs) >= 2}"
   ]
  },
  {
   "cell_type": "markdown",
   "metadata": {},
   "source": [
    "## ***<span style=\"color: #0080FF;\">Step 2: Grid Search (find the best config)</span>***"
   ]
  },
  {
   "cell_type": "code",
   "execution_count": 332,
   "metadata": {},
   "outputs": [
    {
     "name": "stdout",
     "output_type": "stream",
     "text": [
      "\n",
      "🔍 Testing K=10, alpha=0.4, lr=0.005\n",
      "Epoch 1 MAE: 0.6827 RMSE: 0.8585, MSE 0.7370654269861929, R2: 0.12096433317016564\n",
      "Epoch 2 MAE: 0.6611 RMSE: 0.8314, MSE 0.691153074062578, R2: 0.17572011778613927\n",
      "Epoch 3 MAE: 0.6454 RMSE: 0.8136, MSE 0.6618908193666073, R2: 0.21061873686096777\n",
      "Epoch 4 MAE: 0.6339 RMSE: 0.8012, MSE 0.6419976501290547, R2: 0.2343436392181344\n",
      "Epoch 5 MAE: 0.6251 RMSE: 0.7923, MSE 0.6277822844751102, R2: 0.25129710490698043\n",
      "Epoch 6 MAE: 0.6182 RMSE: 0.7856, MSE 0.6171649927304415, R2: 0.2639594518126869\n",
      "Epoch 7 MAE: 0.6127 RMSE: 0.7803, MSE 0.6089113232272596, R2: 0.2738029061518611\n",
      "Epoch 8 MAE: 0.6082 RMSE: 0.7761, MSE 0.6022600767550803, R2: 0.2817352859160679\n",
      "Epoch 9 MAE: 0.6044 RMSE: 0.7725, MSE 0.5967266988939338, R2: 0.2883344782264208\n",
      "Epoch 10 MAE: 0.6012 RMSE: 0.7694, MSE 0.591993955606814, R2: 0.2939788213186465\n",
      "Epoch 11 MAE: 0.5985 RMSE: 0.7667, MSE 0.5878488487263724, R2: 0.29892234011266816\n",
      "Epoch 12 MAE: 0.5960 RMSE: 0.7643, MSE 0.5841450910641494, R2: 0.3033394989796915\n",
      "✅ MAE: 0.5960, RMSE: 0.7643, MSE: 0.5841450910641494, R2: 0.3033394989796915\n",
      "\n",
      "🔍 Testing K=10, alpha=0.4, lr=0.01\n",
      "Epoch 1 MAE: 0.6610 RMSE: 0.8310, MSE 0.6906304381344773, R2: 0.17634342150484128\n",
      "Epoch 2 MAE: 0.6325 RMSE: 0.7997, MSE 0.6394419093271162, R2: 0.23739165536137208\n",
      "Epoch 3 MAE: 0.6158 RMSE: 0.7831, MSE 0.6133123717836989, R2: 0.26855414734305516\n",
      "Epoch 4 MAE: 0.6050 RMSE: 0.7728, MSE 0.597198464418818, R2: 0.2877718433400587\n",
      "Epoch 5 MAE: 0.5971 RMSE: 0.7651, MSE 0.5854326921396626, R2: 0.30180388595459984\n",
      "Epoch 6 MAE: 0.5907 RMSE: 0.7587, MSE 0.5755852435970812, R2: 0.31354810591020865\n",
      "Epoch 7 MAE: 0.5850 RMSE: 0.7527, MSE 0.566493366537171, R2: 0.32439121958978\n",
      "Epoch 8 MAE: 0.5797 RMSE: 0.7467, MSE 0.5575589797555329, R2: 0.3350465079193736\n",
      "Epoch 9 MAE: 0.5743 RMSE: 0.7406, MSE 0.5484836377445602, R2: 0.3458699016429726\n",
      "Epoch 10 MAE: 0.5689 RMSE: 0.7343, MSE 0.5391602652395484, R2: 0.3569891003829774\n",
      "Epoch 11 MAE: 0.5633 RMSE: 0.7277, MSE 0.5296158477609547, R2: 0.36837192078889924\n",
      "Epoch 12 MAE: 0.5576 RMSE: 0.7211, MSE 0.5199645315355, R2: 0.3798822302993019\n",
      "✅ MAE: 0.5576, RMSE: 0.7211, MSE: 0.5199645315355, R2: 0.3798822302993019\n",
      "\n",
      "🔍 Testing K=10, alpha=0.6, lr=0.005\n",
      "Epoch 1 MAE: 0.6829 RMSE: 0.8587, MSE 0.7374292006560358, R2: 0.12053049104606417\n",
      "Epoch 2 MAE: 0.6612 RMSE: 0.8316, MSE 0.6915775756798058, R2: 0.1752138505695422\n",
      "Epoch 3 MAE: 0.6457 RMSE: 0.8139, MSE 0.6623851261617429, R2: 0.2100292189058831\n",
      "Epoch 4 MAE: 0.6342 RMSE: 0.8016, MSE 0.6425723099683787, R2: 0.23365829097554225\n",
      "Epoch 5 MAE: 0.6255 RMSE: 0.7927, MSE 0.6284477012710503, R2: 0.25050351850945984\n",
      "Epoch 6 MAE: 0.6187 RMSE: 0.7861, MSE 0.6179318042771929, R2: 0.2630449404617914\n",
      "Epoch 7 MAE: 0.6132 RMSE: 0.7809, MSE 0.6097903855417838, R2: 0.2727545227932868\n",
      "Epoch 8 MAE: 0.6088 RMSE: 0.7767, MSE 0.6032622908429831, R2: 0.2805400298413552\n",
      "Epoch 9 MAE: 0.6051 RMSE: 0.7732, MSE 0.5978628060577889, R2: 0.28697953919142505\n",
      "Epoch 10 MAE: 0.6019 RMSE: 0.7702, MSE 0.5932743363641743, R2: 0.2924518193570371\n",
      "Epoch 11 MAE: 0.5992 RMSE: 0.7676, MSE 0.5892833324014755, R2: 0.29721155261981735\n",
      "Epoch 12 MAE: 0.5969 RMSE: 0.7653, MSE 0.5857427780799993, R2: 0.30143407264989375\n",
      "✅ MAE: 0.5969, RMSE: 0.7653, MSE: 0.5857427780799993, R2: 0.30143407264989375\n",
      "\n",
      "🔍 Testing K=10, alpha=0.6, lr=0.01\n",
      "Epoch 1 MAE: 0.6607 RMSE: 0.8310, MSE 0.6905845380055047, R2: 0.17639816271098352\n",
      "Epoch 2 MAE: 0.6325 RMSE: 0.7999, MSE 0.639836418542544, R2: 0.23692115754861742\n",
      "Epoch 3 MAE: 0.6162 RMSE: 0.7837, MSE 0.6141812820609458, R2: 0.2675178714616884\n",
      "Epoch 4 MAE: 0.6057 RMSE: 0.7737, MSE 0.5986495386420203, R2: 0.286041269702074\n",
      "Epoch 5 MAE: 0.5983 RMSE: 0.7666, MSE 0.5876312955219688, R2: 0.299181797440474\n",
      "Epoch 6 MAE: 0.5925 RMSE: 0.7608, MSE 0.578746993652276, R2: 0.3097773537268079\n",
      "Epoch 7 MAE: 0.5875 RMSE: 0.7556, MSE 0.5708688754141146, R2: 0.3191729197990939\n",
      "Epoch 8 MAE: 0.5830 RMSE: 0.7506, MSE 0.563406164352216, R2: 0.32807306482621557\n",
      "Epoch 9 MAE: 0.5787 RMSE: 0.7457, MSE 0.5560279401115493, R2: 0.33687244955917495\n",
      "Epoch 10 MAE: 0.5744 RMSE: 0.7406, MSE 0.548549464967787, R2: 0.3457913950749719\n",
      "Epoch 11 MAE: 0.5700 RMSE: 0.7354, MSE 0.5408822288959692, R2: 0.35493545980297114\n",
      "Epoch 12 MAE: 0.5655 RMSE: 0.7301, MSE 0.53300835343382, R2: 0.36432596587474075\n",
      "✅ MAE: 0.5655, RMSE: 0.7301, MSE: 0.53300835343382, R2: 0.36432596587474075\n",
      "\n",
      "🔍 Testing K=10, alpha=0.8, lr=0.005\n",
      "Epoch 1 MAE: 0.6829 RMSE: 0.8588, MSE 0.737546766144638, R2: 0.12039028061984436\n",
      "Epoch 2 MAE: 0.6613 RMSE: 0.8316, MSE 0.6915390821925765, R2: 0.1752597584997969\n",
      "Epoch 3 MAE: 0.6457 RMSE: 0.8138, MSE 0.6622561686847029, R2: 0.2101830155943074\n",
      "Epoch 4 MAE: 0.6341 RMSE: 0.8015, MSE 0.6423792242389608, R2: 0.23388856801296654\n",
      "Epoch 5 MAE: 0.6254 RMSE: 0.7926, MSE 0.6282033333281962, R2: 0.2507949555104828\n",
      "Epoch 6 MAE: 0.6186 RMSE: 0.7859, MSE 0.6176430141535103, R2: 0.26338935604506364\n",
      "Epoch 7 MAE: 0.6131 RMSE: 0.7807, MSE 0.6094610305581458, R2: 0.2731473166580727\n",
      "Epoch 8 MAE: 0.6086 RMSE: 0.7765, MSE 0.6028946472131919, R2: 0.2809784873397496\n",
      "Epoch 9 MAE: 0.6049 RMSE: 0.7730, MSE 0.5974583361894856, R2: 0.28746191623337947\n",
      "Epoch 10 MAE: 0.6018 RMSE: 0.7700, MSE 0.5928341377311139, R2: 0.29297680707831986\n",
      "Epoch 11 MAE: 0.5991 RMSE: 0.7673, MSE 0.5888084109936889, R2: 0.2977779512611055\n",
      "Epoch 12 MAE: 0.5967 RMSE: 0.7650, MSE 0.5852342154931116, R2: 0.3020405922834595\n",
      "✅ MAE: 0.5967, RMSE: 0.7650, MSE: 0.5852342154931116, R2: 0.3020405922834595\n",
      "\n",
      "🔍 Testing K=10, alpha=0.8, lr=0.01\n",
      "Epoch 1 MAE: 0.6605 RMSE: 0.8307, MSE 0.6899843046683725, R2: 0.17711401030394003\n",
      "Epoch 2 MAE: 0.6322 RMSE: 0.7995, MSE 0.6391640710996198, R2: 0.23772300954328884\n",
      "Epoch 3 MAE: 0.6157 RMSE: 0.7832, MSE 0.6133913425859436, R2: 0.26845996553874085\n",
      "Epoch 4 MAE: 0.6050 RMSE: 0.7731, MSE 0.5976723680689064, R2: 0.287206658492396\n",
      "Epoch 5 MAE: 0.5974 RMSE: 0.7658, MSE 0.5863763938522715, R2: 0.30067841264672346\n",
      "Epoch 6 MAE: 0.5913 RMSE: 0.7597, MSE 0.5771055476925301, R2: 0.3117349676521961\n",
      "Epoch 7 MAE: 0.5860 RMSE: 0.7541, MSE 0.5687172075951289, R2: 0.3217390322320053\n",
      "Epoch 8 MAE: 0.5810 RMSE: 0.7487, MSE 0.5606125110536265, R2: 0.3314048191051514\n",
      "Epoch 9 MAE: 0.5761 RMSE: 0.7433, MSE 0.5524644823683674, R2: 0.3411222845654186\n",
      "Epoch 10 MAE: 0.5712 RMSE: 0.7376, MSE 0.5441096948377805, R2: 0.35108633383333876\n",
      "Epoch 11 MAE: 0.5662 RMSE: 0.7318, MSE 0.5355011793468227, R2: 0.36135298300443164\n",
      "Epoch 12 MAE: 0.5611 RMSE: 0.7257, MSE 0.5266807071317139, R2: 0.3718724150541286\n",
      "✅ MAE: 0.5611, RMSE: 0.7257, MSE: 0.5266807071317139, R2: 0.3718724150541286\n",
      "\n",
      "🔍 Testing K=20, alpha=0.4, lr=0.005\n",
      "Epoch 1 MAE: 0.6825 RMSE: 0.8584, MSE 0.7369141630210507, R2: 0.12114473292247785\n",
      "Epoch 2 MAE: 0.6601 RMSE: 0.8304, MSE 0.6896298055778642, R2: 0.1775367914207937\n",
      "Epoch 3 MAE: 0.6439 RMSE: 0.8119, MSE 0.6591799154457905, R2: 0.21385180294777473\n",
      "Epoch 4 MAE: 0.6319 RMSE: 0.7989, MSE 0.6382025730039917, R2: 0.23886970709373834\n",
      "Epoch 5 MAE: 0.6226 RMSE: 0.7893, MSE 0.6229616182288599, R2: 0.257046306284752\n",
      "Epoch 6 MAE: 0.6152 RMSE: 0.7819, MSE 0.6113503596726408, R2: 0.2708940734354025\n",
      "Epoch 7 MAE: 0.6092 RMSE: 0.7760, MSE 0.6021172089871053, R2: 0.28190567223333673\n",
      "Epoch 8 MAE: 0.6042 RMSE: 0.7710, MSE 0.5944899622254488, R2: 0.2910020450894387\n",
      "Epoch 9 MAE: 0.6000 RMSE: 0.7668, MSE 0.5879772230815453, R2: 0.2987692388644321\n",
      "Epoch 10 MAE: 0.5963 RMSE: 0.7631, MSE 0.5822578713635117, R2: 0.3055902264826591\n",
      "Epoch 11 MAE: 0.5929 RMSE: 0.7597, MSE 0.5771171664245196, R2: 0.31172111097211297\n",
      "Epoch 12 MAE: 0.5900 RMSE: 0.7566, MSE 0.5724086445539359, R2: 0.3173365672270825\n",
      "✅ MAE: 0.5900, RMSE: 0.7566, MSE: 0.5724086445539359, R2: 0.3173365672270825\n",
      "\n",
      "🔍 Testing K=20, alpha=0.4, lr=0.01\n",
      "Epoch 1 MAE: 0.6596 RMSE: 0.8294, MSE 0.6878425928048669, R2: 0.17966824910983814\n",
      "Epoch 2 MAE: 0.6300 RMSE: 0.7966, MSE 0.6345523461898738, R2: 0.24322302424055975\n",
      "Epoch 3 MAE: 0.6124 RMSE: 0.7787, MSE 0.606399538834047, R2: 0.2767984991998874\n",
      "Epoch 4 MAE: 0.6005 RMSE: 0.7669, MSE 0.5881222970836892, R2: 0.2985962213580544\n",
      "Epoch 5 MAE: 0.5914 RMSE: 0.7576, MSE 0.5739305443870028, R2: 0.3155215258676223\n",
      "Epoch 6 MAE: 0.5836 RMSE: 0.7492, MSE 0.5613285362216426, R2: 0.33055087637769565\n",
      "Epoch 7 MAE: 0.5763 RMSE: 0.7410, MSE 0.5491249295989131, R2: 0.3451050870251867\n",
      "Epoch 8 MAE: 0.5691 RMSE: 0.7326, MSE 0.5367232915920039, R2: 0.35989547297472313\n",
      "Epoch 9 MAE: 0.5617 RMSE: 0.7238, MSE 0.5238550358811697, R2: 0.3752423544394562\n",
      "Epoch 10 MAE: 0.5539 RMSE: 0.7145, MSE 0.5104688314005518, R2: 0.3912069496451419\n",
      "Epoch 11 MAE: 0.5459 RMSE: 0.7047, MSE 0.4966681088996814, R2: 0.40766590547473525\n",
      "Epoch 12 MAE: 0.5377 RMSE: 0.6947, MSE 0.4826559911842646, R2: 0.42437697451786416\n",
      "✅ MAE: 0.5377, RMSE: 0.6947, MSE: 0.4826559911842646, R2: 0.42437697451786416\n",
      "\n",
      "🔍 Testing K=20, alpha=0.6, lr=0.005\n",
      "Epoch 1 MAE: 0.6822 RMSE: 0.8581, MSE 0.7362557678292657, R2: 0.12192994524591394\n",
      "Epoch 2 MAE: 0.6598 RMSE: 0.8300, MSE 0.6889578283399589, R2: 0.17833820190321448\n",
      "Epoch 3 MAE: 0.6436 RMSE: 0.8115, MSE 0.6585119341505877, R2: 0.2146484478069146\n",
      "Epoch 4 MAE: 0.6315 RMSE: 0.7985, MSE 0.6375497416693549, R2: 0.23964828387479342\n",
      "Epoch 5 MAE: 0.6223 RMSE: 0.7889, MSE 0.6223311913511282, R2: 0.25779816316280446\n",
      "Epoch 6 MAE: 0.6149 RMSE: 0.7815, MSE 0.6107452670684391, R2: 0.2716157162656776\n",
      "Epoch 7 MAE: 0.6089 RMSE: 0.7756, MSE 0.6015371419683965, R2: 0.28259746916197803\n",
      "Epoch 8 MAE: 0.6039 RMSE: 0.7707, MSE 0.5939327943711463, R2: 0.2916665321192341\n",
      "Epoch 9 MAE: 0.5996 RMSE: 0.7664, MSE 0.5874401669228211, R2: 0.29940974037396506\n",
      "Epoch 10 MAE: 0.5959 RMSE: 0.7627, MSE 0.5817382332275237, R2: 0.30620995498796444\n",
      "Epoch 11 MAE: 0.5926 RMSE: 0.7594, MSE 0.5766127536852124, R2: 0.3123226814330522\n",
      "Epoch 12 MAE: 0.5896 RMSE: 0.7563, MSE 0.5719179274269229, R2: 0.31792180408825577\n",
      "✅ MAE: 0.5896, RMSE: 0.7563, MSE: 0.5719179274269229, R2: 0.31792180408825577\n",
      "\n",
      "🔍 Testing K=20, alpha=0.6, lr=0.01\n",
      "Epoch 1 MAE: 0.6597 RMSE: 0.8297, MSE 0.6883895855222686, R2: 0.1790158971062198\n",
      "Epoch 2 MAE: 0.6302 RMSE: 0.7970, MSE 0.6352883894615414, R2: 0.24234520761202583\n",
      "Epoch 3 MAE: 0.6127 RMSE: 0.7793, MSE 0.6073609262742145, R2: 0.27565193361885754\n",
      "Epoch 4 MAE: 0.6009 RMSE: 0.7677, MSE 0.5893521318008857, R2: 0.2971295013883746\n",
      "Epoch 5 MAE: 0.5919 RMSE: 0.7586, MSE 0.5754858774899211, R2: 0.3136666114716823\n",
      "Epoch 6 MAE: 0.5844 RMSE: 0.7505, MSE 0.5632796342268612, R2: 0.32822396661734976\n",
      "Epoch 7 MAE: 0.5774 RMSE: 0.7427, MSE 0.5515553308604033, R2: 0.342206552763047\n",
      "Epoch 8 MAE: 0.5705 RMSE: 0.7347, MSE 0.5397299787564933, R2: 0.35630965120121705\n",
      "Epoch 9 MAE: 0.5634 RMSE: 0.7263, MSE 0.5275459284045345, R2: 0.3708405387366909\n",
      "Epoch 10 MAE: 0.5562 RMSE: 0.7176, MSE 0.5149546676573157, R2: 0.38585707170909844\n",
      "Epoch 11 MAE: 0.5487 RMSE: 0.7086, MSE 0.5020478425618398, R2: 0.401249951620518\n",
      "Epoch 12 MAE: 0.5411 RMSE: 0.6993, MSE 0.4889986367141252, R2: 0.4168126370266815\n",
      "✅ MAE: 0.5411, RMSE: 0.6993, MSE: 0.4889986367141252, R2: 0.4168126370266815\n",
      "\n",
      "🔍 Testing K=20, alpha=0.8, lr=0.005\n",
      "Epoch 1 MAE: 0.6826 RMSE: 0.8583, MSE 0.7367316229063114, R2: 0.12136243309617756\n",
      "Epoch 2 MAE: 0.6603 RMSE: 0.8304, MSE 0.689522583012156, R2: 0.17766466671665726\n",
      "Epoch 3 MAE: 0.6440 RMSE: 0.8119, MSE 0.659145726775297, R2: 0.2138925768867832\n",
      "Epoch 4 MAE: 0.6320 RMSE: 0.7989, MSE 0.6382401323948346, R2: 0.23882491318133048\n",
      "Epoch 5 MAE: 0.6227 RMSE: 0.7893, MSE 0.62306913796869, R2: 0.2569180765744189\n",
      "Epoch 6 MAE: 0.6154 RMSE: 0.7820, MSE 0.6115247113107215, R2: 0.27068613896604365\n",
      "Epoch 7 MAE: 0.6094 RMSE: 0.7761, MSE 0.6023541887623587, R2: 0.2816230464756522\n",
      "Epoch 8 MAE: 0.6044 RMSE: 0.7712, MSE 0.5947848018947948, R2: 0.2906504147241248\n",
      "Epoch 9 MAE: 0.6002 RMSE: 0.7670, MSE 0.5883250061847081, R2: 0.2983544673383127\n",
      "Epoch 10 MAE: 0.5966 RMSE: 0.7633, MSE 0.5826537869642918, R2: 0.3051180513929074\n",
      "Epoch 11 MAE: 0.5933 RMSE: 0.7600, MSE 0.5775566284185514, R2: 0.3111970017779677\n",
      "Epoch 12 MAE: 0.5903 RMSE: 0.7569, MSE 0.5728873238202988, R2: 0.3167656869053376\n",
      "✅ MAE: 0.5903, RMSE: 0.7569, MSE: 0.5728873238202988, R2: 0.3167656869053376\n",
      "\n",
      "🔍 Testing K=20, alpha=0.8, lr=0.01\n",
      "Epoch 1 MAE: 0.6596 RMSE: 0.8297, MSE 0.6883895842431981, R2: 0.17901589863165912\n",
      "Epoch 2 MAE: 0.6301 RMSE: 0.7971, MSE 0.6353890977325252, R2: 0.24222510136514697\n",
      "Epoch 3 MAE: 0.6127 RMSE: 0.7795, MSE 0.6075803837613222, R2: 0.2753902052139461\n",
      "Epoch 4 MAE: 0.6010 RMSE: 0.7680, MSE 0.5897535489288189, R2: 0.2966507650919613\n",
      "Epoch 5 MAE: 0.5922 RMSE: 0.7591, MSE 0.5761607217236251, R2: 0.3128617817655789\n",
      "Epoch 6 MAE: 0.5848 RMSE: 0.7512, MSE 0.56433851117115, R2: 0.3269611335407536\n",
      "Epoch 7 MAE: 0.5781 RMSE: 0.7437, MSE 0.5531122441162519, R2: 0.3403497538521999\n",
      "Epoch 8 MAE: 0.5715 RMSE: 0.7361, MSE 0.5418761780925159, R2: 0.3537500605659536\n",
      "Epoch 9 MAE: 0.5649 RMSE: 0.7282, MSE 0.530316232469231, R2: 0.3675366311164553\n",
      "Epoch 10 MAE: 0.5581 RMSE: 0.7199, MSE 0.5182963132283022, R2: 0.3818717733417446\n",
      "Epoch 11 MAE: 0.5510 RMSE: 0.7112, MSE 0.5058057423647625, R2: 0.39676822199625805\n",
      "Epoch 12 MAE: 0.5436 RMSE: 0.7021, MSE 0.49292728602156644, R2: 0.41212726889345064\n",
      "✅ MAE: 0.5436, RMSE: 0.7021, MSE: 0.49292728602156644, R2: 0.41212726889345064\n",
      "\n",
      "🏆 Best config: K=20, alpha=0.4, lr=0.01 — MAE=0.5377\n"
     ]
    }
   ],
   "source": [
    "from tools import evaluate_model\n",
    "import itertools\n",
    "import json\n",
    "import os\n",
    "\n",
    "if os.path.exists(MODEL_CONFIG_PATH):\n",
    "    with open(MODEL_CONFIG_PATH, 'r') as f:\n",
    "        best_config = json.load(f)\n",
    "else:\n",
    "    K_values = [10, 20]\n",
    "    alpha_values = [0.4, 0.6, 0.8]\n",
    "    lr_values = [0.005, 0.01]\n",
    "\n",
    "    best_mae = float('inf')\n",
    "    best_config = None\n",
    "\n",
    "    for K, alpha, lr in itertools.product(K_values, alpha_values, lr_values):\n",
    "        print(f\"\\n🔍 Testing K={K}, alpha={alpha}, lr={lr}\")\n",
    "        model = GlotMF(num_users=prep.num_users, num_items=prep.num_items,\n",
    "                        K=K, alpha=alpha, lr=lr,\n",
    "                        lambda_reg=0.001, lambda_B=0.1, lambda_E=0.1)\n",
    "\n",
    "        model.train(ratings_df, reputation_weights,\n",
    "                    prep.user_id_to_idx, prep.item_id_to_idx, trust_neighbors, epochs=epoch_count)\n",
    "\n",
    "        mae, rmse, mse, r2 = evaluate_model(model, ratings_df, prep.user_id_to_idx, prep.item_id_to_idx)\n",
    "        print(f\"✅ MAE: {mae:.4f}, RMSE: {rmse:.4f}, MSE: {mse}, R2: {r2}\")\n",
    "\n",
    "        if mae < best_mae:\n",
    "            best_mae = mae\n",
    "            best_config = {'K': K, 'alpha': alpha, 'lr': lr}\n",
    "        \n",
    "    with open(MODEL_CONFIG_PATH, 'w') as f:\n",
    "        json.dump(best_config, f, indent=4)\n",
    "   \n",
    "    print(f\"\\n🏆 Best config: K={best_config['K']}, alpha={best_config['alpha']}, lr={best_config['lr']} — MAE={best_mae:.4f}\")"
   ]
  },
  {
   "cell_type": "markdown",
   "metadata": {},
   "source": [
    "## ***<span style=\"color: #0080FF;\">Step 3: Initialize and train model</span>***"
   ]
  },
  {
   "cell_type": "code",
   "execution_count": 333,
   "metadata": {},
   "outputs": [
    {
     "name": "stdout",
     "output_type": "stream",
     "text": [
      "Epoch 1 MAE: 0.6601 RMSE: 0.8298, MSE 0.6885635757330747, R2: 0.1788083936806376\n",
      "Epoch 2 MAE: 0.6306 RMSE: 0.7971, MSE 0.6352937413899458, R2: 0.2423388248191536\n",
      "Epoch 3 MAE: 0.6129 RMSE: 0.7792, MSE 0.6071687207546643, R2: 0.27588116090433346\n",
      "Epoch 4 MAE: 0.6009 RMSE: 0.7674, MSE 0.5889197110051726, R2: 0.2976452131401318\n",
      "Epoch 5 MAE: 0.5917 RMSE: 0.7581, MSE 0.5747597316536612, R2: 0.3145326242651495\n",
      "Epoch 6 MAE: 0.5839 RMSE: 0.7498, MSE 0.562194282468088, R2: 0.32951837396856587\n",
      "Epoch 7 MAE: 0.5767 RMSE: 0.7416, MSE 0.5500326092401872, R2: 0.3440225741986149\n",
      "Epoch 8 MAE: 0.5694 RMSE: 0.7333, MSE 0.5376797855582671, R2: 0.35875474342661384\n",
      "Epoch 9 MAE: 0.5620 RMSE: 0.7245, MSE 0.524869814140963, R2: 0.3740321141383621\n",
      "Epoch 10 MAE: 0.5543 RMSE: 0.7152, MSE 0.5115545392497698, R2: 0.38991211761493516\n",
      "Epoch 11 MAE: 0.5463 RMSE: 0.7056, MSE 0.4978408222992561, R2: 0.4062673092749236\n",
      "Epoch 12 MAE: 0.5380 RMSE: 0.6957, MSE 0.4839353777020917, R2: 0.4228511583017518\n"
     ]
    }
   ],
   "source": [
    "model = GlotMF(num_users=prep.num_users, num_items=prep.num_items,\n",
    "                   K=best_config['K'], alpha=best_config['alpha'], lr=best_config['lr'],\n",
    "                   lambda_reg=0.001, lambda_B=0.1, lambda_E=0.1)\n",
    "    \n",
    "model.train(ratings_df, reputation_weights,\n",
    "            prep.user_id_to_idx, prep.item_id_to_idx, trust_neighbors, epochs=epoch_count)"
   ]
  },
  {
   "cell_type": "markdown",
   "metadata": {},
   "source": [
    "## ***<span style=\"color: #0080FF;\">Step 4: Evaluate</span>***"
   ]
  },
  {
   "cell_type": "code",
   "execution_count": 334,
   "metadata": {},
   "outputs": [
    {
     "name": "stdout",
     "output_type": "stream",
     "text": [
      "Final MAE: 0.5380, RMSE: 0.6957, MSE: 0.4839353777020917, R2: 0.4228511583017518\n"
     ]
    }
   ],
   "source": [
    "mae, rmse, mse, r2 = evaluate_model(model, ratings_df, prep.user_id_to_idx, prep.item_id_to_idx)\n",
    "print(f\"Final MAE: {mae:.4f}, RMSE: {rmse:.4f}, MSE: {mse}, R2: {r2}\")"
   ]
  },
  {
   "cell_type": "markdown",
   "metadata": {},
   "source": [
    "## ***<span style=\"color: #0080FF;\">Step 5: Generate Submission</span>***"
   ]
  },
  {
   "cell_type": "code",
   "execution_count": 335,
   "metadata": {},
   "outputs": [
    {
     "name": "stdout",
     "output_type": "stream",
     "text": [
      "✅ Submission saved to 'content/q3_dataset/submission.csv'\n"
     ]
    }
   ],
   "source": [
    "from tools import generate_submission\n",
    "\n",
    "test_data = pd.read_csv(TEST_DATA_PATH)\n",
    "generate_submission(model, test_data, prep.user_id_to_idx, prep.item_id_to_idx, SUBMISSION_PATH)"
   ]
  },
  {
   "cell_type": "markdown",
   "metadata": {},
   "source": [
    "# ***<span style=\"color: #f3ce13;\">Validation</span>***"
   ]
  },
  {
   "cell_type": "code",
   "execution_count": 336,
   "metadata": {},
   "outputs": [
    {
     "name": "stdout",
     "output_type": "stream",
     "text": [
      "Epoch 1 MAE: 0.6673 RMSE: 0.8374, MSE 0.7012391182867205, R2: 0.16101808663166728\n",
      "Epoch 2 MAE: 0.6386 RMSE: 0.8045, MSE 0.647201239931326, R2: 0.22567050175611414\n",
      "Epoch 3 MAE: 0.6202 RMSE: 0.7853, MSE 0.6166832376776638, R2: 0.2621830853460212\n",
      "Epoch 4 MAE: 0.6076 RMSE: 0.7726, MSE 0.59685446502554, R2: 0.28590677842816103\n",
      "Epoch 5 MAE: 0.5981 RMSE: 0.7631, MSE 0.5822492855169668, R2: 0.3033808199207815\n",
      "Epoch 6 MAE: 0.5905 RMSE: 0.7552, MSE 0.5703051028722724, R2: 0.31767117102576514\n",
      "Epoch 7 MAE: 0.5839 RMSE: 0.7481, MSE 0.5597280663291403, R2: 0.3303258306494393\n",
      "Epoch 8 MAE: 0.5778 RMSE: 0.7415, MSE 0.5498270859996623, R2: 0.3421716378846985\n",
      "Epoch 9 MAE: 0.5722 RMSE: 0.7350, MSE 0.5402231389932843, R2: 0.35366206622102037\n",
      "Epoch 10 MAE: 0.5666 RMSE: 0.7285, MSE 0.5307142443847572, R2: 0.36503877123452744\n",
      "Epoch 11 MAE: 0.5610 RMSE: 0.7219, MSE 0.5212074804516318, R2: 0.37641292704894036\n",
      "Epoch 12 MAE: 0.5555 RMSE: 0.7153, MSE 0.5116803832077843, R2: 0.3878114101997636\n",
      "Train MAE: 0.5555, RMSE: 0.7153, MSE: 0.5116803832077843, R2: 0.3878114101997636\n",
      "Validation MAE: 0.6159, RMSE: 0.7959, MSE: 0.6334168262052456, R2: 0.2540642393510294\n"
     ]
    }
   ],
   "source": [
    "from sklearn.model_selection import train_test_split\n",
    "\n",
    "model = GlotMF(num_users=prep.num_users, num_items=prep.num_items,\n",
    "                K=best_config['K'], alpha=best_config['alpha'], lr=best_config['lr'],\n",
    "                lambda_reg=0.01, lambda_B=0.1, lambda_E=0.1)\n",
    "\n",
    "train_df, val_df = train_test_split(ratings_df, test_size=0.2, random_state=491)\n",
    "\n",
    "model.train(train_df, reputation_weights,\n",
    "            prep.user_id_to_idx, prep.item_id_to_idx, trust_neighbors, epochs=epoch_count)\n",
    "\n",
    "mae_train, rmse_train, mse_train, r2_train = evaluate_model(model, train_df, prep.user_id_to_idx, prep.item_id_to_idx)\n",
    "mae_val, rmse_val, mse_val, r2_val = evaluate_model(model, val_df, prep.user_id_to_idx, prep.item_id_to_idx)\n",
    "print(f\"Train MAE: {mae_train:.4f}, RMSE: {rmse_train:.4f}, MSE: {mse_train}, R2: {r2_train}\")\n",
    "print(f\"Validation MAE: {mae_val:.4f}, RMSE: {rmse_val:.4f}, MSE: {mse_val}, R2: {r2_val}\")\n"
   ]
  }
 ],
 "metadata": {
  "kernelspec": {
   "display_name": "Python 3",
   "language": "python",
   "name": "python3"
  },
  "language_info": {
   "codemirror_mode": {
    "name": "ipython",
    "version": 3
   },
   "file_extension": ".py",
   "mimetype": "text/x-python",
   "name": "python",
   "nbconvert_exporter": "python",
   "pygments_lexer": "ipython3",
   "version": "3.12.3"
  }
 },
 "nbformat": 4,
 "nbformat_minor": 2
}
